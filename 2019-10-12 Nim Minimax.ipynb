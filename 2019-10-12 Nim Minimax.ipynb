{
 "cells": [
  {
   "cell_type": "markdown",
   "metadata": {},
   "source": [
    "## Nim with Minimax"
   ]
  },
  {
   "cell_type": "code",
   "execution_count": 1,
   "metadata": {},
   "outputs": [
    {
     "name": "stdout",
     "output_type": "stream",
     "text": [
      "Version:  0.2.14\n"
     ]
    }
   ],
   "source": [
    "from Game import *\n",
    "from Game.minimax import *"
   ]
  },
  {
   "cell_type": "code",
   "execution_count": 16,
   "metadata": {},
   "outputs": [],
   "source": [
    "def initial_state(size=9):\n",
    "    state=size\n",
    "    return state"
   ]
  },
  {
   "cell_type": "code",
   "execution_count": 17,
   "metadata": {},
   "outputs": [],
   "source": [
    "def update_state(state,player,move):\n",
    "    new_state=state-move\n",
    "    return new_state"
   ]
  },
  {
   "cell_type": "code",
   "execution_count": 18,
   "metadata": {},
   "outputs": [],
   "source": [
    "def win_status(state,player):\n",
    "    # this is called after the state is updated\n",
    "    if state==1:\n",
    "        return 'win'\n",
    "    \n",
    "    if state==0:\n",
    "        return 'lose'\n",
    "    "
   ]
  },
  {
   "cell_type": "code",
   "execution_count": 19,
   "metadata": {},
   "outputs": [],
   "source": [
    "def valid_moves(state,player):\n",
    "    \n",
    "    if state==1:\n",
    "        moves=[ 1 ]\n",
    "    elif state==2:\n",
    "        moves=[1,2]\n",
    "    else:\n",
    "        moves=[1,2,3]\n",
    "    \n",
    "    \n",
    "    return moves"
   ]
  },
  {
   "cell_type": "code",
   "execution_count": 20,
   "metadata": {},
   "outputs": [],
   "source": [
    "def show_state(state):\n",
    "    print(\"There are \",state,\"number of sticks\")"
   ]
  },
  {
   "cell_type": "markdown",
   "metadata": {},
   "source": [
    "## Agents"
   ]
  },
  {
   "cell_type": "code",
   "execution_count": 21,
   "metadata": {},
   "outputs": [],
   "source": [
    "def human_move(state,player):\n",
    "    move=input('How many sticks do you take?')\n",
    "    move=int(move)\n",
    "    return move\n",
    "\n",
    "\n",
    "human_agent=Agent(human_move)"
   ]
  },
  {
   "cell_type": "code",
   "execution_count": 22,
   "metadata": {},
   "outputs": [],
   "source": [
    "def random_move(state,player):\n",
    "    moves=valid_moves(state,player)\n",
    "    return random.choice(moves)\n",
    "\n",
    "random_agent=Agent(random_move)"
   ]
  },
  {
   "cell_type": "code",
   "execution_count": 23,
   "metadata": {},
   "outputs": [],
   "source": [
    "def minimax_move(state,player):\n",
    "\n",
    "    values,moves=minimax_values(state,player,display=False)\n",
    "    return top_choice(moves,values)\n",
    "\n",
    "\n",
    "minimax_agent=Agent(minimax_move)"
   ]
  },
  {
   "cell_type": "markdown",
   "metadata": {},
   "source": [
    "## Running the Game"
   ]
  },
  {
   "cell_type": "code",
   "execution_count": 37,
   "metadata": {},
   "outputs": [
    {
     "name": "stdout",
     "output_type": "stream",
     "text": [
      "====\n",
      "Game  1\n",
      "There are  9 number of sticks\n",
      "Player 1 moves 3\n",
      "There are  6 number of sticks\n",
      "Player 2 moves 1\n",
      "There are  5 number of sticks\n",
      "Player 1 moves 1\n",
      "There are  4 number of sticks\n",
      "Player 2 moves 3\n",
      "There are  1 number of sticks\n",
      "Player  2 won.\n"
     ]
    },
    {
     "data": {
      "text/plain": [
       "[2]"
      ]
     },
     "execution_count": 37,
     "metadata": {},
     "output_type": "execute_result"
    }
   ],
   "source": [
    "g=Game(size=9)\n",
    "g.run(random_agent,minimax_agent)"
   ]
  },
  {
   "cell_type": "code",
   "execution_count": 38,
   "metadata": {},
   "outputs": [
    {
     "name": "stdout",
     "output_type": "stream",
     "text": [
      "[1, 1, 1, 2, 1, 1, 1, 1, 1, 1, 1, 1, 1, 1, 1, 2, 1, 1, 1, 1, 1, 1, 1, 1, 1, 1, 1, 1, 1, 1, 1, 1, 1, 1, 1, 1, 1, 1, 1, 1, 1, 1, 1, 1, 1, 1, 1, 2, 1, 1, 1, 2, 1, 1, 1, 1, 1, 1, 1, 1, 1, 1, 2, 1, 1, 1, 1, 1, 1, 2, 1, 1, 2, 1, 1, 1, 1, 1, 1, 1, 1, 1, 2, 2, 1, 1, 1, 1, 1, 1, 1, 1, 1, 1, 1, 1, 1, 1, 2, 1]\n"
     ]
    }
   ],
   "source": [
    "g=Game(number_of_games=100)\n",
    "g.display=False\n",
    "result=g.run(minimax_agent,random_agent)\n",
    "print(result)"
   ]
  },
  {
   "cell_type": "code",
   "execution_count": null,
   "metadata": {},
   "outputs": [],
   "source": []
  },
  {
   "cell_type": "code",
   "execution_count": null,
   "metadata": {},
   "outputs": [],
   "source": []
  }
 ],
 "metadata": {
  "kernelspec": {
   "display_name": "Python 3",
   "language": "python",
   "name": "python3"
  },
  "language_info": {
   "codemirror_mode": {
    "name": "ipython",
    "version": 3
   },
   "file_extension": ".py",
   "mimetype": "text/x-python",
   "name": "python",
   "nbconvert_exporter": "python",
   "pygments_lexer": "ipython3",
   "version": "3.7.4"
  }
 },
 "nbformat": 4,
 "nbformat_minor": 4
}

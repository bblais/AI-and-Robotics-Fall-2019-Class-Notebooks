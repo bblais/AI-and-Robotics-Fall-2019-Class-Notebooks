{
 "cells": [
  {
   "cell_type": "code",
   "execution_count": 1,
   "metadata": {},
   "outputs": [],
   "source": [
    "%matplotlib tk"
   ]
  },
  {
   "cell_type": "code",
   "execution_count": 2,
   "metadata": {},
   "outputs": [],
   "source": [
    "from pylab import *"
   ]
  },
  {
   "cell_type": "code",
   "execution_count": 5,
   "metadata": {},
   "outputs": [],
   "source": [
    "def onkey(event):\n",
    "    global locations\n",
    "    import os\n",
    "    import json\n",
    "    \n",
    "    \n",
    "    if event.key=='escape':\n",
    "        print(\"locations=\",array(locations).__repr__())\n",
    "        with open('locations.json', 'w') as outfile:\n",
    "            json.dump(locations, outfile)\n",
    "    \n",
    "def onclick(event):\n",
    "    from pylab import plot,show\n",
    "    global ix, iy\n",
    "    global locations\n",
    "    \n",
    "    ix, iy = event.xdata, event.ydata\n",
    "    global coords\n",
    "    coords = [ix, iy]\n",
    "\n",
    "    locations.append(coords)\n",
    "    \n",
    "    plot(ix,iy,'go')\n",
    "    show()\n",
    "    return coords\n",
    "\n",
    "def get_square_locations(filefilter):\n",
    "    from pylab import imread,imsave,imshow,figure,show\n",
    "    from glob import glob\n",
    "    global locations\n",
    "    locations=[]\n",
    "    stop=False\n",
    "    \n",
    "    fnames=glob(filefilter)\n",
    "    \n",
    "    fig=figure()\n",
    "    arr=imread(fnames[0])\n",
    "    imshow(arr)\n",
    "    \n",
    "    cid = fig.canvas.mpl_connect('button_press_event', onclick)\n",
    "    cid2 = fig.canvas.mpl_connect('key_press_event', onkey)\n",
    "    show()\n",
    "    \n"
   ]
  },
  {
   "cell_type": "code",
   "execution_count": 6,
   "metadata": {},
   "outputs": [
    {
     "name": "stdout",
     "output_type": "stream",
     "text": [
      "locations= array([[ 88.22727273,  56.69480519],\n",
      "       [149.00649351,  54.35714286],\n",
      "       [206.66883117,  58.25324675],\n",
      "       [266.66883117,  55.13636364],\n",
      "       [ 85.88961039, 111.24025974],\n",
      "       [146.66883117, 111.24025974],\n",
      "       [205.88961039, 107.34415584],\n",
      "       [266.66883117, 108.12337662],\n",
      "       [ 78.0974026 , 165.00649351],\n",
      "       [145.88961039, 161.88961039],\n",
      "       [205.88961039, 165.78571429],\n",
      "       [268.22727273, 163.44805195],\n",
      "       [ 74.98051948, 223.44805195],\n",
      "       [148.22727273, 226.56493506],\n",
      "       [208.22727273, 223.44805195],\n",
      "       [278.35714286, 223.44805195]])\n"
     ]
    }
   ],
   "source": [
    "get_square_locations('/Users/bblais/Desktop/ai373/images/board images/*.jpg')"
   ]
  },
  {
   "cell_type": "code",
   "execution_count": null,
   "metadata": {},
   "outputs": [],
   "source": []
  }
 ],
 "metadata": {
  "kernelspec": {
   "display_name": "Python 3",
   "language": "python",
   "name": "python3"
  },
  "language_info": {
   "codemirror_mode": {
    "name": "ipython",
    "version": 3
   },
   "file_extension": ".py",
   "mimetype": "text/x-python",
   "name": "python",
   "nbconvert_exporter": "python",
   "pygments_lexer": "ipython3",
   "version": "3.7.4"
  }
 },
 "nbformat": 4,
 "nbformat_minor": 4
}

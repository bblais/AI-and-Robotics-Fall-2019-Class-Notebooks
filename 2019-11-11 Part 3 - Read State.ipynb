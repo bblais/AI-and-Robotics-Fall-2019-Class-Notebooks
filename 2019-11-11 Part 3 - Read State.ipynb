{
 "cells": [
  {
   "cell_type": "code",
   "execution_count": 6,
   "metadata": {},
   "outputs": [
    {
     "name": "stdout",
     "output_type": "stream",
     "text": [
      "Populating the interactive namespace from numpy and matplotlib\n"
     ]
    },
    {
     "name": "stderr",
     "output_type": "stream",
     "text": [
      "/Users/bblais/anaconda3/lib/python3.7/site-packages/IPython/core/magics/pylab.py:160: UserWarning: pylab import has clobbered these variables: ['randint', 'split', 'argmax', 'prod', 'text', 'copy', 'random', 'draw']\n",
      "`%matplotlib` prevents importing * from pylab and numpy\n",
      "  \"\\n`%matplotlib` prevents importing * from pylab and numpy\"\n"
     ]
    }
   ],
   "source": [
    "# use this in a notebook, not on the robot\n",
    "%pylab inline "
   ]
  },
  {
   "cell_type": "code",
   "execution_count": 7,
   "metadata": {},
   "outputs": [],
   "source": [
    "# use this on the robot\n",
    "# from pylab import *   "
   ]
  },
  {
   "cell_type": "code",
   "execution_count": 8,
   "metadata": {},
   "outputs": [],
   "source": [
    "from Game import *\n",
    "from classy import *"
   ]
  },
  {
   "cell_type": "code",
   "execution_count": 9,
   "metadata": {},
   "outputs": [],
   "source": [
    "def copyfile(src,dst):\n",
    "    import platform,os\n",
    "    s=platform.system()\n",
    "    if s==\"Windows\":\n",
    "        copy_command=\"copy /y\"\n",
    "        src=src.replace('/','\\\\')\n",
    "        dst=dst.replace('/','\\\\')\n",
    "    else:\n",
    "        copy_command=\"cp -f\"\n",
    "        \n",
    "    cmd=copy_command+\" \"+src+\" \"+dst\n",
    "    print(cmd)\n",
    "    os.system(cmd)"
   ]
  },
  {
   "cell_type": "code",
   "execution_count": 10,
   "metadata": {},
   "outputs": [
    {
     "data": {
      "text/plain": [
       "\u001b[0;31mType:\u001b[0m        module\n",
       "\u001b[0;31mString form:\u001b[0m <module 'classy.image' from '/Users/bblais/anaconda3/lib/python3.7/site-packages/classy/image.py'>\n",
       "\u001b[0;31mFile:\u001b[0m        ~/anaconda3/lib/python3.7/site-packages/classy/image.py\n",
       "\u001b[0;31mDocstring:\u001b[0m   <no docstring>\n"
      ]
     },
     "metadata": {},
     "output_type": "display_data"
    }
   ],
   "source": [
    "image?"
   ]
  },
  {
   "cell_type": "code",
   "execution_count": 11,
   "metadata": {},
   "outputs": [],
   "source": [
    "# get rid of this for the robot, because it has it's own take_picture function\n",
    "def take_picture(filename='picture.jpg',view=False):\n",
    "    copyfile('/Users/bblais/Desktop/ai373/images/board images/test9.jpg',filename)\n",
    "    print(\"Took picture \",filename)\n",
    "    \n",
    "# def take_picture(filename='picture.jpg',view=False):  # takes the newest one in the list\n",
    "#     # replace this function with one that actually takes a picture\n",
    "#     from glob import glob\n",
    "#     import os\n",
    "#     fnames=glob('/Users/bblais/Desktop/ai373/images/board images/*.jpg')\n",
    "#     newest = max(fnames, key=os.path.getctime)\n",
    "\n",
    "#     copyfile(newest,filename)\n",
    "#     print(\"Took picture \",filename)    \n"
   ]
  },
  {
   "cell_type": "code",
   "execution_count": 12,
   "metadata": {},
   "outputs": [],
   "source": [
    "def get_square(arr,index,shape,locations=None):\n",
    "    import json\n",
    "    \n",
    "    if locations is None:\n",
    "        with open('locations.json') as json_file:\n",
    "            locations = json.load(json_file)        \n",
    "    \n",
    "    try:\n",
    "        location=locations[index]\n",
    "    except IndexError:\n",
    "        print(\"locations.json file probably corrupt.\")\n",
    "        raise \n",
    "        \n",
    "    c,r=location\n",
    "    c1=int(c-shape[1]/2)\n",
    "    c2=int(c+shape[1]/2)\n",
    "    r1=int(r-shape[0]/2)\n",
    "    r2=int(r+shape[0]/2)\n",
    "\n",
    "    c2=c2+(shape[1]-(c2-c1))\n",
    "    r2=r2+(shape[0]-(r2-r1))\n",
    "\n",
    "    square=arr[r1:r2,c1:c2,:]\n",
    "    \n",
    "    return square\n"
   ]
  },
  {
   "cell_type": "markdown",
   "metadata": {},
   "source": [
    "### train classifier"
   ]
  },
  {
   "cell_type": "code",
   "execution_count": 15,
   "metadata": {},
   "outputs": [
    {
     "name": "stdout",
     "output_type": "stream",
     "text": [
      "[black]: 58 files found\n",
      "[red]: 56 files found\n",
      "[white]: 46 files found\n",
      "160 vectors of length 4800\n",
      "Feature names: 'p0', 'p1', 'p2', 'p3', 'p4'  , ... ,  'p4795', 'p4796', 'p4797', 'p4798', 'p4799'  (4800 features)\n",
      "Target values given.\n",
      "Target names: 'black', 'red', 'white'\n",
      "Mean:  [181.69375 181.98125 173.61875 ... 182.34375 184.975   176.9125 ]\n",
      "Median:  [184. 188. 179. ... 184. 188. 181.]\n",
      "Stddev:  [19.17745971 25.58257998 25.00971608 ... 10.69582096 17.79569822\n",
      " 17.12869942]\n",
      "Time Reset\n",
      "Training time:  0.007158756256103516 seconds \n"
     ]
    }
   ],
   "source": [
    "images=image.load_images('/Users/bblais/Desktop/ai373/images/board images/squares')\n",
    "shape=images.data[0].shape[:2]\n",
    "data_train=data=image.images_to_vectors(images,verbose=True)  # train on all of them\n",
    "\n",
    "classifier=kNearestNeighbor()\n",
    "timeit(reset=True)\n",
    "classifier.fit(data_train.vectors,data_train.targets)\n",
    "print(\"Training time: \",timeit())"
   ]
  },
  {
   "cell_type": "code",
   "execution_count": 13,
   "metadata": {},
   "outputs": [
    {
     "data": {
      "text/plain": [
       "(40, 40, 3)"
      ]
     },
     "execution_count": 13,
     "metadata": {},
     "output_type": "execute_result"
    }
   ],
   "source": [
    "data_train.shape"
   ]
  },
  {
   "cell_type": "code",
   "execution_count": 14,
   "metadata": {},
   "outputs": [],
   "source": [
    "def read_state_from_file(filename='current_board.txt'):\n",
    "    with open(filename) as fid:\n",
    "        text=fid.read()\n",
    "\n",
    "    text2=text.strip().split('\\n')\n",
    "    number_of_rows=len(text2)\n",
    "    number_of_cols=len(text2[0].split())\n",
    "    \n",
    "    b=Board(number_of_rows,number_of_cols)\n",
    "        \n",
    "    board=[int(v) for v in text.split()]\n",
    "    b.board=board\n",
    "    return b\n",
    "    \n",
    "def read_state():\n",
    "    \n",
    "    take_picture('current_board.jpg')\n",
    "    arr=imread('current_board.jpg')\n",
    "    \n",
    "    \n",
    "    \n",
    "    \n",
    "    # get predictions\n",
    "    shape=data_train.shape[:2]\n",
    "    squares=[get_square(arr,i,shape) for i in range(16)]\n",
    "    test_images=image.array_to_image_struct(squares)\n",
    "    test_data=image.images_to_vectors(test_images)\n",
    "    predictions=classifier.predict(test_data.vectors)\n",
    "\n",
    "    \n",
    "    \n",
    "    state=Board(4,4)\n",
    "    for i in range(16):\n",
    "        color=data_train.target_names[predictions[i]]\n",
    "        if color==\"white\":\n",
    "            state[i]=0\n",
    "        elif color==\"black\":\n",
    "            state[i]=1\n",
    "        elif color==\"red\":\n",
    "            state[i]=2\n",
    "        else:\n",
    "            raise ValueError(\"You can't get there from here.\")\n",
    "\n",
    "    print(\"Current state is:\")\n",
    "    print(state)\n",
    "    \n",
    "    x=input(\"\"\"\n",
    "    Hit return if this is correct, otherwise type a character \n",
    "    and the state will be read from current_board.txt.\"\"\")\n",
    "    \n",
    "    if x:\n",
    "        state=read_state_from_file()\n",
    "        \n",
    "    print(\"Using\")\n",
    "    print(state)\n",
    "    \n",
    "    return state\n",
    "        "
   ]
  },
  {
   "cell_type": "code",
   "execution_count": 15,
   "metadata": {},
   "outputs": [
    {
     "name": "stdout",
     "output_type": "stream",
     "text": [
      "cp -f /Users/bblais/Desktop/ai373/images/board images/test9.jpg current_board.jpg\n",
      "Took picture  current_board.jpg\n",
      "locations.json file probably corrupt.\n"
     ]
    },
    {
     "ename": "IndexError",
     "evalue": "list index out of range",
     "output_type": "error",
     "traceback": [
      "\u001b[0;31m---------------------------------------------------------------------------\u001b[0m",
      "\u001b[0;31mIndexError\u001b[0m                                Traceback (most recent call last)",
      "\u001b[0;32m<ipython-input-15-8fcf75a89d51>\u001b[0m in \u001b[0;36m<module>\u001b[0;34m\u001b[0m\n\u001b[0;32m----> 1\u001b[0;31m \u001b[0mstate\u001b[0m\u001b[0;34m=\u001b[0m\u001b[0mread_state\u001b[0m\u001b[0;34m(\u001b[0m\u001b[0;34m)\u001b[0m\u001b[0;34m\u001b[0m\u001b[0;34m\u001b[0m\u001b[0m\n\u001b[0m",
      "\u001b[0;32m<ipython-input-14-23b4380f3316>\u001b[0m in \u001b[0;36mread_state\u001b[0;34m()\u001b[0m\n\u001b[1;32m     20\u001b[0m     \u001b[0;31m# get predictions\u001b[0m\u001b[0;34m\u001b[0m\u001b[0;34m\u001b[0m\u001b[0;34m\u001b[0m\u001b[0m\n\u001b[1;32m     21\u001b[0m     \u001b[0mshape\u001b[0m\u001b[0;34m=\u001b[0m\u001b[0mdata_train\u001b[0m\u001b[0;34m.\u001b[0m\u001b[0mshape\u001b[0m\u001b[0;34m[\u001b[0m\u001b[0;34m:\u001b[0m\u001b[0;36m2\u001b[0m\u001b[0;34m]\u001b[0m\u001b[0;34m\u001b[0m\u001b[0;34m\u001b[0m\u001b[0m\n\u001b[0;32m---> 22\u001b[0;31m     \u001b[0msquares\u001b[0m\u001b[0;34m=\u001b[0m\u001b[0;34m[\u001b[0m\u001b[0mget_square\u001b[0m\u001b[0;34m(\u001b[0m\u001b[0marr\u001b[0m\u001b[0;34m,\u001b[0m\u001b[0mi\u001b[0m\u001b[0;34m,\u001b[0m\u001b[0mshape\u001b[0m\u001b[0;34m)\u001b[0m \u001b[0;32mfor\u001b[0m \u001b[0mi\u001b[0m \u001b[0;32min\u001b[0m \u001b[0mrange\u001b[0m\u001b[0;34m(\u001b[0m\u001b[0;36m16\u001b[0m\u001b[0;34m)\u001b[0m\u001b[0;34m]\u001b[0m\u001b[0;34m\u001b[0m\u001b[0;34m\u001b[0m\u001b[0m\n\u001b[0m\u001b[1;32m     23\u001b[0m     \u001b[0mtest_images\u001b[0m\u001b[0;34m=\u001b[0m\u001b[0mimage\u001b[0m\u001b[0;34m.\u001b[0m\u001b[0marray_to_image_struct\u001b[0m\u001b[0;34m(\u001b[0m\u001b[0msquares\u001b[0m\u001b[0;34m)\u001b[0m\u001b[0;34m\u001b[0m\u001b[0;34m\u001b[0m\u001b[0m\n\u001b[1;32m     24\u001b[0m     \u001b[0mtest_data\u001b[0m\u001b[0;34m=\u001b[0m\u001b[0mimage\u001b[0m\u001b[0;34m.\u001b[0m\u001b[0mimages_to_vectors\u001b[0m\u001b[0;34m(\u001b[0m\u001b[0mtest_images\u001b[0m\u001b[0;34m)\u001b[0m\u001b[0;34m\u001b[0m\u001b[0;34m\u001b[0m\u001b[0m\n",
      "\u001b[0;32m<ipython-input-14-23b4380f3316>\u001b[0m in \u001b[0;36m<listcomp>\u001b[0;34m(.0)\u001b[0m\n\u001b[1;32m     20\u001b[0m     \u001b[0;31m# get predictions\u001b[0m\u001b[0;34m\u001b[0m\u001b[0;34m\u001b[0m\u001b[0;34m\u001b[0m\u001b[0m\n\u001b[1;32m     21\u001b[0m     \u001b[0mshape\u001b[0m\u001b[0;34m=\u001b[0m\u001b[0mdata_train\u001b[0m\u001b[0;34m.\u001b[0m\u001b[0mshape\u001b[0m\u001b[0;34m[\u001b[0m\u001b[0;34m:\u001b[0m\u001b[0;36m2\u001b[0m\u001b[0;34m]\u001b[0m\u001b[0;34m\u001b[0m\u001b[0;34m\u001b[0m\u001b[0m\n\u001b[0;32m---> 22\u001b[0;31m     \u001b[0msquares\u001b[0m\u001b[0;34m=\u001b[0m\u001b[0;34m[\u001b[0m\u001b[0mget_square\u001b[0m\u001b[0;34m(\u001b[0m\u001b[0marr\u001b[0m\u001b[0;34m,\u001b[0m\u001b[0mi\u001b[0m\u001b[0;34m,\u001b[0m\u001b[0mshape\u001b[0m\u001b[0;34m)\u001b[0m \u001b[0;32mfor\u001b[0m \u001b[0mi\u001b[0m \u001b[0;32min\u001b[0m \u001b[0mrange\u001b[0m\u001b[0;34m(\u001b[0m\u001b[0;36m16\u001b[0m\u001b[0;34m)\u001b[0m\u001b[0;34m]\u001b[0m\u001b[0;34m\u001b[0m\u001b[0;34m\u001b[0m\u001b[0m\n\u001b[0m\u001b[1;32m     23\u001b[0m     \u001b[0mtest_images\u001b[0m\u001b[0;34m=\u001b[0m\u001b[0mimage\u001b[0m\u001b[0;34m.\u001b[0m\u001b[0marray_to_image_struct\u001b[0m\u001b[0;34m(\u001b[0m\u001b[0msquares\u001b[0m\u001b[0;34m)\u001b[0m\u001b[0;34m\u001b[0m\u001b[0;34m\u001b[0m\u001b[0m\n\u001b[1;32m     24\u001b[0m     \u001b[0mtest_data\u001b[0m\u001b[0;34m=\u001b[0m\u001b[0mimage\u001b[0m\u001b[0;34m.\u001b[0m\u001b[0mimages_to_vectors\u001b[0m\u001b[0;34m(\u001b[0m\u001b[0mtest_images\u001b[0m\u001b[0;34m)\u001b[0m\u001b[0;34m\u001b[0m\u001b[0;34m\u001b[0m\u001b[0m\n",
      "\u001b[0;32m<ipython-input-11-e9064a4b97bf>\u001b[0m in \u001b[0;36mget_square\u001b[0;34m(arr, index, shape, locations)\u001b[0m\n\u001b[1;32m      7\u001b[0m \u001b[0;34m\u001b[0m\u001b[0m\n\u001b[1;32m      8\u001b[0m     \u001b[0;32mtry\u001b[0m\u001b[0;34m:\u001b[0m\u001b[0;34m\u001b[0m\u001b[0;34m\u001b[0m\u001b[0m\n\u001b[0;32m----> 9\u001b[0;31m         \u001b[0mlocation\u001b[0m\u001b[0;34m=\u001b[0m\u001b[0mlocations\u001b[0m\u001b[0;34m[\u001b[0m\u001b[0mindex\u001b[0m\u001b[0;34m]\u001b[0m\u001b[0;34m\u001b[0m\u001b[0;34m\u001b[0m\u001b[0m\n\u001b[0m\u001b[1;32m     10\u001b[0m     \u001b[0;32mexcept\u001b[0m \u001b[0mIndexError\u001b[0m\u001b[0;34m:\u001b[0m\u001b[0;34m\u001b[0m\u001b[0;34m\u001b[0m\u001b[0m\n\u001b[1;32m     11\u001b[0m         \u001b[0mprint\u001b[0m\u001b[0;34m(\u001b[0m\u001b[0;34m\"locations.json file probably corrupt.\"\u001b[0m\u001b[0;34m)\u001b[0m\u001b[0;34m\u001b[0m\u001b[0;34m\u001b[0m\u001b[0m\n",
      "\u001b[0;31mIndexError\u001b[0m: list index out of range"
     ]
    }
   ],
   "source": [
    "state=read_state()"
   ]
  },
  {
   "cell_type": "code",
   "execution_count": null,
   "metadata": {},
   "outputs": [],
   "source": []
  }
 ],
 "metadata": {
  "kernelspec": {
   "display_name": "Python 3",
   "language": "python",
   "name": "python3"
  },
  "language_info": {
   "codemirror_mode": {
    "name": "ipython",
    "version": 3
   },
   "file_extension": ".py",
   "mimetype": "text/x-python",
   "name": "python",
   "nbconvert_exporter": "python",
   "pygments_lexer": "ipython3",
   "version": "3.7.4"
  }
 },
 "nbformat": 4,
 "nbformat_minor": 4
}

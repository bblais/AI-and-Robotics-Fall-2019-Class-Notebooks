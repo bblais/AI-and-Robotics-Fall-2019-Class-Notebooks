{
 "cells": [
  {
   "cell_type": "code",
   "execution_count": 2,
   "metadata": {},
   "outputs": [
    {
     "name": "stdout",
     "output_type": "stream",
     "text": [
      "Populating the interactive namespace from numpy and matplotlib\n"
     ]
    }
   ],
   "source": [
    "# use this in a notebook, not on the robot\n",
    "%pylab inline "
   ]
  },
  {
   "cell_type": "code",
   "execution_count": 3,
   "metadata": {},
   "outputs": [],
   "source": [
    "# use this on the robot\n",
    "# from pylab import *   "
   ]
  },
  {
   "cell_type": "code",
   "execution_count": 6,
   "metadata": {},
   "outputs": [
    {
     "name": "stdout",
     "output_type": "stream",
     "text": [
      "Version:  0.2.18\n",
      "Version:  0.0.25\n"
     ]
    }
   ],
   "source": [
    "from Game import *\n",
    "from classy import *"
   ]
  },
  {
   "cell_type": "code",
   "execution_count": 7,
   "metadata": {},
   "outputs": [],
   "source": [
    "# get rid of this for the robot, because it has it's own take_picture function\n",
    "def take_picture(filename='picture.jpg',view=False):\n",
    "    import shutil\n",
    "    shutil.copyfile('/Users/bblais/Desktop/ai373/images/board images/test9.jpg',filename)\n",
    "    print(\"Took picture \",filename)"
   ]
  },
  {
   "cell_type": "code",
   "execution_count": 19,
   "metadata": {},
   "outputs": [],
   "source": [
    "def get_square(arr,index,shape,locations=None):\n",
    "    import json\n",
    "    \n",
    "    if locations is None:\n",
    "        with open('locations.json') as json_file:\n",
    "            locations = json.load(json_file)        \n",
    "    \n",
    "    location=locations[index]\n",
    "    c,r=location\n",
    "    c1=int(c-shape[1]/2)\n",
    "    c2=int(c+shape[1]/2)\n",
    "    r1=int(r-shape[0]/2)\n",
    "    r2=int(r+shape[0]/2)\n",
    "\n",
    "    c2=c2+(shape[1]-(c2-c1))\n",
    "    r2=r2+(shape[0]-(r2-r1))\n",
    "\n",
    "    square=arr[r1:r2,c1:c2,:]\n",
    "    \n",
    "    return square\n"
   ]
  },
  {
   "cell_type": "markdown",
   "metadata": {},
   "source": [
    "### train classifier"
   ]
  },
  {
   "cell_type": "code",
   "execution_count": 41,
   "metadata": {},
   "outputs": [
    {
     "name": "stdout",
     "output_type": "stream",
     "text": [
      "[black]: 58 files found\n",
      "[red]: 56 files found\n",
      "[white]: 46 files found\n",
      "160 vectors of length 4800\n",
      "Feature names: 'p0', 'p1', 'p2', 'p3', 'p4'  , ... ,  'p4795', 'p4796', 'p4797', 'p4798', 'p4799'  (4800 features)\n",
      "Target values given.\n",
      "Target names: 'black', 'red', 'white'\n",
      "Mean:  [183.325  184.7625 175.5125 ... 182.6375 182.7875 174.425 ]\n",
      "Median:  [183.5 188.  178.5 ... 185.  188.  180. ]\n",
      "Stddev:  [15.60110172 19.36959199 18.65542398 ... 10.77467372 24.22379705\n",
      " 22.82995565]\n",
      "Time Reset\n",
      "Training time:  0.008812904357910156 seconds \n"
     ]
    }
   ],
   "source": [
    "images=image.load_images('/Users/bblais/Desktop/ai373/images/board images/squares')\n",
    "shape=images.data[0].shape[:2]\n",
    "data_train=data=image.images_to_vectors(images)  # train on all of them\n",
    "\n",
    "classifier=kNearestNeighbor()\n",
    "timeit(reset=True)\n",
    "classifier.fit(data_train.vectors,data_train.targets)\n",
    "print(\"Training time: \",timeit())"
   ]
  },
  {
   "cell_type": "code",
   "execution_count": 42,
   "metadata": {},
   "outputs": [
    {
     "data": {
      "text/plain": [
       "(40, 40, 3)"
      ]
     },
     "execution_count": 42,
     "metadata": {},
     "output_type": "execute_result"
    }
   ],
   "source": [
    "data_train.shape"
   ]
  },
  {
   "cell_type": "code",
   "execution_count": 43,
   "metadata": {},
   "outputs": [],
   "source": [
    "def read_state_from_file(filename='current_board.txt'):\n",
    "    with open(filename) as fid:\n",
    "        text=fid.read()\n",
    "\n",
    "    text2=text.strip().split('\\n')\n",
    "    number_of_rows=len(text2)\n",
    "    number_of_cols=len(text2[0].split())\n",
    "    \n",
    "    b=Board(number_of_rows,number_of_cols)\n",
    "        \n",
    "    board=[int(v) for v in text.split()]\n",
    "    b.board=board\n",
    "    return b\n",
    "    \n",
    "def read_state():\n",
    "    \n",
    "    take_picture('current_board.jpg')\n",
    "    arr=imread('current_board.jpg')\n",
    "    \n",
    "    # get predictions\n",
    "    shape=data_train.shape[:2]\n",
    "    squares=[get_square(arr,i,shape) for i in range(16)]\n",
    "    test_images=image.array_to_image_struct(squares)\n",
    "    test_data=image.images_to_vectors(test_images)\n",
    "    predictions=classifier.predict(test_data.vectors)\n",
    "\n",
    "    \n",
    "    \n",
    "    state=Board(4,4)\n",
    "    for i in range(16):\n",
    "        color=data_train.target_names[predictions[i]]\n",
    "        if color==\"white\":\n",
    "            state[i]=0\n",
    "        elif color==\"black\":\n",
    "            state[i]=1\n",
    "        elif color==\"red\":\n",
    "            state[i]=2\n",
    "        else:\n",
    "            raise ValueError(\"You can't get there from here.\")\n",
    "\n",
    "    print(\"Current state is:\")\n",
    "    print(state)\n",
    "    \n",
    "    x=input(\"\"\"\n",
    "    Hit return if this is correct, otherwise type a character \n",
    "    and the state will be read from current_board.txt.\"\"\")\n",
    "    \n",
    "    if x:\n",
    "        state=read_state_from_file()\n",
    "        \n",
    "    print(\"Using\")\n",
    "    print(state)\n",
    "    \n",
    "        "
   ]
  },
  {
   "cell_type": "code",
   "execution_count": 45,
   "metadata": {},
   "outputs": [
    {
     "name": "stdout",
     "output_type": "stream",
     "text": [
      "Took picture  current_board.jpg\n",
      "16 vectors of length 4800\n",
      "Feature names: 'p0', 'p1', 'p2', 'p3', 'p4'  , ... ,  'p4795', 'p4796', 'p4797', 'p4798', 'p4799'  (4800 features)\n",
      "Target values given.\n",
      "Target names: 'None', 'None', 'None', 'None', 'None', 'None', 'None', 'None', 'None', 'None', 'None', 'None', 'None', 'None', 'None', 'None'\n",
      "Mean:  [185.6875 188.125  177.5625 ... 184.375  186.1875 179.625 ]\n",
      "Median:  [185.5 188.  177.  ... 186.  187.5 181. ]\n",
      "Stddev:  [3.40438596 3.53332351 4.75616376 ... 6.62264109 5.6592706  7.46554586]\n",
      "Current state is:\n",
      " 1  1  2  1 \n",
      " 1  2  1  1 \n",
      " 0  2  0  2 \n",
      " 1  0  1  1 \n",
      "\n"
     ]
    },
    {
     "name": "stdin",
     "output_type": "stream",
     "text": [
      "\n",
      "    Hit return if this is correct, otherwise type a character \n",
      "    and the state will be read from current_board.txt. \n"
     ]
    },
    {
     "name": "stdout",
     "output_type": "stream",
     "text": [
      "Using\n",
      " 1  1  2  1 \n",
      " 1  2  1  1 \n",
      " 0  2  0  2 \n",
      " 1  0  1  1 \n",
      "\n"
     ]
    }
   ],
   "source": [
    "state=read_state()"
   ]
  },
  {
   "cell_type": "code",
   "execution_count": null,
   "metadata": {},
   "outputs": [],
   "source": []
  }
 ],
 "metadata": {
  "kernelspec": {
   "display_name": "Python 3",
   "language": "python",
   "name": "python3"
  },
  "language_info": {
   "codemirror_mode": {
    "name": "ipython",
    "version": 3
   },
   "file_extension": ".py",
   "mimetype": "text/x-python",
   "name": "python",
   "nbconvert_exporter": "python",
   "pygments_lexer": "ipython3",
   "version": "3.7.4"
  }
 },
 "nbformat": 4,
 "nbformat_minor": 4
}

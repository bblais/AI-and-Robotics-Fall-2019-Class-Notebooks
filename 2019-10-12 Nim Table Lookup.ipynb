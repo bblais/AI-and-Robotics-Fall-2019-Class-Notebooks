{
 "cells": [
  {
   "cell_type": "markdown",
   "metadata": {},
   "source": [
    "## Nim with Minimax and Table Lookup"
   ]
  },
  {
   "cell_type": "code",
   "execution_count": 1,
   "metadata": {},
   "outputs": [
    {
     "name": "stdout",
     "output_type": "stream",
     "text": [
      "Version:  0.2.14\n"
     ]
    }
   ],
   "source": [
    "from Game import *\n",
    "from Game.minimax import *"
   ]
  },
  {
   "cell_type": "code",
   "execution_count": 2,
   "metadata": {},
   "outputs": [],
   "source": [
    "def initial_state(size=21):\n",
    "    state=size\n",
    "    return state"
   ]
  },
  {
   "cell_type": "code",
   "execution_count": 3,
   "metadata": {},
   "outputs": [],
   "source": [
    "def update_state(state,player,move):\n",
    "    new_state=state-move\n",
    "    return new_state"
   ]
  },
  {
   "cell_type": "code",
   "execution_count": 4,
   "metadata": {},
   "outputs": [],
   "source": [
    "def win_status(state,player):\n",
    "    # this is called after the state is updated\n",
    "    if state==1:\n",
    "        return 'win'\n",
    "    \n",
    "    if state==0:\n",
    "        return 'lose'\n",
    "    "
   ]
  },
  {
   "cell_type": "code",
   "execution_count": 5,
   "metadata": {},
   "outputs": [],
   "source": [
    "def valid_moves(state,player):\n",
    "    \n",
    "    if state==1:\n",
    "        moves=[ 1 ]\n",
    "    elif state==2:\n",
    "        moves=[1,2]\n",
    "    else:\n",
    "        moves=[1,2,3]\n",
    "    \n",
    "    \n",
    "    return moves"
   ]
  },
  {
   "cell_type": "code",
   "execution_count": 6,
   "metadata": {},
   "outputs": [],
   "source": [
    "def show_state(state):\n",
    "    print(\"There are \",state,\"number of sticks\")"
   ]
  },
  {
   "cell_type": "markdown",
   "metadata": {},
   "source": [
    "## Agents"
   ]
  },
  {
   "cell_type": "code",
   "execution_count": 7,
   "metadata": {},
   "outputs": [],
   "source": [
    "def human_move(state,player):\n",
    "    move=input('How many sticks do you take?')\n",
    "    move=int(move)\n",
    "    return move\n",
    "\n",
    "\n",
    "human_agent=Agent(human_move)"
   ]
  },
  {
   "cell_type": "code",
   "execution_count": 8,
   "metadata": {},
   "outputs": [],
   "source": [
    "def random_move(state,player):\n",
    "    moves=valid_moves(state,player)\n",
    "    return random.choice(moves)\n",
    "\n",
    "random_agent=Agent(random_move)"
   ]
  },
  {
   "cell_type": "code",
   "execution_count": 9,
   "metadata": {},
   "outputs": [],
   "source": [
    "def minimax_move(state,player):\n",
    "\n",
    "    values,moves=minimax_values(state,player,display=False)\n",
    "    return top_choice(moves,values)\n",
    "\n",
    "\n",
    "minimax_agent=Agent(minimax_move)"
   ]
  },
  {
   "cell_type": "code",
   "execution_count": 10,
   "metadata": {},
   "outputs": [],
   "source": [
    "def table_move(state,player,info):\n",
    "\n",
    "    T=info.T\n",
    "    \n",
    "    move=weighted_choice(T[state])\n",
    "    \n",
    "    # if there are no weights at all for a state, then the move will be None\n",
    "    \n",
    "    if move is None:\n",
    "        return random_move(state,player)\n",
    "    \n",
    "    \n",
    "    return move\n",
    "\n",
    "\n",
    "table_agent=Agent(table_move)\n"
   ]
  },
  {
   "cell_type": "code",
   "execution_count": 11,
   "metadata": {},
   "outputs": [],
   "source": [
    "table_agent.T=T=Table()\n",
    "\n",
    "T[1]=Table()\n",
    "T[1][1]=0\n",
    "\n",
    "T[2]=Table()\n",
    "T[2][1]=1\n",
    "T[2][2]=0\n",
    "\n",
    "T[3]=Table()\n",
    "T[3][1]=0\n",
    "T[3][2]=1\n",
    "T[3][3]=0\n",
    "\n",
    "T[4]=Table()\n",
    "T[4][1]=0\n",
    "T[4][2]=0\n",
    "T[4][3]=1\n",
    "\n",
    "T[5]=Table()\n",
    "T[5][1]=0\n",
    "T[5][2]=0\n",
    "T[5][3]=0\n",
    "\n",
    "T[6]=Table()\n",
    "T[6][1]=1\n",
    "T[6][2]=0\n",
    "T[6][3]=0\n",
    "\n"
   ]
  },
  {
   "cell_type": "code",
   "execution_count": 12,
   "metadata": {},
   "outputs": [],
   "source": [
    "SaveTable(table_agent.T,'table.json')"
   ]
  },
  {
   "cell_type": "markdown",
   "metadata": {},
   "source": [
    "## Running the Game"
   ]
  },
  {
   "cell_type": "code",
   "execution_count": 16,
   "metadata": {},
   "outputs": [
    {
     "name": "stdout",
     "output_type": "stream",
     "text": [
      "====\n",
      "Game  1\n",
      "There are  6 number of sticks\n",
      "Player 1 moves 1\n",
      "There are  5 number of sticks\n",
      "Player 2 moves 2\n",
      "There are  3 number of sticks\n",
      "Player 1 moves 1\n",
      "There are  2 number of sticks\n",
      "Player 2 moves 1\n",
      "There are  1 number of sticks\n",
      "Player  2 won.\n"
     ]
    },
    {
     "data": {
      "text/plain": [
       "[2]"
      ]
     },
     "execution_count": 16,
     "metadata": {},
     "output_type": "execute_result"
    }
   ],
   "source": [
    "g=Game(size=6)\n",
    "g.run(random_agent,table_agent)"
   ]
  },
  {
   "cell_type": "code",
   "execution_count": 35,
   "metadata": {},
   "outputs": [
    {
     "name": "stdout",
     "output_type": "stream",
     "text": [
      "[1, 1, 1, 1, 1, 1, 1, 1, 1, 1]\n"
     ]
    }
   ],
   "source": [
    "g=Game(number_of_games=10)\n",
    "g.display=False\n",
    "result=g.run(minimax_agent,random_agent)\n",
    "print(result)"
   ]
  },
  {
   "cell_type": "code",
   "execution_count": null,
   "metadata": {},
   "outputs": [],
   "source": []
  },
  {
   "cell_type": "markdown",
   "metadata": {},
   "source": [
    "## Fill the table with minimax"
   ]
  },
  {
   "cell_type": "code",
   "execution_count": 40,
   "metadata": {},
   "outputs": [
    {
     "data": {
      "text/plain": [
       "{1: {1: -1},\n",
       " 2: {1: 1, 2: -1},\n",
       " 3: {2: 1, 3: -1, 1: -1},\n",
       " 4: {3: 1, 2: -1, 1: -1},\n",
       " 5: {3: -1, 2: -1, 1: -1},\n",
       " 6: {1: 1, 3: -1, 2: -1},\n",
       " 7: {2: 1, 3: -1, 1: -1},\n",
       " 8: {3: 1, 2: -1, 1: -1},\n",
       " 9: {3: -1, 2: -1, 1: -1},\n",
       " 10: {1: 1, 3: -1, 2: -1},\n",
       " 11: {2: 1, 3: -1, 1: -1},\n",
       " 12: {3: 1, 2: -1, 1: -1},\n",
       " 13: {3: -1, 2: -1, 1: -1},\n",
       " 14: {1: 1, 3: -1, 2: -1},\n",
       " 15: {2: 1, 3: -1, 1: -1},\n",
       " 16: {3: 1, 2: -1, 1: -1},\n",
       " 17: {3: -1, 2: -1, 1: -1},\n",
       " 18: {1: 1, 3: -1, 2: -1},\n",
       " 19: {2: 1, 3: -1, 1: -1},\n",
       " 20: {3: 1, 2: -1, 1: -1},\n",
       " 21: {3: -1, 2: -1, 1: -1}}"
      ]
     },
     "execution_count": 40,
     "metadata": {},
     "output_type": "execute_result"
    }
   ],
   "source": [
    "table_agent.T=T=Table()\n",
    "\n",
    "for state in range(1,22):\n",
    "    T[state]=Table()\n",
    "    values,moves=minimax_values(state,1,display=False)\n",
    "    \n",
    "    for move,value in zip(moves,values):\n",
    "        T[state][move]=value\n",
    "        \n",
    "T"
   ]
  },
  {
   "cell_type": "code",
   "execution_count": 41,
   "metadata": {},
   "outputs": [],
   "source": [
    "SaveTable(table_agent.T,'nim_minimax_table.json')"
   ]
  },
  {
   "cell_type": "code",
   "execution_count": 42,
   "metadata": {},
   "outputs": [],
   "source": [
    "table_agent=Agent(table_move)\n",
    "table_agent.T=LoadTable('nim_minimax_table.json')"
   ]
  },
  {
   "cell_type": "code",
   "execution_count": 43,
   "metadata": {},
   "outputs": [
    {
     "name": "stdout",
     "output_type": "stream",
     "text": [
      "[2, 2, 2, 1, 1, 2, 2, 1, 2, 1, 1, 1, 1, 2, 1, 2, 1, 2, 2, 2, 1, 2, 2, 2, 2, 1, 1, 2, 2, 2, 1, 1, 2, 2, 1, 2, 1, 1, 1, 1, 1, 2, 1, 2, 1, 1, 1, 1, 2, 2, 1, 1, 2, 1, 2, 2, 2, 1, 2, 2, 1, 2, 1, 1, 1, 1, 1, 2, 1, 1, 2, 1, 2, 1, 2, 2, 2, 2, 2, 1, 1, 2, 2, 2, 2, 1, 1, 2, 2, 2, 1, 1, 2, 1, 1, 2, 2, 2, 2, 2]\n"
     ]
    }
   ],
   "source": [
    "g=Game(number_of_games=100)\n",
    "g.display=False\n",
    "result=g.run(table_agent,random_agent)\n",
    "print(result)"
   ]
  },
  {
   "cell_type": "code",
   "execution_count": null,
   "metadata": {},
   "outputs": [],
   "source": []
  }
 ],
 "metadata": {
  "kernelspec": {
   "display_name": "Python 3",
   "language": "python",
   "name": "python3"
  },
  "language_info": {
   "codemirror_mode": {
    "name": "ipython",
    "version": 3
   },
   "file_extension": ".py",
   "mimetype": "text/x-python",
   "name": "python",
   "nbconvert_exporter": "python",
   "pygments_lexer": "ipython3",
   "version": "3.7.4"
  }
 },
 "nbformat": 4,
 "nbformat_minor": 4
}

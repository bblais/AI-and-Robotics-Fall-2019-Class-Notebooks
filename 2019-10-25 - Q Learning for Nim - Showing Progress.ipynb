{
 "cells": [
  {
   "cell_type": "code",
   "execution_count": 1,
   "metadata": {},
   "outputs": [
    {
     "name": "stdout",
     "output_type": "stream",
     "text": [
      "Version:  0.2.15\n"
     ]
    }
   ],
   "source": [
    "from Game import *"
   ]
  },
  {
   "cell_type": "code",
   "execution_count": 2,
   "metadata": {
    "collapsed": false,
    "jupyter": {
     "outputs_hidden": false
    }
   },
   "outputs": [],
   "source": [
    "def initial_state():\n",
    "    return randint(15,25)\n",
    "\n",
    "def valid_moves(state,player):\n",
    "    if state==1:\n",
    "        return [1]\n",
    "    elif state==2:\n",
    "        return [1,2]\n",
    "    else:\n",
    "        return [1,2,3]\n",
    "        \n",
    "def show_state(state):\n",
    "    print (\"There are \",state,\" sticks left.\")\n",
    "\n",
    "def update_state(state,player,move):\n",
    "    new_state=state-move\n",
    "    return new_state\n",
    "\n",
    "def win_status(state,player):\n",
    "\n",
    "    if state==1:\n",
    "        return 'win'\n",
    "    \n",
    "    elif state==0:\n",
    "        return 'lose'\n",
    "    \n",
    "    else:\n",
    "        return None\n",
    "\n",
    "\n",
    "def human_move(state,player):\n",
    "\n",
    "    move=input('Take 1, 2 or 3 sticks ')\n",
    "    return move\n",
    "\n",
    "\n",
    "def perfect_move(state,player):\n",
    "    move=(state-1)%4\n",
    "    if move==0:\n",
    "        move=1\n",
    "    return move\n",
    "\n",
    "def random_move(state,player):\n",
    "    move=random_choice(valid_moves(state,player))\n",
    "    return move\n",
    "\n",
    "\n",
    "human_agent=Agent(human_move)\n",
    "random_agent=Agent(random_move)\n",
    "perfect_agent=Agent(perfect_move)\n"
   ]
  },
  {
   "cell_type": "code",
   "execution_count": 3,
   "metadata": {
    "collapsed": false,
    "jupyter": {
     "outputs_hidden": false
    }
   },
   "outputs": [],
   "source": [
    "def Q_move(state,player,info):\n",
    "    Q=info.Q\n",
    "    last_action=info.last_action\n",
    "    last_state=info.last_state\n",
    "    \n",
    "    alpha=info.alpha  # learning rate\n",
    "    gamma=info.gamma  # memory \n",
    "    epsilon=info.epsilon  # probability of doing random move\n",
    "    \n",
    "    if not state in Q:\n",
    "        Q[state]=Table()\n",
    "        for action in valid_moves(state,player):\n",
    "            Q[state][action]=0.0\n",
    "            \n",
    "    if random.random()<epsilon:  # random move\n",
    "        action=random_choice(Q[state])\n",
    "    else:\n",
    "        action=top_choice(Q[state])\n",
    "        \n",
    "        \n",
    "    if not last_action is None:  # anything but the first move\n",
    "        r=0.0\n",
    "        Q[last_state][last_action]+=alpha*(r + \n",
    "            gamma*max([Q[state][a] for a in Q[state]]) -\n",
    "            Q[last_state][last_action] )\n",
    "        \n",
    "    return action\n",
    "\n",
    "def Q_post(status,player,info):\n",
    "    Q=info.Q\n",
    "    last_action=info.last_action\n",
    "    last_state=info.last_state\n",
    "    \n",
    "    alpha=info.alpha  # learning rate\n",
    "    gamma=info.gamma  # memory \n",
    "    epsilon=info.epsilon  # probability of doing random move\n",
    "\n",
    "    if status=='lose':\n",
    "        r=-1.0\n",
    "    elif status=='win':\n",
    "        r=1.0\n",
    "    else:\n",
    "        r=0.0\n",
    "        \n",
    "    if not last_action is None:  # anything but the first move\n",
    "        Q[last_state][last_action]+=alpha*(r -\n",
    "            Q[last_state][last_action] )\n",
    "        "
   ]
  },
  {
   "cell_type": "code",
   "execution_count": 4,
   "metadata": {
    "collapsed": false,
    "jupyter": {
     "outputs_hidden": false
    }
   },
   "outputs": [],
   "source": [
    "Q_agent=Agent(Q_move)\n",
    "Q_agent.post=Q_post\n",
    "\n",
    "Q_agent.Q=LoadTable('Q_data.json')\n",
    "Q_agent.alpha=0.3  # learning rate\n",
    "Q_agent.gamma=0.9  # memory\n",
    "Q_agent.epsilon=0.1  # chance of making a random move"
   ]
  },
  {
   "cell_type": "code",
   "execution_count": 5,
   "metadata": {
    "collapsed": false,
    "jupyter": {
     "outputs_hidden": false
    }
   },
   "outputs": [
    {
     "name": "stdout",
     "output_type": "stream",
     "text": [
      "====\n",
      "Game  1\n",
      "There are  21  sticks left.\n",
      "Player 1 moves 3\n",
      "There are  18  sticks left.\n",
      "Player 2 moves 1\n",
      "There are  17  sticks left.\n",
      "Player 1 moves 3\n",
      "There are  14  sticks left.\n",
      "Player 2 moves 1\n",
      "There are  13  sticks left.\n",
      "Player 1 moves 3\n",
      "There are  10  sticks left.\n",
      "Player 2 moves 1\n",
      "There are  9  sticks left.\n",
      "Player 1 moves 3\n",
      "There are  6  sticks left.\n",
      "Player 2 moves 1\n",
      "There are  5  sticks left.\n",
      "Player 1 moves 3\n",
      "There are  2  sticks left.\n",
      "Player 2 moves 1\n",
      "There are  1  sticks left.\n",
      "Player  2 won.\n",
      "Total number of games:  1\n",
      "Winning 0.00 percent\n",
      "Losing 100.00 percent\n",
      "Tie 0.00 percent\n"
     ]
    }
   ],
   "source": [
    "g=Game()\n",
    "g.run(Q_agent,perfect_agent)\n",
    "g.report()"
   ]
  },
  {
   "cell_type": "code",
   "execution_count": 6,
   "metadata": {
    "collapsed": false,
    "jupyter": {
     "outputs_hidden": false
    }
   },
   "outputs": [
    {
     "data": {
      "text/plain": [
       "{4: {1: -0.9999999999999999, 2: -0.9999999999999999, 3: 0.9999999999999999},\n",
       " 5: {1: -0.9999999999999999, 2: -0.9999999999999999, 3: -0.9999999999999999},\n",
       " 8: {1: -0.8999999999999998, 2: -0.8999999999999998, 3: 0.8999999999999998},\n",
       " 9: {1: -0.8999999999999998, 2: -0.8999999999999998, 3: -0.8999999999999998},\n",
       " 12: {1: -0.8099999999999997, 2: -0.8099999999999997, 3: 0.8099999999999997},\n",
       " 13: {1: -0.8099999999999997, 2: -0.8099999999999997, 3: -0.8099999999999997},\n",
       " 15: {1: -0.7289999999999996, 2: 0.7289999999999996, 3: -0.8099999999999997},\n",
       " 16: {1: -0.7289999999999996, 2: -0.7289999999999996, 3: 0.7289999999999996},\n",
       " 17: {1: -0.7289999999999996, 2: -0.7289999999999996, 3: -0.7289999999999996},\n",
       " 18: {1: 0.6560999999999996, 2: -0.7289999999999996, 3: -0.7289999999999996},\n",
       " 19: {1: -0.6560999999999996, 2: 0.6560999999999996, 3: -0.7289999999999996},\n",
       " 20: {1: -0.6560999999999996, 2: -0.6560999999999996, 3: 0.6560999999999996},\n",
       " 21: {1: -0.6560999999999996, 2: -0.6560999999999996, 3: -0.6560999999999996},\n",
       " 22: {1: 0.5904899999999995, 2: -0.6560999999999996, 3: -0.6560999999999996},\n",
       " 23: {1: -0.5904899999999995, 2: 0.5904899999999995, 3: -0.6560999999999996},\n",
       " 24: {1: -0.5904899999999995, 2: -0.5904899999999995, 3: 0.5904899999999995},\n",
       " 25: {1: -0.5904899999999995, 2: -0.5904899999999995, 3: -0.5904899999999995}}"
      ]
     },
     "execution_count": 6,
     "metadata": {},
     "output_type": "execute_result"
    }
   ],
   "source": [
    "Q_agent.Q"
   ]
  },
  {
   "cell_type": "markdown",
   "metadata": {},
   "source": [
    "While learning, set epsilon to 0.1"
   ]
  },
  {
   "cell_type": "code",
   "execution_count": 8,
   "metadata": {
    "collapsed": false,
    "jupyter": {
     "outputs_hidden": false
    }
   },
   "outputs": [
    {
     "name": "stdout",
     "output_type": "stream",
     "text": [
      "Total number of games:  1000\n",
      "Winning 51.70 percent\n",
      "Losing 48.30 percent\n",
      "Tie 0.00 percent\n"
     ]
    }
   ],
   "source": [
    "Q_agent.epsilon=0.1\n",
    "\n",
    "g=Game(number_of_games=1000)\n",
    "g.display=False\n",
    "g.run(Q_agent,perfect_agent)\n",
    "SaveTable(Q_agent.Q,'Q_data.json')\n",
    "g.report()"
   ]
  },
  {
   "cell_type": "code",
   "execution_count": 9,
   "metadata": {
    "collapsed": false,
    "jupyter": {
     "outputs_hidden": false
    }
   },
   "outputs": [
    {
     "data": {
      "text/plain": [
       "{4: {1: -0.9999999999999999, 2: -0.9999999999999999, 3: 0.9999999999999999},\n",
       " 5: {1: -0.9999999999999999, 2: -0.9999999999999999, 3: -0.9999999999999999},\n",
       " 8: {1: -0.8999999999999998, 2: -0.8999999999999998, 3: 0.8999999999999998},\n",
       " 9: {1: -0.8999999999999998, 2: -0.8999999999999998, 3: -0.8999999999999998},\n",
       " 12: {1: -0.8099999999999997, 2: -0.8099999999999997, 3: 0.8099999999999997},\n",
       " 13: {1: -0.8099999999999997, 2: -0.8099999999999997, 3: -0.8099999999999997},\n",
       " 15: {1: -0.7289999999999996, 2: 0.7289999999999996, 3: -0.8099999999999997},\n",
       " 16: {1: -0.7289999999999996, 2: -0.7289999999999996, 3: 0.7289999999999996},\n",
       " 17: {1: -0.7289999999999996, 2: -0.7289999999999996, 3: -0.7289999999999996},\n",
       " 18: {1: 0.6560999999999996, 2: -0.7289999999999996, 3: -0.7289999999999996},\n",
       " 19: {1: -0.6560999999999996, 2: 0.6560999999999996, 3: -0.7289999999999996},\n",
       " 20: {1: -0.6560999999999996, 2: -0.6560999999999996, 3: 0.6560999999999996},\n",
       " 21: {1: -0.6560999999999996, 2: -0.6560999999999996, 3: -0.6560999999999996},\n",
       " 22: {1: 0.5904899999999995, 2: -0.6560999999999996, 3: -0.6560999999999996},\n",
       " 23: {1: -0.5904899999999995, 2: 0.5904899999999995, 3: -0.6560999999999996},\n",
       " 24: {1: -0.5904899999999995, 2: -0.5904899999999995, 3: 0.5904899999999995},\n",
       " 25: {1: -0.5904899999999995, 2: -0.5904899999999995, 3: -0.5904899999999995}}"
      ]
     },
     "execution_count": 9,
     "metadata": {},
     "output_type": "execute_result"
    }
   ],
   "source": [
    "Q_agent.Q"
   ]
  },
  {
   "cell_type": "markdown",
   "metadata": {},
   "source": [
    "When we want to see how good it really is, turn off epsilon (no random moves)"
   ]
  },
  {
   "cell_type": "code",
   "execution_count": 10,
   "metadata": {
    "collapsed": false,
    "jupyter": {
     "outputs_hidden": false
    }
   },
   "outputs": [
    {
     "name": "stdout",
     "output_type": "stream",
     "text": [
      "Total number of games:  1000\n",
      "Winning 73.80 percent\n",
      "Losing 26.20 percent\n",
      "Tie 0.00 percent\n"
     ]
    }
   ],
   "source": [
    "Q_agent.epsilon=0.0\n",
    "\n",
    "g=Game(number_of_games=1000)\n",
    "g.display=False\n",
    "g.run(Q_agent,perfect_agent)\n",
    "SaveTable(Q_agent.Q,'Q_data.json')\n",
    "g.report()"
   ]
  },
  {
   "cell_type": "markdown",
   "metadata": {},
   "source": [
    "## Can a Q-agent play against another?"
   ]
  },
  {
   "cell_type": "code",
   "execution_count": 21,
   "metadata": {
    "collapsed": false,
    "jupyter": {
     "outputs_hidden": false
    }
   },
   "outputs": [],
   "source": [
    "Q1_agent=Agent(Q_move)\n",
    "Q1_agent.post=Q_post\n",
    "\n",
    "Q1_agent.Q=LoadTable('Q1_data.json')\n",
    "Q1_agent.alpha=0.3  # learning rate\n",
    "Q1_agent.gamma=0.9  # memory\n",
    "Q1_agent.epsilon=0.1  # chance of making a random move\n",
    "\n",
    "Q2_agent=Agent(Q_move)\n",
    "Q2_agent.post=Q_post\n",
    "\n",
    "Q2_agent.Q=LoadTable('Q2_data.json')\n",
    "Q2_agent.alpha=0.3  # learning rate\n",
    "Q2_agent.gamma=0.9  # memory\n",
    "Q2_agent.epsilon=0.1  # chance of making a random move\n"
   ]
  },
  {
   "cell_type": "code",
   "execution_count": 13,
   "metadata": {
    "collapsed": false,
    "jupyter": {
     "outputs_hidden": false
    }
   },
   "outputs": [
    {
     "name": "stdout",
     "output_type": "stream",
     "text": [
      "Total number of games:  1000\n",
      "Winning 63.10 percent\n",
      "Losing 36.90 percent\n",
      "Tie 0.00 percent\n"
     ]
    }
   ],
   "source": [
    "Q1_agent.epsilon=0.1\n",
    "Q2_agent.epsilon=0.1\n",
    "\n",
    "g=Game(number_of_games=1000)\n",
    "g.display=False\n",
    "g.run(Q1_agent,Q2_agent)\n",
    "SaveTable(Q1_agent.Q,'Q1_data.json')\n",
    "SaveTable(Q2_agent.Q,'Q2_data.json')\n",
    "g.report()"
   ]
  },
  {
   "cell_type": "code",
   "execution_count": 14,
   "metadata": {
    "collapsed": false,
    "jupyter": {
     "outputs_hidden": false
    }
   },
   "outputs": [
    {
     "name": "stdout",
     "output_type": "stream",
     "text": [
      "Total number of games:  1000\n",
      "Winning 74.90 percent\n",
      "Losing 25.10 percent\n",
      "Tie 0.00 percent\n"
     ]
    }
   ],
   "source": [
    "Q1_agent.epsilon=0.0\n",
    "Q2_agent.epsilon=0.0\n",
    "Q1_agent.alpha=0.0\n",
    "Q2_agent.alpha=0.0\n",
    "\n",
    "g=Game(number_of_games=1000)\n",
    "g.display=False\n",
    "g.run(Q1_agent,perfect_agent)\n",
    "g.report()"
   ]
  },
  {
   "cell_type": "code",
   "execution_count": 15,
   "metadata": {
    "collapsed": false,
    "jupyter": {
     "outputs_hidden": false
    }
   },
   "outputs": [
    {
     "name": "stdout",
     "output_type": "stream",
     "text": [
      "Total number of games:  1000\n",
      "Winning 73.00 percent\n",
      "Losing 27.00 percent\n",
      "Tie 0.00 percent\n"
     ]
    }
   ],
   "source": [
    "Q1_agent.epsilon=0.0\n",
    "Q2_agent.epsilon=0.0\n",
    "Q1_agent.alpha=0.0\n",
    "Q2_agent.alpha=0.0\n",
    "\n",
    "g=Game(number_of_games=1000)\n",
    "g.display=False\n",
    "g.run(perfect_agent,Q2_agent)\n",
    "g.report()"
   ]
  },
  {
   "cell_type": "code",
   "execution_count": 22,
   "metadata": {},
   "outputs": [
    {
     "name": "stdout",
     "output_type": "stream",
     "text": [
      "79.00  69.50  77.00  71.00  72.50  73.00  77.00  67.50  71.00  75.50  72.50  72.50  72.50  74.00  68.50  71.00  66.00  71.50  76.00  70.50  70.00  75.00  73.00  77.50  76.50  78.00  71.50  66.50  75.50  72.00  74.00  69.00  68.50  71.50  69.00  70.00  70.00  79.00  75.50  76.50  75.00  67.50  79.50  76.50  70.00  74.50  78.00  76.00  70.50  71.50  79.00  68.00  72.50  75.00  78.50  75.50  73.00  75.00  77.50  68.50  68.50  76.00  75.00  70.50  71.50  71.00  78.50  75.00  74.00  70.50  68.50  66.00  80.50  73.00  69.50  72.50  70.00  72.00  72.50  74.00  72.50  67.00  70.00  69.00  73.00  76.00  71.50  72.50  70.50  76.00  68.50  74.00  75.00  72.50  71.00  73.50  72.00  72.50  67.00  74.00  "
     ]
    }
   ],
   "source": [
    "W=[]\n",
    "L=[]\n",
    "T=[]\n",
    "\n",
    "n=[]\n",
    "total_games=0\n",
    "for i in range(100):\n",
    "    \n",
    "    # train with learning\n",
    "    Q1_agent.epsilon=0.1\n",
    "    Q2_agent.epsilon=0.1\n",
    "\n",
    "    g=Game(number_of_games=1000)\n",
    "    g.display=False\n",
    "    result=g.run(Q1_agent,Q2_agent)\n",
    "\n",
    "    SaveTable(Q1_agent.Q,\"Nim Q1.json\")\n",
    "    SaveTable(Q2_agent.Q,\"Nim Q2.json\")\n",
    "\n",
    "    # test with no learning\n",
    "    Q1_agent.epsilon=0.0\n",
    "    Q2_agent.epsilon=0.0\n",
    "    \n",
    "    g=Game(number_of_games=200)\n",
    "    g.display=False\n",
    "    result=g.run(Q1_agent,Q2_agent)\n",
    "    \n",
    "    percent_wins=sum([_==1 for _ in result])/len(result)*100\n",
    "    percent_losses=sum([_==2 for _ in result])/len(result)*100\n",
    "    percent_ties=sum([_==0 for _ in result])/len(result)*100\n",
    "\n",
    "    total_games+=g.number_of_games\n",
    "    n.append(total_games)\n",
    "    W.append(percent_wins)\n",
    "    L.append(percent_losses)\n",
    "    T.append(percent_ties)\n",
    "    print('%.2f' % percent_wins,\" \",end=\"\")"
   ]
  },
  {
   "cell_type": "code",
   "execution_count": 23,
   "metadata": {},
   "outputs": [
    {
     "name": "stdout",
     "output_type": "stream",
     "text": [
      "Populating the interactive namespace from numpy and matplotlib\n"
     ]
    },
    {
     "name": "stderr",
     "output_type": "stream",
     "text": [
      "/Users/bblais/anaconda3/lib/python3.7/site-packages/IPython/core/magics/pylab.py:160: UserWarning: pylab import has clobbered these variables: ['randint', 'random', 'prod', 'draw', 'copy', 'argmax']\n",
      "`%matplotlib` prevents importing * from pylab and numpy\n",
      "  \"\\n`%matplotlib` prevents importing * from pylab and numpy\"\n"
     ]
    }
   ],
   "source": [
    "%pylab inline"
   ]
  },
  {
   "cell_type": "code",
   "execution_count": 24,
   "metadata": {},
   "outputs": [
    {
     "data": {
      "text/plain": [
       "<matplotlib.legend.Legend at 0x115a2b510>"
      ]
     },
     "execution_count": 24,
     "metadata": {},
     "output_type": "execute_result"
    },
    {
     "data": {
      "image/png": "[encoded data removed]",
      "text/plain": [
       "<Figure size 720x576 with 1 Axes>"
      ]
     },
     "metadata": {
      "needs_background": "light"
     },
     "output_type": "display_data"
    }
   ],
   "source": [
    "figure(figsize=(10,8))\n",
    "plot(n,W,'-o',label='Player 1 Win')\n",
    "plot(n,L,'-o',label='Player 1 Losses')\n",
    "plot(n,T,'-o',label='Ties')\n",
    "legend()"
   ]
  },
  {
   "cell_type": "markdown",
   "metadata": {},
   "source": [
    "## things you should do:\n",
    "\n",
    "1. run this more times and explain the structure of the json files\n",
    "2. run this with tic tac toe"
   ]
  },
  {
   "cell_type": "code",
   "execution_count": null,
   "metadata": {
    "collapsed": true,
    "jupyter": {
     "outputs_hidden": true
    }
   },
   "outputs": [],
   "source": []
  }
 ],
 "metadata": {
  "anaconda-cloud": {},
  "kernelspec": {
   "display_name": "Python 3",
   "language": "python",
   "name": "python3"
  },
  "language_info": {
   "codemirror_mode": {
    "name": "ipython",
    "version": 3
   },
   "file_extension": ".py",
   "mimetype": "text/x-python",
   "name": "python",
   "nbconvert_exporter": "python",
   "pygments_lexer": "ipython3",
   "version": "3.7.4"
  }
 },
 "nbformat": 4,
 "nbformat_minor": 4
}

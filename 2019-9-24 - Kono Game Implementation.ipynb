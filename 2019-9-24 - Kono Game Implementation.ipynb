{
 "cells": [
  {
   "cell_type": "code",
   "execution_count": 13,
   "metadata": {},
   "outputs": [],
   "source": [
    "from Game import *\n",
    "from Game.minimax import *"
   ]
  },
  {
   "cell_type": "markdown",
   "metadata": {},
   "source": [
    "http://www.di.fc.ul.pt/~jpn/gv/kono2.htm\n",
    "\n",
    "This game is played on the following 4x4 square board:\n",
    "\n",
    "<img src=\"images/2019-09-24 07.21.03 am.png\" width=200>\n",
    "\n",
    "\n",
    "* **TURNS** \n",
    "   - At each turn, each player must capture an enemy stone.\n",
    "   - A stone is captured by orthogonally jumping with a friendly stone over an adjacent friendly stone, and landing over an enemy stone on the immediate next cell (so all three stones must be in the same orthogonal line).\n",
    "   - When there are no captures available, the current player moves a friendly stone to adjacent empty cell.\n",
    "* **GOAL** \n",
    "   - Wins the player that stalemates the adversary (i.e., leaves no valid move).\n",
    "\n",
    "<img src=\"images/2019-09-24 07.24.27 am.png\" width=600>"
   ]
  },
  {
   "cell_type": "code",
   "execution_count": 2,
   "metadata": {},
   "outputs": [],
   "source": [
    "def initial_state():\n",
    "    state=Board(4,4)\n",
    "    for row in range(4):\n",
    "        \n",
    "        # fill in the black pieces\n",
    "        for col in range(2):\n",
    "            state[row,col]=2\n",
    "            \n",
    "        # fill in the white pieces\n",
    "        for col in range(2,4):\n",
    "            state[row,col]=1\n",
    "            \n",
    "    # just to make the printing look nicer\n",
    "    state.pieces=['.','W','B']\n",
    "    \n",
    "    return state"
   ]
  },
  {
   "cell_type": "code",
   "execution_count": 9,
   "metadata": {},
   "outputs": [
    {
     "data": {
      "text/plain": [
       " B  B  W  W \n",
       " B  B  W  W \n",
       " B  B  W  W \n",
       " B  B  W  W "
      ]
     },
     "execution_count": 9,
     "metadata": {},
     "output_type": "execute_result"
    }
   ],
   "source": [
    "initial_state()"
   ]
  },
  {
   "cell_type": "code",
   "execution_count": 4,
   "metadata": {},
   "outputs": [],
   "source": [
    "def show_state(state):\n",
    "    print(state)"
   ]
  },
  {
   "cell_type": "code",
   "execution_count": 5,
   "metadata": {},
   "outputs": [],
   "source": [
    "def human_move(state,player):\n",
    "    state.show_locations()\n",
    "    \n",
    "    start=input(\"Which piece do you want to move? (enter the start location)\")\n",
    "    start=int(start)\n",
    "    \n",
    "    end=input(\"Where do you want to move it? (enter the end location)\")\n",
    "    end=int(end)\n",
    "    \n",
    "    # a move is a short 2-list of start and end locations\n",
    "    move=[start,end]\n",
    "    return move"
   ]
  },
  {
   "cell_type": "code",
   "execution_count": 7,
   "metadata": {},
   "outputs": [],
   "source": [
    "def win_status(state,player):\n",
    "    if player==1:\n",
    "        other_player=2\n",
    "    else:\n",
    "        other_player=1\n",
    "        \n",
    "    if not valid_moves(state,other_player):\n",
    "        return 'win'\n",
    "    "
   ]
  },
  {
   "cell_type": "code",
   "execution_count": 8,
   "metadata": {},
   "outputs": [],
   "source": [
    "def update_state(state,player,move):\n",
    "    start=move[0]\n",
    "    end=move[1]\n",
    "    \n",
    "    new_state=state\n",
    "    new_state[start]=0\n",
    "    new_state[end]=player\n",
    "    \n",
    "    return new_state"
   ]
  },
  {
   "cell_type": "markdown",
   "metadata": {},
   "source": [
    "valid_moves() is the most complex function here.\n",
    "\n",
    "     0  1  2  3 \n",
    "     4  5  6  7 \n",
    "     8  9 10 11 \n",
    "    12 13 14 15 \n"
   ]
  },
  {
   "cell_type": "code",
   "execution_count": 11,
   "metadata": {},
   "outputs": [],
   "source": [
    "def valid_moves(state,player):\n",
    "    if player==1:\n",
    "        other_player=2\n",
    "    else:\n",
    "        other_player=1\n",
    "    \n",
    "    moves=[]\n",
    "    # check horizontal moves\n",
    "    for start in [0,4,8,12,1,5,9,13]:\n",
    "        middle=start+1\n",
    "        end=start+2\n",
    "\n",
    "        # jumping right\n",
    "        if state[start]==player and state[middle]==player and state[end]==other_player:\n",
    "            moves.append([start,end])\n",
    "            \n",
    "        start,end=end,start  # swap the end and start squares\n",
    "        # jumping left\n",
    "        if state[start]==player and state[middle]==player and state[end]==other_player:\n",
    "            moves.append([start,end])\n",
    "            \n",
    "    # check vertical moves\n",
    "    for start in [0,1,2,3,4,5,6,7]:\n",
    "        middle=start+4\n",
    "        end=start+8\n",
    "\n",
    "        # jumping down\n",
    "        if state[start]==player and state[middle]==player and state[end]==other_player:\n",
    "            moves.append([start,end])\n",
    "            \n",
    "        start,end=end,start  # swap the end and start squares\n",
    "        # jumping up\n",
    "        if state[start]==player and state[middle]==player and state[end]==other_player:\n",
    "            moves.append([start,end])\n",
    "\n",
    "    return moves"
   ]
  },
  {
   "cell_type": "code",
   "execution_count": 12,
   "metadata": {},
   "outputs": [
    {
     "data": {
      "text/plain": [
       "[[3, 1], [7, 5], [11, 9], [15, 13]]"
      ]
     },
     "execution_count": 12,
     "metadata": {},
     "output_type": "execute_result"
    }
   ],
   "source": [
    "valid_moves(initial_state(),1)"
   ]
  },
  {
   "cell_type": "code",
   "execution_count": 14,
   "metadata": {},
   "outputs": [],
   "source": [
    "def random_move(state,player):\n",
    "    moves=valid_moves(state,player)\n",
    "    return random.choice(moves)"
   ]
  },
  {
   "cell_type": "code",
   "execution_count": 16,
   "metadata": {},
   "outputs": [],
   "source": [
    "human_agent=Agent(human_move)\n",
    "random_agent=Agent(random_move)"
   ]
  },
  {
   "cell_type": "code",
   "execution_count": 17,
   "metadata": {},
   "outputs": [],
   "source": [
    "def minimax_move(state,player):\n",
    "\n",
    "    values,moves=minimax_values(state,player)\n",
    "    return top_choice(moves,values)\n",
    "\n",
    "\n",
    "minimax_agent=Agent(minimax_move)"
   ]
  },
  {
   "cell_type": "code",
   "execution_count": 23,
   "metadata": {},
   "outputs": [
    {
     "name": "stdout",
     "output_type": "stream",
     "text": [
      "====\n",
      "Game  1\n",
      " B  B  W  W \n",
      " B  B  W  W \n",
      " B  B  W  W \n",
      " B  B  W  W \n",
      "\n",
      "  Choice Time: 0.12047696113586426 seconds \n",
      "Player 1 moves [3, 1]\n",
      " B  W  W  . \n",
      " B  B  W  W \n",
      " B  B  W  W \n",
      " B  B  W  W \n",
      "\n",
      "Player 2 moves [9, 1]\n",
      " B  B  W  . \n",
      " B  B  W  W \n",
      " B  .  W  W \n",
      " B  B  W  W \n",
      "\n",
      "  Choice Time: 0.003946065902709961 seconds \n",
      "Player 1 moves [7, 5]\n",
      " B  B  W  . \n",
      " B  W  W  . \n",
      " B  .  W  W \n",
      " B  B  W  W \n",
      "\n",
      "Player 2 moves [12, 14]\n",
      " B  B  W  . \n",
      " B  W  W  . \n",
      " B  .  W  W \n",
      " .  B  B  W \n",
      "\n",
      "  Choice Time: 0.0006639957427978516 seconds \n",
      "Player 1 moves [6, 14]\n",
      " B  B  W  . \n",
      " B  W  .  . \n",
      " B  .  W  W \n",
      " .  B  W  W \n",
      "\n",
      "Player 2 moves [0, 2]\n",
      " .  B  B  . \n",
      " B  W  .  . \n",
      " B  .  W  W \n",
      " .  B  W  W \n",
      "\n",
      "  Choice Time: 0.0001380443572998047 seconds \n",
      "Player 1 moves [15, 13]\n",
      " .  B  B  . \n",
      " B  W  .  . \n",
      " B  .  W  W \n",
      " .  W  W  . \n",
      "\n",
      "Player  1 won.\n"
     ]
    },
    {
     "data": {
      "text/plain": [
       "[1]"
      ]
     },
     "execution_count": 23,
     "metadata": {},
     "output_type": "execute_result"
    }
   ],
   "source": [
    "g=Game()\n",
    "g.run(minimax_agent,random_agent)"
   ]
  },
  {
   "cell_type": "markdown",
   "metadata": {},
   "source": [
    "## With max depth"
   ]
  },
  {
   "cell_type": "code",
   "execution_count": 25,
   "metadata": {},
   "outputs": [],
   "source": [
    "def minimax_move(state,player):\n",
    "\n",
    "    values,moves=minimax_values(state,player,maxdepth=2)\n",
    "    return top_choice(moves,values)\n",
    "\n",
    "def heuristic(state,player):\n",
    "    \n",
    "    if player==1:\n",
    "        other_player=2\n",
    "    else:\n",
    "        other_player=1\n",
    "        \n",
    "        \n",
    "    number_white_pieces=0\n",
    "    number_black_pieces=0\n",
    "    for i in range(16):\n",
    "        if state[i]==1:\n",
    "            number_white_pieces=number_white_pieces+1\n",
    "        if state[i]==2:\n",
    "            number_black_pieces=number_black_pieces+1\n",
    "            \n",
    "    total_pieces=number_white_pieces+number_black_pieces\n",
    "    \n",
    "    value=(number_white_pieces-number_black_pieces)/total_pieces\n",
    "    \n",
    "    if player==2:\n",
    "        value=-value\n",
    "    \n",
    "    return value\n",
    "\n",
    "minimax_agent=Agent(minimax_move)"
   ]
  },
  {
   "cell_type": "code",
   "execution_count": 26,
   "metadata": {},
   "outputs": [
    {
     "name": "stdout",
     "output_type": "stream",
     "text": [
      "====\n",
      "Game  1\n",
      " B  B  W  W \n",
      " B  B  W  W \n",
      " B  B  W  W \n",
      " B  B  W  W \n",
      "\n",
      "  Choice Time: 0.38008999824523926 seconds \n",
      "Player 1 moves [3, 1]\n",
      " B  W  W  . \n",
      " B  B  W  W \n",
      " B  B  W  W \n",
      " B  B  W  W \n",
      "\n",
      "Player 2 moves [9, 1]\n",
      " B  B  W  . \n",
      " B  B  W  W \n",
      " B  .  W  W \n",
      " B  B  W  W \n",
      "\n",
      "  Choice Time: 0.06750082969665527 seconds \n",
      "Player 1 moves [7, 5]\n",
      " B  B  W  . \n",
      " B  W  W  . \n",
      " B  .  W  W \n",
      " B  B  W  W \n",
      "\n",
      "Player 2 moves [0, 2]\n",
      " .  B  B  . \n",
      " B  W  W  . \n",
      " B  .  W  W \n",
      " B  B  W  W \n",
      "\n",
      "  Choice Time: 0.006624937057495117 seconds \n",
      "Player 1 moves [15, 13]\n",
      " .  B  B  . \n",
      " B  W  W  . \n",
      " B  .  W  W \n",
      " B  W  W  . \n",
      "\n",
      "Player  1 won.\n"
     ]
    },
    {
     "data": {
      "text/plain": [
       "[1]"
      ]
     },
     "execution_count": 26,
     "metadata": {},
     "output_type": "execute_result"
    }
   ],
   "source": [
    "g=Game()\n",
    "g.run(minimax_agent,random_agent)"
   ]
  },
  {
   "cell_type": "code",
   "execution_count": null,
   "metadata": {},
   "outputs": [],
   "source": []
  }
 ],
 "metadata": {
  "kernelspec": {
   "display_name": "Python 3",
   "language": "python",
   "name": "python3"
  },
  "language_info": {
   "codemirror_mode": {
    "name": "ipython",
    "version": 3
   },
   "file_extension": ".py",
   "mimetype": "text/x-python",
   "name": "python",
   "nbconvert_exporter": "python",
   "pygments_lexer": "ipython3",
   "version": "3.7.3"
  }
 },
 "nbformat": 4,
 "nbformat_minor": 4
}

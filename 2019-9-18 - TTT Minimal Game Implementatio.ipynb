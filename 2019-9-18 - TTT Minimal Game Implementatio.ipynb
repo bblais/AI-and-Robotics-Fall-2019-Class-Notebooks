{
 "cells": [
  {
   "cell_type": "markdown",
   "metadata": {},
   "source": [
    "## TTT (Tic Tac Toe) Minimal Implementation"
   ]
  },
  {
   "cell_type": "code",
   "execution_count": null,
   "metadata": {},
   "outputs": [],
   "source": [
    "from Game import *"
   ]
  },
  {
   "cell_type": "markdown",
   "metadata": {},
   "source": [
    "Functions for the Game"
   ]
  },
  {
   "cell_type": "code",
   "execution_count": null,
   "metadata": {},
   "outputs": [],
   "source": [
    "def initial_state():\n",
    "    state=Board(3,3)\n",
    "    return state"
   ]
  },
  {
   "cell_type": "code",
   "execution_count": null,
   "metadata": {},
   "outputs": [],
   "source": [
    "def update_state(state,player,move):\n",
    "    new_state=state\n",
    "    new_state[move]=player\n",
    "    return new_state"
   ]
  },
  {
   "cell_type": "code",
   "execution_count": null,
   "metadata": {},
   "outputs": [],
   "source": [
    "def win_status(state,player):\n",
    "    # this will be a bit longer\n",
    "    \n",
    "#     0 | 1 | 2\n",
    "#     ---------\n",
    "#     3 | 4 | 5\n",
    "#     ---------\n",
    "#     6 | 7 | 8\n",
    "    \n",
    "\n",
    "    if state[0]==player and state[4]==player and state[8]==player:\n",
    "        return 'win'\n",
    "    if state[2]==player and state[4]==player and state[6]==player:\n",
    "        return 'win'\n",
    "    if state[0]==player and state[1]==player and state[2]==player:\n",
    "        return 'win'\n",
    "    if state[3]==player and state[4]==player and state[5]==player:\n",
    "        return 'win'\n",
    "    if state[6]==player and state[7]==player and state[8]==player:\n",
    "        return 'win'\n",
    "    if state[0]==player and state[3]==player and state[6]==player:\n",
    "        return 'win'\n",
    "    if state[1]==player and state[4]==player and state[7]==player:\n",
    "        return 'win'\n",
    "    if state[2]==player and state[5]==player and state[8]==player:\n",
    "        return 'win'\n",
    "    \n",
    "    if player==1:\n",
    "        other_player=2\n",
    "    else:\n",
    "        other_player=1\n",
    "    \n",
    "    \n",
    "    if not valid_moves(state,other_player):\n",
    "        return 'stalemate'\n",
    "    \n",
    "    \n",
    "    "
   ]
  },
  {
   "cell_type": "code",
   "execution_count": null,
   "metadata": {},
   "outputs": [],
   "source": [
    "def valid_moves(state,player):\n",
    "\n",
    "    moves=[]  # no valid moves\n",
    "    for i in range(9):\n",
    "        if state[i]==0:\n",
    "            moves.append(i)\n",
    "    \n",
    "    return moves"
   ]
  },
  {
   "cell_type": "code",
   "execution_count": null,
   "metadata": {},
   "outputs": [],
   "source": [
    "def show_state(state):\n",
    "    print(state[0],'|',state[1],'|',state[2])\n",
    "    print(\"--+---+---\")\n",
    "    print(state[3],'|',state[4],'|',state[5])\n",
    "    print(\"--+---+---\")\n",
    "    print(state[6],'|',state[7],'|',state[8])\n"
   ]
  },
  {
   "cell_type": "markdown",
   "metadata": {},
   "source": [
    "Move Functions for the Agents"
   ]
  },
  {
   "cell_type": "code",
   "execution_count": null,
   "metadata": {},
   "outputs": [],
   "source": [
    "def random_move(state,player):\n",
    "    moves=valid_moves(state,player)\n",
    "    return random.choice(moves)"
   ]
  },
  {
   "cell_type": "code",
   "execution_count": null,
   "metadata": {},
   "outputs": [],
   "source": [
    "def get_human_move(state,player):\n",
    "    print(\"Locations:\")\n",
    "    print(\"    0 | 1 | 2\")\n",
    "    print(\"    ---------\")\n",
    "    print(\"    3 | 4 | 5\")\n",
    "    print(\"    ---------\")\n",
    "    print(\"    6 | 7 | 8\")\n",
    "    \n",
    "    while True:\n",
    "        \n",
    "        move=input('What square do you want to move to?')\n",
    "        move=int(move)\n",
    "\n",
    "        if move in valid_moves(state,player):\n",
    "            break\n",
    "        else:\n",
    "            print(\"You messed up!\")\n",
    "    \n",
    "    return move\n",
    "\n"
   ]
  },
  {
   "cell_type": "markdown",
   "metadata": {},
   "source": [
    "Running the Game"
   ]
  },
  {
   "cell_type": "code",
   "execution_count": null,
   "metadata": {},
   "outputs": [],
   "source": [
    "human_agent=Agent(get_human_move)\n",
    "random_agent=Agent(random_move)"
   ]
  },
  {
   "cell_type": "code",
   "execution_count": 10,
   "metadata": {},
   "outputs": [
    {
     "name": "stdout",
     "output_type": "stream",
     "text": [
      "====\n",
      "Game  1\n",
      "0 | 0 | 0\n",
      "--+---+---\n",
      "0 | 0 | 0\n",
      "--+---+---\n",
      "0 | 0 | 0\n",
      "Player 1 moves 8\n",
      "0 | 0 | 0\n",
      "--+---+---\n",
      "0 | 0 | 0\n",
      "--+---+---\n",
      "0 | 0 | 1\n",
      "Player 2 moves 6\n",
      "0 | 0 | 0\n",
      "--+---+---\n",
      "0 | 0 | 0\n",
      "--+---+---\n",
      "2 | 0 | 1\n",
      "Player 1 moves 1\n",
      "0 | 1 | 0\n",
      "--+---+---\n",
      "0 | 0 | 0\n",
      "--+---+---\n",
      "2 | 0 | 1\n",
      "Player 2 moves 2\n",
      "0 | 1 | 2\n",
      "--+---+---\n",
      "0 | 0 | 0\n",
      "--+---+---\n",
      "2 | 0 | 1\n",
      "Player 1 moves 7\n",
      "0 | 1 | 2\n",
      "--+---+---\n",
      "0 | 0 | 0\n",
      "--+---+---\n",
      "2 | 1 | 1\n",
      "Player 2 moves 4\n",
      "0 | 1 | 2\n",
      "--+---+---\n",
      "0 | 2 | 0\n",
      "--+---+---\n",
      "2 | 1 | 1\n",
      "Player  2 won.\n"
     ]
    },
    {
     "data": {
      "text/plain": [
       "[2]"
      ]
     },
     "execution_count": 10,
     "metadata": {},
     "output_type": "execute_result"
    }
   ],
   "source": [
    "g=Game()\n",
    "g.run(random_agent,random_agent)"
   ]
  },
  {
   "cell_type": "code",
   "execution_count": 11,
   "metadata": {},
   "outputs": [
    {
     "name": "stdout",
     "output_type": "stream",
     "text": [
      "====\n",
      "Game  1\n",
      "0 | 0 | 0\n",
      "--+---+---\n",
      "0 | 0 | 0\n",
      "--+---+---\n",
      "0 | 0 | 0\n",
      "Player 1 moves 3\n",
      "0 | 0 | 0\n",
      "--+---+---\n",
      "1 | 0 | 0\n",
      "--+---+---\n",
      "0 | 0 | 0\n",
      "Locations:\n",
      "    0 | 1 | 2\n",
      "    ---------\n",
      "    3 | 4 | 5\n",
      "    ---------\n",
      "    6 | 7 | 8\n"
     ]
    },
    {
     "name": "stdin",
     "output_type": "stream",
     "text": [
      "What square do you want to move to? 0\n"
     ]
    },
    {
     "name": "stdout",
     "output_type": "stream",
     "text": [
      "Player 2 moves 0\n",
      "2 | 0 | 0\n",
      "--+---+---\n",
      "1 | 0 | 0\n",
      "--+---+---\n",
      "0 | 0 | 0\n",
      "Player 1 moves 8\n",
      "2 | 0 | 0\n",
      "--+---+---\n",
      "1 | 0 | 0\n",
      "--+---+---\n",
      "0 | 0 | 1\n",
      "Locations:\n",
      "    0 | 1 | 2\n",
      "    ---------\n",
      "    3 | 4 | 5\n",
      "    ---------\n",
      "    6 | 7 | 8\n"
     ]
    },
    {
     "name": "stdin",
     "output_type": "stream",
     "text": [
      "What square do you want to move to? 4\n"
     ]
    },
    {
     "name": "stdout",
     "output_type": "stream",
     "text": [
      "Player 2 moves 4\n",
      "2 | 0 | 0\n",
      "--+---+---\n",
      "1 | 2 | 0\n",
      "--+---+---\n",
      "0 | 0 | 1\n",
      "Player 1 moves 6\n",
      "2 | 0 | 0\n",
      "--+---+---\n",
      "1 | 2 | 0\n",
      "--+---+---\n",
      "1 | 0 | 1\n",
      "Locations:\n",
      "    0 | 1 | 2\n",
      "    ---------\n",
      "    3 | 4 | 5\n",
      "    ---------\n",
      "    6 | 7 | 8\n"
     ]
    },
    {
     "name": "stdin",
     "output_type": "stream",
     "text": [
      "What square do you want to move to? 7\n"
     ]
    },
    {
     "name": "stdout",
     "output_type": "stream",
     "text": [
      "Player 2 moves 7\n",
      "2 | 0 | 0\n",
      "--+---+---\n",
      "1 | 2 | 0\n",
      "--+---+---\n",
      "1 | 2 | 1\n",
      "Player 1 moves 1\n",
      "2 | 1 | 0\n",
      "--+---+---\n",
      "1 | 2 | 0\n",
      "--+---+---\n",
      "1 | 2 | 1\n",
      "Locations:\n",
      "    0 | 1 | 2\n",
      "    ---------\n",
      "    3 | 4 | 5\n",
      "    ---------\n",
      "    6 | 7 | 8\n"
     ]
    },
    {
     "name": "stdin",
     "output_type": "stream",
     "text": [
      "What square do you want to move to? 5\n"
     ]
    },
    {
     "name": "stdout",
     "output_type": "stream",
     "text": [
      "Player 2 moves 5\n",
      "2 | 1 | 0\n",
      "--+---+---\n",
      "1 | 2 | 2\n",
      "--+---+---\n",
      "1 | 2 | 1\n",
      "Player 1 moves 2\n",
      "2 | 1 | 1\n",
      "--+---+---\n",
      "1 | 2 | 2\n",
      "--+---+---\n",
      "1 | 2 | 1\n",
      "Neither player won:  stalemate\n"
     ]
    },
    {
     "data": {
      "text/plain": [
       "[0]"
      ]
     },
     "execution_count": 11,
     "metadata": {},
     "output_type": "execute_result"
    }
   ],
   "source": [
    "g=Game()\n",
    "g.run(random_agent,human_agent)"
   ]
  },
  {
   "cell_type": "code",
   "execution_count": null,
   "metadata": {},
   "outputs": [],
   "source": []
  }
 ],
 "metadata": {
  "kernelspec": {
   "display_name": "Python 3",
   "language": "python",
   "name": "python3"
  },
  "language_info": {
   "codemirror_mode": {
    "name": "ipython",
    "version": 3
   },
   "file_extension": ".py",
   "mimetype": "text/x-python",
   "name": "python",
   "nbconvert_exporter": "python",
   "pygments_lexer": "ipython3",
   "version": "3.7.3"
  }
 },
 "nbformat": 4,
 "nbformat_minor": 4
}

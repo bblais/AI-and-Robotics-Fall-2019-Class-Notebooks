{
 "cells": [
  {
   "cell_type": "markdown",
   "metadata": {},
   "source": [
    "# Rudimentary Robot Simulator"
   ]
  },
  {
   "cell_type": "code",
   "execution_count": 1,
   "metadata": {},
   "outputs": [
    {
     "name": "stdout",
     "output_type": "stream",
     "text": [
      "Populating the interactive namespace from numpy and matplotlib\n"
     ]
    }
   ],
   "source": [
    "%pylab inline"
   ]
  },
  {
   "cell_type": "markdown",
   "metadata": {},
   "source": [
    "### Example use of the Robot Simulator\n",
    "\n",
    "<img src=\"sim_images/7.png\">\n",
    "\n",
    "1. The sensor on port 1 is the ultrasonic sensor, giving the distance to the far right wall (the robot is facing right)\n",
    "1. The sensor on port 2 is the color sensor, giving the color of the current pixel below the robot\n",
    "2. The initial position of the robot is on the white space on the far left\n",
    "3. The motor on port A drives the robot forward"
   ]
  },
  {
   "cell_type": "code",
   "execution_count": 3,
   "metadata": {},
   "outputs": [],
   "source": [
    "from robotsim import *"
   ]
  },
  {
   "cell_type": "code",
   "execution_count": 4,
   "metadata": {},
   "outputs": [
    {
     "name": "stdout",
     "output_type": "stream",
     "text": [
      "829\n",
      "[1.0, 1.0, 1.0]\n",
      "805\n",
      "[1.0, 1.0, 1.0]\n",
      "782\n",
      "[1.0, 1.0, 1.0]\n",
      "758\n",
      "[0.6039215922355652, 0.27843138575553894, 0.22745098173618317]\n",
      "734\n",
      "[0.6196078658103943, 0.29019609093666077, 0.24313725531101227]\n",
      "711\n",
      "[1.0, 1.0, 1.0]\n",
      "687\n",
      "[0.5921568870544434, 0.2666666805744171, 0.21568627655506134]\n",
      "663\n",
      "[0.6039215922355652, 0.27843138575553894, 0.22745098173618317]\n",
      "640\n",
      "[1.0, 1.0, 1.0]\n",
      "616\n",
      "[0.6000000238418579, 0.27450981736183167, 0.2235294133424759]\n"
     ]
    },
    {
     "data": {
      "image/png": "[encoded data removed]",
      "text/plain": [
       "<Figure size 432x288 with 1 Axes>"
      ]
     },
     "metadata": {
      "needs_background": "light"
     },
     "output_type": "display_data"
    }
   ],
   "source": [
    "environment=Env('sim_images/10.png')\n",
    "distance_sensor,color_sensor=Sensors(\"us\",\"color\",None,None,environment)\n",
    "left,right=Motors(\"ab\",environment)\n",
    "left.power=50\n",
    "for i in range(10):\n",
    "    Wait(0.5)\n",
    "    print(distance_sensor.value)\n",
    "    print(color_sensor.value)\n",
    "    \n",
    "environment.draw()"
   ]
  },
  {
   "cell_type": "markdown",
   "metadata": {},
   "source": [
    "# Programs to Do"
   ]
  },
  {
   "cell_type": "markdown",
   "metadata": {},
   "source": [
    "## Question 1:\n",
    "\n",
    "Write a program to drive the robot to the right wall, without hitting it."
   ]
  },
  {
   "cell_type": "code",
   "execution_count": null,
   "metadata": {},
   "outputs": [],
   "source": []
  },
  {
   "cell_type": "markdown",
   "metadata": {},
   "source": [
    "## Question 2:\n",
    "\n",
    "Write a program to identify the colors that the robot is moving over: white, red, or black and make a list of those colors for a trip across the board."
   ]
  },
  {
   "cell_type": "code",
   "execution_count": null,
   "metadata": {},
   "outputs": [],
   "source": []
  },
  {
   "cell_type": "markdown",
   "metadata": {},
   "source": [
    "## Question 3:\n",
    "\n",
    "Make a program to load a random image from the sim_images folder and to count the number of red sticks."
   ]
  },
  {
   "cell_type": "code",
   "execution_count": null,
   "metadata": {},
   "outputs": [],
   "source": []
  }
 ],
 "metadata": {
  "kernelspec": {
   "display_name": "Python 3",
   "language": "python",
   "name": "python3"
  },
  "language_info": {
   "codemirror_mode": {
    "name": "ipython",
    "version": 3
   },
   "file_extension": ".py",
   "mimetype": "text/x-python",
   "name": "python",
   "nbconvert_exporter": "python",
   "pygments_lexer": "ipython3",
   "version": "3.7.4"
  }
 },
 "nbformat": 4,
 "nbformat_minor": 4
}

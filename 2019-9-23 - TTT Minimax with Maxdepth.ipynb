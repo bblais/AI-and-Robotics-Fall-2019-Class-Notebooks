{
 "cells": [
  {
   "cell_type": "markdown",
   "metadata": {},
   "source": [
    "## TTT (Tic Tac Toe) Minimal Implementation"
   ]
  },
  {
   "cell_type": "code",
   "execution_count": 3,
   "metadata": {},
   "outputs": [
    {
     "name": "stdout",
     "output_type": "stream",
     "text": [
      "Version:  0.2.14\n"
     ]
    }
   ],
   "source": [
    "from Game import *\n",
    "from Game.minimax import *"
   ]
  },
  {
   "cell_type": "markdown",
   "metadata": {},
   "source": [
    "Functions for the Game"
   ]
  },
  {
   "cell_type": "code",
   "execution_count": 4,
   "metadata": {},
   "outputs": [],
   "source": [
    "def initial_state():\n",
    "    state=Board(3,3)\n",
    "    state.pieces=['.','X','O']\n",
    "    \n",
    "    return state"
   ]
  },
  {
   "cell_type": "code",
   "execution_count": 5,
   "metadata": {},
   "outputs": [
    {
     "data": {
      "text/plain": [
       " .  .  . \n",
       " .  .  . \n",
       " .  .  . "
      ]
     },
     "execution_count": 5,
     "metadata": {},
     "output_type": "execute_result"
    }
   ],
   "source": [
    "state=initial_state()\n",
    "state"
   ]
  },
  {
   "cell_type": "code",
   "execution_count": 6,
   "metadata": {},
   "outputs": [
    {
     "data": {
      "text/plain": [
       " 0  0  0 \n",
       " 0  0  0 \n",
       " 0  0  0 "
      ]
     },
     "execution_count": 6,
     "metadata": {},
     "output_type": "execute_result"
    }
   ],
   "source": [
    "state=Board(3,3)\n",
    "state"
   ]
  },
  {
   "cell_type": "code",
   "execution_count": 7,
   "metadata": {},
   "outputs": [],
   "source": [
    "state.pieces=['.','X','O']"
   ]
  },
  {
   "cell_type": "code",
   "execution_count": 8,
   "metadata": {},
   "outputs": [
    {
     "data": {
      "text/plain": [
       " .  .  . \n",
       " .  .  . \n",
       " .  .  . "
      ]
     },
     "execution_count": 8,
     "metadata": {},
     "output_type": "execute_result"
    }
   ],
   "source": [
    "state"
   ]
  },
  {
   "cell_type": "code",
   "execution_count": 9,
   "metadata": {},
   "outputs": [
    {
     "data": {
      "text/plain": [
       " .  .  . \n",
       " .  .  X \n",
       " O  .  . "
      ]
     },
     "execution_count": 9,
     "metadata": {},
     "output_type": "execute_result"
    }
   ],
   "source": [
    "state[5]=1\n",
    "state[6]=2\n",
    "state"
   ]
  },
  {
   "cell_type": "code",
   "execution_count": 10,
   "metadata": {},
   "outputs": [
    {
     "name": "stdout",
     "output_type": "stream",
     "text": [
      " .  .  . \n",
      " .  .  X \n",
      " O  .  . \n",
      "\n"
     ]
    }
   ],
   "source": [
    "print(state)"
   ]
  },
  {
   "cell_type": "code",
   "execution_count": 11,
   "metadata": {},
   "outputs": [],
   "source": [
    "def update_state(state,player,move):\n",
    "    new_state=state\n",
    "    new_state[move]=player\n",
    "    return new_state"
   ]
  },
  {
   "cell_type": "code",
   "execution_count": 12,
   "metadata": {},
   "outputs": [],
   "source": [
    "def win_status(state,player):\n",
    "    # this will be a bit longer\n",
    "    \n",
    "#     0 | 1 | 2\n",
    "#     ---------\n",
    "#     3 | 4 | 5\n",
    "#     ---------\n",
    "#     6 | 7 | 8\n",
    "    \n",
    "\n",
    "    if state[0]==player and state[4]==player and state[8]==player:\n",
    "        return 'win'\n",
    "    if state[2]==player and state[4]==player and state[6]==player:\n",
    "        return 'win'\n",
    "    if state[0]==player and state[1]==player and state[2]==player:\n",
    "        return 'win'\n",
    "    if state[3]==player and state[4]==player and state[5]==player:\n",
    "        return 'win'\n",
    "    if state[6]==player and state[7]==player and state[8]==player:\n",
    "        return 'win'\n",
    "    if state[0]==player and state[3]==player and state[6]==player:\n",
    "        return 'win'\n",
    "    if state[1]==player and state[4]==player and state[7]==player:\n",
    "        return 'win'\n",
    "    if state[2]==player and state[5]==player and state[8]==player:\n",
    "        return 'win'\n",
    "    \n",
    "    if player==1:\n",
    "        other_player=2\n",
    "    else:\n",
    "        other_player=1\n",
    "    \n",
    "    \n",
    "    if not valid_moves(state,other_player):\n",
    "        return 'stalemate'\n",
    "    \n",
    "    \n",
    "    "
   ]
  },
  {
   "cell_type": "code",
   "execution_count": 13,
   "metadata": {},
   "outputs": [],
   "source": [
    "def valid_moves(state,player):\n",
    "\n",
    "    moves=[]  # no valid moves\n",
    "    for i in range(9):\n",
    "        if state[i]==0:\n",
    "            moves.append(i)\n",
    "    \n",
    "    return moves"
   ]
  },
  {
   "cell_type": "code",
   "execution_count": 14,
   "metadata": {},
   "outputs": [],
   "source": [
    "def show_state(state):\n",
    "    print(state[0],'|',state[1],'|',state[2])\n",
    "    print(\"--+---+---\")\n",
    "    print(state[3],'|',state[4],'|',state[5])\n",
    "    print(\"--+---+---\")\n",
    "    print(state[6],'|',state[7],'|',state[8])\n"
   ]
  },
  {
   "cell_type": "markdown",
   "metadata": {},
   "source": [
    "Move Functions for the Agents"
   ]
  },
  {
   "cell_type": "code",
   "execution_count": 15,
   "metadata": {},
   "outputs": [],
   "source": [
    "def random_move(state,player):\n",
    "    moves=valid_moves(state,player)\n",
    "    return random.choice(moves)"
   ]
  },
  {
   "cell_type": "code",
   "execution_count": 16,
   "metadata": {},
   "outputs": [],
   "source": [
    "def get_human_move(state,player):\n",
    "    print(\"Locations:\")\n",
    "    print(\"    0 | 1 | 2\")\n",
    "    print(\"    ---------\")\n",
    "    print(\"    3 | 4 | 5\")\n",
    "    print(\"    ---------\")\n",
    "    print(\"    6 | 7 | 8\")\n",
    "    \n",
    "    while True:\n",
    "        \n",
    "        move=input('What square do you want to move to?')\n",
    "        move=int(move)\n",
    "\n",
    "        if move in valid_moves(state,player):\n",
    "            break\n",
    "        else:\n",
    "            print(\"You messed up!\")\n",
    "    \n",
    "    return move\n",
    "\n"
   ]
  },
  {
   "cell_type": "code",
   "execution_count": 17,
   "metadata": {},
   "outputs": [],
   "source": [
    "human_agent=Agent(get_human_move)\n",
    "random_agent=Agent(random_move)"
   ]
  },
  {
   "cell_type": "code",
   "execution_count": 18,
   "metadata": {},
   "outputs": [],
   "source": [
    "def minimax_move(state,player):\n",
    "\n",
    "    values,moves=minimax_values(state,player)\n",
    "    return top_choice(moves,values)\n",
    "\n",
    "\n",
    "minimax_agent=Agent(minimax_move)"
   ]
  },
  {
   "cell_type": "code",
   "execution_count": 19,
   "metadata": {},
   "outputs": [],
   "source": [
    "def minimax_move(state,player):\n",
    "\n",
    "    values,moves=minimax_values(state,player,maxdepth=2)\n",
    "    return top_choice(moves,values)\n",
    "\n",
    "def heuristic(state,player):\n",
    "    \n",
    "    if player==1:\n",
    "        other_player=2\n",
    "    else:\n",
    "        other_player=1\n",
    "        \n",
    "    value=0.0\n",
    "    if state[4]==player:\n",
    "        value=value+0.2\n",
    "        \n",
    "    if state[4]==other_player:\n",
    "        value=value-0.2\n",
    "        \n",
    "    return value\n",
    "\n",
    "minimax_agent=Agent(minimax_move)"
   ]
  },
  {
   "cell_type": "code",
   "execution_count": 20,
   "metadata": {},
   "outputs": [
    {
     "name": "stdout",
     "output_type": "stream",
     "text": [
      "  Choice Time: 0.15428709983825684 seconds \n"
     ]
    },
    {
     "data": {
      "text/plain": [
       "([1, 0, 0, -1, -1, -1, -1], [8, 4, 0, 7, 3, 2, 1])"
      ]
     },
     "execution_count": 20,
     "metadata": {},
     "output_type": "execute_result"
    }
   ],
   "source": [
    "minimax_values(state,1)"
   ]
  },
  {
   "cell_type": "code",
   "execution_count": 21,
   "metadata": {},
   "outputs": [
    {
     "name": "stdout",
     "output_type": "stream",
     "text": [
      "  Choice Time: 0.11948609352111816 seconds \n"
     ]
    },
    {
     "data": {
      "text/plain": [
       "([0.2, 0.0, -0.2, -0.2, -0.2, -0.2, -0.2], [3, 2, 8, 7, 4, 1, 0])"
      ]
     },
     "execution_count": 21,
     "metadata": {},
     "output_type": "execute_result"
    }
   ],
   "source": [
    "minimax_values(state,1,maxdepth=3)"
   ]
  },
  {
   "cell_type": "markdown",
   "metadata": {},
   "source": [
    "Running the Game"
   ]
  },
  {
   "cell_type": "code",
   "execution_count": 22,
   "metadata": {},
   "outputs": [
    {
     "name": "stdout",
     "output_type": "stream",
     "text": [
      "====\n",
      "Game  1\n",
      "0 | 0 | 0\n",
      "--+---+---\n",
      "0 | 0 | 0\n",
      "--+---+---\n",
      "0 | 0 | 0\n",
      "Player 1 moves 3\n",
      "0 | 0 | 0\n",
      "--+---+---\n",
      "1 | 0 | 0\n",
      "--+---+---\n",
      "0 | 0 | 0\n",
      "  Choice Time: 0.07437491416931152 seconds \n",
      "Player 2 moves 4\n",
      "0 | 0 | 0\n",
      "--+---+---\n",
      "1 | 2 | 0\n",
      "--+---+---\n",
      "0 | 0 | 0\n",
      "Player 1 moves 1\n",
      "0 | 1 | 0\n",
      "--+---+---\n",
      "1 | 2 | 0\n",
      "--+---+---\n",
      "0 | 0 | 0\n",
      "  Choice Time: 0.020146846771240234 seconds \n",
      "Player 2 moves 0\n",
      "2 | 1 | 0\n",
      "--+---+---\n",
      "1 | 2 | 0\n",
      "--+---+---\n",
      "0 | 0 | 0\n",
      "Player 1 moves 2\n",
      "2 | 1 | 1\n",
      "--+---+---\n",
      "1 | 2 | 0\n",
      "--+---+---\n",
      "0 | 0 | 0\n",
      "  Choice Time: 0.0031533241271972656 seconds \n",
      "Player 2 moves 8\n",
      "2 | 1 | 1\n",
      "--+---+---\n",
      "1 | 2 | 0\n",
      "--+---+---\n",
      "0 | 0 | 2\n",
      "Player  2 won.\n"
     ]
    },
    {
     "data": {
      "text/plain": [
       "[2]"
      ]
     },
     "execution_count": 22,
     "metadata": {},
     "output_type": "execute_result"
    }
   ],
   "source": [
    "g=Game()\n",
    "g.run(random_agent,minimax_agent)"
   ]
  },
  {
   "cell_type": "code",
   "execution_count": 23,
   "metadata": {},
   "outputs": [
    {
     "name": "stdout",
     "output_type": "stream",
     "text": [
      "  Choice Time: 0.08159685134887695 seconds \n",
      "  Choice Time: 0.02108597755432129 seconds \n",
      "  Choice Time: 0.0021600723266601562 seconds \n",
      "  Choice Time: 0.0001342296600341797 seconds \n",
      "  Choice Time: 0.07413506507873535 seconds \n",
      "  Choice Time: 0.02259039878845215 seconds \n",
      "  Choice Time: 0.005436897277832031 seconds \n",
      "  Choice Time: 0.00041604042053222656 seconds \n",
      "  Choice Time: 0.05852103233337402 seconds \n",
      "  Choice Time: 0.01753997802734375 seconds \n",
      "  Choice Time: 0.0032100677490234375 seconds \n",
      "  Choice Time: 0.0002810955047607422 seconds \n",
      "  Choice Time: 0.07343196868896484 seconds \n",
      "  Choice Time: 0.012666940689086914 seconds \n",
      "  Choice Time: 0.0018661022186279297 seconds \n",
      "  Choice Time: 0.0002129077911376953 seconds \n",
      "  Choice Time: 0.07654571533203125 seconds \n",
      "  Choice Time: 0.021242141723632812 seconds \n",
      "  Choice Time: 0.00269317626953125 seconds \n",
      "  Choice Time: 0.00021028518676757812 seconds \n",
      "  Choice Time: 0.06864619255065918 seconds \n",
      "  Choice Time: 0.022114992141723633 seconds \n",
      "  Choice Time: 0.003237009048461914 seconds \n",
      "  Choice Time: 0.0002942085266113281 seconds \n",
      "  Choice Time: 0.08165287971496582 seconds \n",
      "  Choice Time: 0.014604806900024414 seconds \n",
      "  Choice Time: 0.002819061279296875 seconds \n",
      "  Choice Time: 0.08512210845947266 seconds \n",
      "  Choice Time: 0.02013707160949707 seconds \n",
      "  Choice Time: 0.0020799636840820312 seconds \n",
      "  Choice Time: 0.07156682014465332 seconds \n",
      "  Choice Time: 0.017041921615600586 seconds \n",
      "  Choice Time: 0.002736806869506836 seconds \n",
      "  Choice Time: 0.04857277870178223 seconds \n",
      "  Choice Time: 0.017962932586669922 seconds \n",
      "  Choice Time: 0.0029828548431396484 seconds \n",
      "  Choice Time: 0.0002818107604980469 seconds \n"
     ]
    },
    {
     "data": {
      "text/plain": [
       "[2, 0, 0, 2, 2, 0, 2, 2, 2, 0]"
      ]
     },
     "execution_count": 23,
     "metadata": {},
     "output_type": "execute_result"
    }
   ],
   "source": [
    "g=Game(number_of_games=10)\n",
    "g.display=False\n",
    "g.run(random_agent,minimax_agent)"
   ]
  },
  {
   "cell_type": "code",
   "execution_count": 15,
   "metadata": {},
   "outputs": [
    {
     "data": {
      "text/plain": [
       " 0  0  0 \n",
       " 0  0  0 \n",
       " 0  0  0 "
      ]
     },
     "execution_count": 15,
     "metadata": {},
     "output_type": "execute_result"
    }
   ],
   "source": [
    "state=initial_state()\n",
    "state"
   ]
  },
  {
   "cell_type": "code",
   "execution_count": 16,
   "metadata": {},
   "outputs": [
    {
     "name": "stdout",
     "output_type": "stream",
     "text": [
      "  Choice Time: 2.7032458782196045 seconds \n"
     ]
    },
    {
     "data": {
      "text/plain": [
       "([0, 0, 0, 0, 0, 0, 0, 0, 0], [8, 7, 6, 5, 4, 3, 2, 1, 0])"
      ]
     },
     "execution_count": 16,
     "metadata": {},
     "output_type": "execute_result"
    }
   ],
   "source": [
    "minimax_values(state,1)"
   ]
  },
  {
   "cell_type": "code",
   "execution_count": 22,
   "metadata": {},
   "outputs": [
    {
     "data": {
      "text/plain": [
       " 1  2  0 \n",
       " 0  0  0 \n",
       " 0  0  0 "
      ]
     },
     "execution_count": 22,
     "metadata": {},
     "output_type": "execute_result"
    }
   ],
   "source": [
    "state=initial_state()\n",
    "state[0]=1\n",
    "state[1]=2\n",
    "state"
   ]
  },
  {
   "cell_type": "code",
   "execution_count": 23,
   "metadata": {},
   "outputs": [
    {
     "name": "stdout",
     "output_type": "stream",
     "text": [
      "  Choice Time: 0.20343422889709473 seconds \n"
     ]
    },
    {
     "data": {
      "text/plain": [
       "([1, 1, 1, 0, 0, 0, 0], [6, 4, 3, 8, 7, 5, 2])"
      ]
     },
     "execution_count": 23,
     "metadata": {},
     "output_type": "execute_result"
    }
   ],
   "source": [
    "values,moves=minimax_values(state,1)\n",
    "values,moves"
   ]
  },
  {
   "cell_type": "code",
   "execution_count": 19,
   "metadata": {},
   "outputs": [],
   "source": [
    "state=Board(4,5)"
   ]
  },
  {
   "cell_type": "code",
   "execution_count": 20,
   "metadata": {},
   "outputs": [
    {
     "data": {
      "text/plain": [
       "19"
      ]
     },
     "execution_count": 20,
     "metadata": {},
     "output_type": "execute_result"
    }
   ],
   "source": [
    "state.index_from_rc(3,4)"
   ]
  },
  {
   "cell_type": "code",
   "execution_count": 21,
   "metadata": {},
   "outputs": [
    {
     "data": {
      "text/plain": [
       "(2, 3)"
      ]
     },
     "execution_count": 21,
     "metadata": {},
     "output_type": "execute_result"
    }
   ],
   "source": [
    "state.rc_from_index(13)"
   ]
  },
  {
   "cell_type": "code",
   "execution_count": null,
   "metadata": {},
   "outputs": [],
   "source": []
  }
 ],
 "metadata": {
  "kernelspec": {
   "display_name": "Python 3",
   "language": "python",
   "name": "python3"
  },
  "language_info": {
   "codemirror_mode": {
    "name": "ipython",
    "version": 3
   },
   "file_extension": ".py",
   "mimetype": "text/x-python",
   "name": "python",
   "nbconvert_exporter": "python",
   "pygments_lexer": "ipython3",
   "version": "3.7.3"
  }
 },
 "nbformat": 4,
 "nbformat_minor": 4
}

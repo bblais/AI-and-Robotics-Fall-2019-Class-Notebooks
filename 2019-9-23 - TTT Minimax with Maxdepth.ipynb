{
 "cells": [
  {
   "cell_type": "markdown",
   "metadata": {},
   "source": [
    "## TTT (Tic Tac Toe) Minimal Implementation"
   ]
  },
  {
   "cell_type": "code",
   "execution_count": 23,
   "metadata": {},
   "outputs": [],
   "source": [
    "from Game import *\n",
    "from Game.minimax import *"
   ]
  },
  {
   "cell_type": "markdown",
   "metadata": {},
   "source": [
    "Functions for the Game"
   ]
  },
  {
   "cell_type": "code",
   "execution_count": 24,
   "metadata": {},
   "outputs": [],
   "source": [
    "def initial_state():\n",
    "    state=Board(3,3)\n",
    "    #state.pieces=['.','X','O']\n",
    "    \n",
    "    for i in range(9):\n",
    "        state[i]=1\n",
    "        \n",
    "    return state"
   ]
  },
  {
   "cell_type": "code",
   "execution_count": 25,
   "metadata": {},
   "outputs": [
    {
     "data": {
      "text/plain": [
       " 1  1  1 \n",
       " 1  1  1 \n",
       " 1  1  1 "
      ]
     },
     "execution_count": 25,
     "metadata": {},
     "output_type": "execute_result"
    }
   ],
   "source": [
    "state=initial_state()\n",
    "state"
   ]
  },
  {
   "cell_type": "code",
   "execution_count": 26,
   "metadata": {},
   "outputs": [
    {
     "data": {
      "text/plain": [
       " 0  0  0 \n",
       " 0  0  0 \n",
       " 0  0  0 "
      ]
     },
     "execution_count": 26,
     "metadata": {},
     "output_type": "execute_result"
    }
   ],
   "source": [
    "state=Board(3,3)\n",
    "state"
   ]
  },
  {
   "cell_type": "code",
   "execution_count": 27,
   "metadata": {},
   "outputs": [],
   "source": [
    "state.pieces=['.','X','O']"
   ]
  },
  {
   "cell_type": "code",
   "execution_count": 28,
   "metadata": {},
   "outputs": [
    {
     "data": {
      "text/plain": [
       " .  .  . \n",
       " .  .  . \n",
       " .  .  . "
      ]
     },
     "execution_count": 28,
     "metadata": {},
     "output_type": "execute_result"
    }
   ],
   "source": [
    "state"
   ]
  },
  {
   "cell_type": "code",
   "execution_count": 29,
   "metadata": {},
   "outputs": [
    {
     "data": {
      "text/plain": [
       " .  .  . \n",
       " .  .  X \n",
       " O  .  . "
      ]
     },
     "execution_count": 29,
     "metadata": {},
     "output_type": "execute_result"
    }
   ],
   "source": [
    "state[5]=1\n",
    "state[6]=2\n",
    "state"
   ]
  },
  {
   "cell_type": "code",
   "execution_count": 30,
   "metadata": {},
   "outputs": [
    {
     "name": "stdout",
     "output_type": "stream",
     "text": [
      " .  .  . \n",
      " .  .  X \n",
      " O  .  . \n",
      "\n"
     ]
    }
   ],
   "source": [
    "print(state)"
   ]
  },
  {
   "cell_type": "code",
   "execution_count": 31,
   "metadata": {},
   "outputs": [],
   "source": [
    "def update_state(state,player,move):\n",
    "    new_state=state\n",
    "    new_state[move]=player\n",
    "    return new_state"
   ]
  },
  {
   "cell_type": "code",
   "execution_count": 32,
   "metadata": {},
   "outputs": [],
   "source": [
    "def win_status(state,player):\n",
    "    # this will be a bit longer\n",
    "    \n",
    "#     0 | 1 | 2\n",
    "#     ---------\n",
    "#     3 | 4 | 5\n",
    "#     ---------\n",
    "#     6 | 7 | 8\n",
    "    \n",
    "\n",
    "    if state[0]==player and state[4]==player and state[8]==player:\n",
    "        return 'win'\n",
    "    if state[2]==player and state[4]==player and state[6]==player:\n",
    "        return 'win'\n",
    "    if state[0]==player and state[1]==player and state[2]==player:\n",
    "        return 'win'\n",
    "    if state[3]==player and state[4]==player and state[5]==player:\n",
    "        return 'win'\n",
    "    if state[6]==player and state[7]==player and state[8]==player:\n",
    "        return 'win'\n",
    "    if state[0]==player and state[3]==player and state[6]==player:\n",
    "        return 'win'\n",
    "    if state[1]==player and state[4]==player and state[7]==player:\n",
    "        return 'win'\n",
    "    if state[2]==player and state[5]==player and state[8]==player:\n",
    "        return 'win'\n",
    "    \n",
    "    if player==1:\n",
    "        other_player=2\n",
    "    else:\n",
    "        other_player=1\n",
    "    \n",
    "    \n",
    "    if not valid_moves(state,other_player):\n",
    "        return 'stalemate'\n",
    "    \n",
    "    \n",
    "    "
   ]
  },
  {
   "cell_type": "code",
   "execution_count": 33,
   "metadata": {},
   "outputs": [],
   "source": [
    "def valid_moves(state,player):\n",
    "\n",
    "    moves=[]  # no valid moves\n",
    "    for i in range(9):\n",
    "        if state[i]==0:\n",
    "            moves.append(i)\n",
    "    \n",
    "    return moves"
   ]
  },
  {
   "cell_type": "code",
   "execution_count": 34,
   "metadata": {},
   "outputs": [],
   "source": [
    "def show_state(state):\n",
    "    print(state[0],'|',state[1],'|',state[2])\n",
    "    print(\"--+---+---\")\n",
    "    print(state[3],'|',state[4],'|',state[5])\n",
    "    print(\"--+---+---\")\n",
    "    print(state[6],'|',state[7],'|',state[8])\n"
   ]
  },
  {
   "cell_type": "markdown",
   "metadata": {},
   "source": [
    "Move Functions for the Agents"
   ]
  },
  {
   "cell_type": "code",
   "execution_count": 35,
   "metadata": {},
   "outputs": [],
   "source": [
    "def random_move(state,player):\n",
    "    moves=valid_moves(state,player)\n",
    "    return random.choice(moves)"
   ]
  },
  {
   "cell_type": "code",
   "execution_count": 36,
   "metadata": {},
   "outputs": [],
   "source": [
    "def get_human_move(state,player):\n",
    "    print(\"Locations:\")\n",
    "    print(\"    0 | 1 | 2\")\n",
    "    print(\"    ---------\")\n",
    "    print(\"    3 | 4 | 5\")\n",
    "    print(\"    ---------\")\n",
    "    print(\"    6 | 7 | 8\")\n",
    "    \n",
    "    while True:\n",
    "        \n",
    "        move=input('What square do you want to move to?')\n",
    "        move=int(move)\n",
    "\n",
    "        if move in valid_moves(state,player):\n",
    "            break\n",
    "        else:\n",
    "            print(\"You messed up!\")\n",
    "    \n",
    "    return move\n",
    "\n"
   ]
  },
  {
   "cell_type": "code",
   "execution_count": 37,
   "metadata": {},
   "outputs": [],
   "source": [
    "human_agent=Agent(get_human_move)\n",
    "random_agent=Agent(random_move)"
   ]
  },
  {
   "cell_type": "code",
   "execution_count": 41,
   "metadata": {},
   "outputs": [],
   "source": [
    "def minimax_move(state,player):\n",
    "\n",
    "    values,moves=minimax_values(state,player)\n",
    "    return top_choice(moves,values)\n",
    "\n",
    "\n",
    "minimax_agent=Agent(minimax_move)"
   ]
  },
  {
   "cell_type": "code",
   "execution_count": 43,
   "metadata": {},
   "outputs": [],
   "source": [
    "def minimax_move(state,player):\n",
    "\n",
    "    values,moves=minimax_values(state,player,maxdepth=2)\n",
    "    return top_choice(moves,values)\n",
    "\n",
    "def heuristic(state,player):\n",
    "    \n",
    "    if player==1:\n",
    "        other_player=2\n",
    "    else:\n",
    "        other_player=1\n",
    "        \n",
    "    value=0.0\n",
    "    if state[4]==player:\n",
    "        value=value+0.2\n",
    "        \n",
    "    if state[4]==other_player:\n",
    "        value=value-0.2\n",
    "        \n",
    "    return value\n",
    "\n",
    "minimax_agent=Agent(minimax_move)"
   ]
  },
  {
   "cell_type": "code",
   "execution_count": 42,
   "metadata": {},
   "outputs": [
    {
     "name": "stdout",
     "output_type": "stream",
     "text": [
      "  Choice Time: 0.1664431095123291 seconds \n"
     ]
    },
    {
     "data": {
      "text/plain": [
       "([1, 0, 0, -1, -1, -1, -1], [8, 4, 0, 7, 3, 2, 1])"
      ]
     },
     "execution_count": 42,
     "metadata": {},
     "output_type": "execute_result"
    }
   ],
   "source": [
    "minimax_values(state,1)"
   ]
  },
  {
   "cell_type": "code",
   "execution_count": 45,
   "metadata": {},
   "outputs": [
    {
     "name": "stdout",
     "output_type": "stream",
     "text": [
      "  Choice Time: 1.9836089611053467 seconds \n"
     ]
    },
    {
     "data": {
      "text/plain": [
       "([0.2, 0.0, -0.2, -0.2, -0.2, -0.2, -0.2], [3, 2, 8, 7, 4, 1, 0])"
      ]
     },
     "execution_count": 45,
     "metadata": {},
     "output_type": "execute_result"
    }
   ],
   "source": [
    "minimax_values(state,1,maxdepth=3)"
   ]
  },
  {
   "cell_type": "markdown",
   "metadata": {},
   "source": [
    "Running the Game"
   ]
  },
  {
   "cell_type": "code",
   "execution_count": 12,
   "metadata": {},
   "outputs": [
    {
     "name": "stdout",
     "output_type": "stream",
     "text": [
      "====\n",
      "Game  1\n",
      "0 | 0 | 0\n",
      "--+---+---\n",
      "0 | 0 | 0\n",
      "--+---+---\n",
      "0 | 0 | 0\n",
      "Player 1 moves 1\n",
      "0 | 1 | 0\n",
      "--+---+---\n",
      "0 | 0 | 0\n",
      "--+---+---\n",
      "0 | 0 | 0\n",
      "  Choice Time: 0.5194079875946045 seconds \n",
      "Player 2 moves 0\n",
      "2 | 1 | 0\n",
      "--+---+---\n",
      "0 | 0 | 0\n",
      "--+---+---\n",
      "0 | 0 | 0\n",
      "Player 1 moves 2\n",
      "2 | 1 | 1\n",
      "--+---+---\n",
      "0 | 0 | 0\n",
      "--+---+---\n",
      "0 | 0 | 0\n",
      "  Choice Time: 0.04331326484680176 seconds \n",
      "Player 2 moves 3\n",
      "2 | 1 | 1\n",
      "--+---+---\n",
      "2 | 0 | 0\n",
      "--+---+---\n",
      "0 | 0 | 0\n",
      "Player 1 moves 7\n",
      "2 | 1 | 1\n",
      "--+---+---\n",
      "2 | 0 | 0\n",
      "--+---+---\n",
      "0 | 1 | 0\n",
      "  Choice Time: 0.0016093254089355469 seconds \n",
      "Player 2 moves 4\n",
      "2 | 1 | 1\n",
      "--+---+---\n",
      "2 | 2 | 0\n",
      "--+---+---\n",
      "0 | 1 | 0\n",
      "Player 1 moves 6\n",
      "2 | 1 | 1\n",
      "--+---+---\n",
      "2 | 2 | 0\n",
      "--+---+---\n",
      "1 | 1 | 0\n",
      "  Choice Time: 0.00012803077697753906 seconds \n",
      "Player 2 moves 5\n",
      "2 | 1 | 1\n",
      "--+---+---\n",
      "2 | 2 | 2\n",
      "--+---+---\n",
      "1 | 1 | 0\n",
      "Player  2 won.\n"
     ]
    },
    {
     "data": {
      "text/plain": [
       "[2]"
      ]
     },
     "execution_count": 12,
     "metadata": {},
     "output_type": "execute_result"
    }
   ],
   "source": [
    "g=Game()\n",
    "g.run(random_agent,minimax_agent)"
   ]
  },
  {
   "cell_type": "code",
   "execution_count": 13,
   "metadata": {},
   "outputs": [
    {
     "name": "stdout",
     "output_type": "stream",
     "text": [
      "  Choice Time: 0.6581449508666992 seconds \n",
      "  Choice Time: 0.055190086364746094 seconds \n",
      "  Choice Time: 0.002415895462036133 seconds \n",
      "  Choice Time: 0.0002300739288330078 seconds \n",
      "  Choice Time: 0.4091789722442627 seconds \n",
      "  Choice Time: 0.02739095687866211 seconds \n",
      "  Choice Time: 0.003763914108276367 seconds \n",
      "  Choice Time: 0.0002040863037109375 seconds \n",
      "  Choice Time: 0.9462461471557617 seconds \n",
      "  Choice Time: 0.030439138412475586 seconds \n",
      "  Choice Time: 0.0023097991943359375 seconds \n",
      "  Choice Time: 0.00018978118896484375 seconds \n",
      "  Choice Time: 0.5087170600891113 seconds \n",
      "  Choice Time: 0.06029105186462402 seconds \n",
      "  Choice Time: 0.0025169849395751953 seconds \n",
      "  Choice Time: 0.0002028942108154297 seconds \n",
      "  Choice Time: 0.47669196128845215 seconds \n",
      "  Choice Time: 0.0427091121673584 seconds \n",
      "  Choice Time: 0.0015947818756103516 seconds \n",
      "  Choice Time: 0.5251479148864746 seconds \n",
      "  Choice Time: 0.05601906776428223 seconds \n",
      "  Choice Time: 0.0026471614837646484 seconds \n",
      "  Choice Time: 0.00019693374633789062 seconds \n",
      "  Choice Time: 0.9542479515075684 seconds \n",
      "  Choice Time: 0.057132720947265625 seconds \n",
      "  Choice Time: 0.002306699752807617 seconds \n",
      "  Choice Time: 0.00011706352233886719 seconds \n",
      "  Choice Time: 0.37724900245666504 seconds \n",
      "  Choice Time: 0.026593685150146484 seconds \n",
      "  Choice Time: 0.0018029212951660156 seconds \n",
      "  Choice Time: 0.00020384788513183594 seconds \n",
      "  Choice Time: 0.5351598262786865 seconds \n",
      "  Choice Time: 0.052184104919433594 seconds \n",
      "  Choice Time: 0.003192901611328125 seconds \n",
      "  Choice Time: 0.4091629981994629 seconds \n",
      "  Choice Time: 0.02881908416748047 seconds \n",
      "  Choice Time: 0.004205942153930664 seconds \n",
      "  Choice Time: 0.0002739429473876953 seconds \n"
     ]
    },
    {
     "data": {
      "text/plain": [
       "[2, 2, 2, 2, 2, 2, 2, 2, 2, 0]"
      ]
     },
     "execution_count": 13,
     "metadata": {},
     "output_type": "execute_result"
    }
   ],
   "source": [
    "g=Game(number_of_games=10)\n",
    "g.display=False\n",
    "g.run(random_agent,minimax_agent)"
   ]
  },
  {
   "cell_type": "code",
   "execution_count": 15,
   "metadata": {},
   "outputs": [
    {
     "data": {
      "text/plain": [
       " 0  0  0 \n",
       " 0  0  0 \n",
       " 0  0  0 "
      ]
     },
     "execution_count": 15,
     "metadata": {},
     "output_type": "execute_result"
    }
   ],
   "source": [
    "state=initial_state()\n",
    "state"
   ]
  },
  {
   "cell_type": "code",
   "execution_count": 16,
   "metadata": {},
   "outputs": [
    {
     "name": "stdout",
     "output_type": "stream",
     "text": [
      "  Choice Time: 2.7032458782196045 seconds \n"
     ]
    },
    {
     "data": {
      "text/plain": [
       "([0, 0, 0, 0, 0, 0, 0, 0, 0], [8, 7, 6, 5, 4, 3, 2, 1, 0])"
      ]
     },
     "execution_count": 16,
     "metadata": {},
     "output_type": "execute_result"
    }
   ],
   "source": [
    "minimax_values(state,1)"
   ]
  },
  {
   "cell_type": "code",
   "execution_count": 22,
   "metadata": {},
   "outputs": [
    {
     "data": {
      "text/plain": [
       " 1  2  0 \n",
       " 0  0  0 \n",
       " 0  0  0 "
      ]
     },
     "execution_count": 22,
     "metadata": {},
     "output_type": "execute_result"
    }
   ],
   "source": [
    "state=initial_state()\n",
    "state[0]=1\n",
    "state[1]=2\n",
    "state"
   ]
  },
  {
   "cell_type": "code",
   "execution_count": 23,
   "metadata": {},
   "outputs": [
    {
     "name": "stdout",
     "output_type": "stream",
     "text": [
      "  Choice Time: 0.20343422889709473 seconds \n"
     ]
    },
    {
     "data": {
      "text/plain": [
       "([1, 1, 1, 0, 0, 0, 0], [6, 4, 3, 8, 7, 5, 2])"
      ]
     },
     "execution_count": 23,
     "metadata": {},
     "output_type": "execute_result"
    }
   ],
   "source": [
    "values,moves=minimax_values(state,1)\n",
    "values,moves"
   ]
  },
  {
   "cell_type": "code",
   "execution_count": 19,
   "metadata": {},
   "outputs": [],
   "source": [
    "state=Board(4,5)"
   ]
  },
  {
   "cell_type": "code",
   "execution_count": 20,
   "metadata": {},
   "outputs": [
    {
     "data": {
      "text/plain": [
       "19"
      ]
     },
     "execution_count": 20,
     "metadata": {},
     "output_type": "execute_result"
    }
   ],
   "source": [
    "state.index_from_rc(3,4)"
   ]
  },
  {
   "cell_type": "code",
   "execution_count": 21,
   "metadata": {},
   "outputs": [
    {
     "data": {
      "text/plain": [
       "(2, 3)"
      ]
     },
     "execution_count": 21,
     "metadata": {},
     "output_type": "execute_result"
    }
   ],
   "source": [
    "state.rc_from_index(13)"
   ]
  },
  {
   "cell_type": "code",
   "execution_count": null,
   "metadata": {},
   "outputs": [],
   "source": []
  }
 ],
 "metadata": {
  "kernelspec": {
   "display_name": "Python 3",
   "language": "python",
   "name": "python3"
  },
  "language_info": {
   "codemirror_mode": {
    "name": "ipython",
    "version": 3
   },
   "file_extension": ".py",
   "mimetype": "text/x-python",
   "name": "python",
   "nbconvert_exporter": "python",
   "pygments_lexer": "ipython3",
   "version": "3.7.3"
  }
 },
 "nbformat": 4,
 "nbformat_minor": 4
}

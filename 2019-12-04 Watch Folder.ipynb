{
 "cells": [
  {
   "cell_type": "code",
   "execution_count": 20,
   "metadata": {},
   "outputs": [],
   "source": [
    "def watch_folder(path='.',delay=1,\n",
    "                 modified=True,created=True,\n",
    "                verbose=True,dot=True):\n",
    "    from time import sleep\n",
    "    \n",
    "    import os\n",
    "    import glob\n",
    "    from datetime import datetime\n",
    "    \n",
    "    if verbose:\n",
    "        print(\"Watching \",path)\n",
    "        \n",
    "    db={}\n",
    "    original_files=os.listdir('/Users/bblais/tmp')\n",
    "    for fname in original_files:\n",
    "        db[fname]=os.path.getmtime(os.path.join(path,fname))\n",
    "    \n",
    "    print(\"Found %d files to watch.\" % len(db))\n",
    "    \n",
    "    try:\n",
    "        while True:\n",
    "\n",
    "            new_files=os.listdir('/Users/bblais/tmp')\n",
    "\n",
    "            for fname in new_files:\n",
    "                full_fname=os.path.join(path,fname)\n",
    "                if not fname in db:  # created\n",
    "                    if not created:\n",
    "                        continue\n",
    "\n",
    "                    db[fname]=os.path.getmtime(full_fname)\n",
    "                    if verbose:\n",
    "                        print(\"\\nNew File\",fname)\n",
    "                    yield full_fname\n",
    "                elif db[fname]!=os.path.getmtime(full_fname):  # modified\n",
    "                    if not modified:\n",
    "                        continue\n",
    "\n",
    "                    db[fname]=os.path.getmtime(full_fname)\n",
    "                    if verbose:\n",
    "                        print(\"\\nModified File\",fname)\n",
    "                    yield full_fname\n",
    "                else:\n",
    "                    pass\n",
    "\n",
    "            if dot:\n",
    "                print(\".\",end=\"\")\n",
    "            sleep(delay)\n",
    "    except KeyboardInterrupt:\n",
    "        pass\n",
    "    \n",
    "    if verbose:\n",
    "        print(\"done.\")"
   ]
  },
  {
   "cell_type": "code",
   "execution_count": 21,
   "metadata": {},
   "outputs": [
    {
     "name": "stdout",
     "output_type": "stream",
     "text": [
      "Watching  /Users/bblais/tmp\n",
      "Found 91 files to watch.\n",
      "..........\n",
      "Modified File test.txt\n",
      "Do something with  /Users/bblais/tmp/test.txt\n",
      "............done.\n"
     ]
    }
   ],
   "source": [
    "for fname in watch_folder('/Users/bblais/tmp'):\n",
    "    print(\"Do something with \",fname)"
   ]
  },
  {
   "cell_type": "code",
   "execution_count": 26,
   "metadata": {},
   "outputs": [],
   "source": [
    "def scp(fname1,fname2):\n",
    "    cmd='scp \"%s\" \"%s\"' % (fname1,fname2)\n",
    "    print(cmd)\n",
    "    os.system(cmd)\n",
    "    \n",
    "def cp(fname1,fname2):\n",
    "    cmd='cp \"%s\" \"%s\"' % (fname1,fname2)\n",
    "    print(cmd)\n",
    "    os.system(cmd)    "
   ]
  },
  {
   "cell_type": "code",
   "execution_count": 27,
   "metadata": {},
   "outputs": [],
   "source": [
    "def small_fname(fname):\n",
    "    import os\n",
    "    base,rest=os.path.split(fname)\n",
    "    return rest"
   ]
  },
  {
   "cell_type": "markdown",
   "metadata": {},
   "source": [
    "## this part on the laptop"
   ]
  },
  {
   "cell_type": "code",
   "execution_count": 28,
   "metadata": {},
   "outputs": [
    {
     "name": "stdout",
     "output_type": "stream",
     "text": [
      "Watching  /Users/bblais/tmp\n",
      "Found 90 files to watch.\n",
      "....\n",
      "Modified File test.txt\n",
      "Do something with  /Users/bblais/tmp/test.txt\n",
      "cp \"/Users/bblais/tmp/test.txt\" \"/Users/bblais/Desktop/test.txt\"\n",
      "...................................................done.\n"
     ]
    }
   ],
   "source": [
    "for fname in watch_folder('/Users/bblais/tmp'):\n",
    "    print(\"Do something with \",fname)\n",
    "    cp(fname,'/Users/bblais/Desktop/%s' % small_fname(fname))"
   ]
  },
  {
   "cell_type": "markdown",
   "metadata": {},
   "source": [
    "## this part can be on the robot"
   ]
  },
  {
   "cell_type": "code",
   "execution_count": 29,
   "metadata": {},
   "outputs": [],
   "source": [
    "def take_picture_from_folder(folder_name='.',\n",
    "                             save_filename='current_board.jpg',\n",
    "                            ):\n",
    "    for fname in watch_folder(folder_name):    \n",
    "        print(\"Do something with \",fname)\n",
    "        break\n",
    "        \n",
    "    cp(fname,save_filename)"
   ]
  },
  {
   "cell_type": "code",
   "execution_count": 32,
   "metadata": {},
   "outputs": [
    {
     "name": "stdout",
     "output_type": "stream",
     "text": [
      "Watching  /Users/bblais/tmp\n",
      "Found 92 files to watch.\n",
      ".......\n",
      "Modified File bblais headshot 2014.jpg\n",
      "Do something with  /Users/bblais/tmp/bblais headshot 2014.jpg\n",
      "cp \"/Users/bblais/tmp/bblais headshot 2014.jpg\" \"/Users/bblais/Desktop/current_board.jpg\"\n"
     ]
    }
   ],
   "source": [
    "take_picture_from_folder('/Users/bblais/tmp','/Users/bblais/Desktop/current_board.jpg')"
   ]
  },
  {
   "cell_type": "code",
   "execution_count": null,
   "metadata": {},
   "outputs": [],
   "source": []
  }
 ],
 "metadata": {
  "kernelspec": {
   "display_name": "Python 3",
   "language": "python",
   "name": "python3"
  },
  "language_info": {
   "codemirror_mode": {
    "name": "ipython",
    "version": 3
   },
   "file_extension": ".py",
   "mimetype": "text/x-python",
   "name": "python",
   "nbconvert_exporter": "python",
   "pygments_lexer": "ipython3",
   "version": "3.7.4"
  }
 },
 "nbformat": 4,
 "nbformat_minor": 4
}

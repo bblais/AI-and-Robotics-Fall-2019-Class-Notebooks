{
 "cells": [
  {
   "cell_type": "markdown",
   "metadata": {},
   "source": [
    "## TTT (Tic Tac Toe) Skittles"
   ]
  },
  {
   "cell_type": "code",
   "execution_count": 1,
   "metadata": {},
   "outputs": [
    {
     "name": "stdout",
     "output_type": "stream",
     "text": [
      "Populating the interactive namespace from numpy and matplotlib\n",
      "Version:  0.2.14\n"
     ]
    }
   ],
   "source": [
    "%pylab inline\n",
    "from Game import *\n",
    "from Game.minimax import *"
   ]
  },
  {
   "cell_type": "markdown",
   "metadata": {},
   "source": [
    "Functions for the Game"
   ]
  },
  {
   "cell_type": "code",
   "execution_count": 2,
   "metadata": {},
   "outputs": [],
   "source": [
    "def initial_state():\n",
    "    state=Board(3,3)\n",
    "    state.pieces=['.','X','O']\n",
    "    \n",
    "        \n",
    "    return state"
   ]
  },
  {
   "cell_type": "code",
   "execution_count": 3,
   "metadata": {},
   "outputs": [],
   "source": [
    "def update_state(state,player,move):\n",
    "    new_state=state\n",
    "    new_state[move]=player\n",
    "    return new_state"
   ]
  },
  {
   "cell_type": "code",
   "execution_count": 4,
   "metadata": {},
   "outputs": [],
   "source": [
    "def win_status(state,player):\n",
    "    # this will be a bit longer\n",
    "    \n",
    "#     0 | 1 | 2\n",
    "#     ---------\n",
    "#     3 | 4 | 5\n",
    "#     ---------\n",
    "#     6 | 7 | 8\n",
    "    \n",
    "\n",
    "    if state[0]==player and state[4]==player and state[8]==player:\n",
    "        return 'win'\n",
    "    if state[2]==player and state[4]==player and state[6]==player:\n",
    "        return 'win'\n",
    "    if state[0]==player and state[1]==player and state[2]==player:\n",
    "        return 'win'\n",
    "    if state[3]==player and state[4]==player and state[5]==player:\n",
    "        return 'win'\n",
    "    if state[6]==player and state[7]==player and state[8]==player:\n",
    "        return 'win'\n",
    "    if state[0]==player and state[3]==player and state[6]==player:\n",
    "        return 'win'\n",
    "    if state[1]==player and state[4]==player and state[7]==player:\n",
    "        return 'win'\n",
    "    if state[2]==player and state[5]==player and state[8]==player:\n",
    "        return 'win'\n",
    "    \n",
    "    if player==1:\n",
    "        other_player=2\n",
    "    else:\n",
    "        other_player=1\n",
    "    \n",
    "    \n",
    "    if not valid_moves(state,other_player):\n",
    "        return 'stalemate'\n",
    "    \n",
    "    \n",
    "    "
   ]
  },
  {
   "cell_type": "code",
   "execution_count": 5,
   "metadata": {},
   "outputs": [],
   "source": [
    "def valid_moves(state,player):\n",
    "\n",
    "    moves=[]  # no valid moves\n",
    "    for i in range(9):\n",
    "        if state[i]==0:\n",
    "            moves.append(i)\n",
    "    \n",
    "    return moves"
   ]
  },
  {
   "cell_type": "code",
   "execution_count": 6,
   "metadata": {},
   "outputs": [],
   "source": [
    "def show_state(state):\n",
    "    print(state[0],'|',state[1],'|',state[2])\n",
    "    print(\"--+---+---\")\n",
    "    print(state[3],'|',state[4],'|',state[5])\n",
    "    print(\"--+---+---\")\n",
    "    print(state[6],'|',state[7],'|',state[8])\n"
   ]
  },
  {
   "cell_type": "markdown",
   "metadata": {},
   "source": [
    "Move Functions for the Agents"
   ]
  },
  {
   "cell_type": "code",
   "execution_count": 7,
   "metadata": {},
   "outputs": [],
   "source": [
    "def random_move(state,player):\n",
    "    moves=valid_moves(state,player)\n",
    "    return random.choice(moves)"
   ]
  },
  {
   "cell_type": "code",
   "execution_count": 8,
   "metadata": {},
   "outputs": [],
   "source": [
    "def get_human_move(state,player):\n",
    "    print(\"Locations:\")\n",
    "    print(\"    0 | 1 | 2\")\n",
    "    print(\"    ---------\")\n",
    "    print(\"    3 | 4 | 5\")\n",
    "    print(\"    ---------\")\n",
    "    print(\"    6 | 7 | 8\")\n",
    "    \n",
    "    while True:\n",
    "        \n",
    "        move=input('What square do you want to move to?')\n",
    "        move=int(move)\n",
    "\n",
    "        if move in valid_moves(state,player):\n",
    "            break\n",
    "        else:\n",
    "            print(\"You messed up!\")\n",
    "    \n",
    "    return move\n",
    "\n"
   ]
  },
  {
   "cell_type": "code",
   "execution_count": 9,
   "metadata": {},
   "outputs": [],
   "source": [
    "human_agent=Agent(get_human_move)\n",
    "random_agent=Agent(random_move)"
   ]
  },
  {
   "cell_type": "code",
   "execution_count": 10,
   "metadata": {},
   "outputs": [],
   "source": [
    "def minimax_move(state,player):\n",
    "\n",
    "    values,moves=minimax_values(state,player)\n",
    "    return top_choice(moves,values)\n",
    "\n",
    "\n",
    "minimax_agent=Agent(minimax_move)"
   ]
  },
  {
   "cell_type": "code",
   "execution_count": 11,
   "metadata": {},
   "outputs": [],
   "source": [
    "def skittles_move(state,player,info):\n",
    "\n",
    "    S=info.S\n",
    "    last_state=info.last_state\n",
    "    last_action=info.last_action\n",
    "\n",
    "    if not state in S:  # if we haven't seen this state before\n",
    "        S[state]=Table()\n",
    "        for action in valid_moves(state,player):\n",
    "            S[state][action]=2\n",
    "       \n",
    "    move=weighted_choice(S[state])\n",
    "    \n",
    "    # if there are no weights at all for a state, then the move will be None\n",
    "    \n",
    "    if move is None:\n",
    "        \n",
    "        if last_state:\n",
    "            S[last_state][last_action]-=1\n",
    "            if S[last_state][last_action]<0:\n",
    "                S[last_state][last_action]=0\n",
    "            \n",
    "        return random_move(state,player)\n",
    "    \n",
    "    return move"
   ]
  },
  {
   "cell_type": "code",
   "execution_count": 12,
   "metadata": {},
   "outputs": [],
   "source": [
    "def skittles_after(status,player,info):\n",
    "    S=info.S\n",
    "    last_state=info.last_state\n",
    "    last_action=info.last_action\n",
    "    \n",
    "    if status=='lose':\n",
    "        S[last_state][last_action]-=1\n",
    "        if S[last_state][last_action]<0:\n",
    "            S[last_state][last_action]=0\n",
    "            "
   ]
  },
  {
   "cell_type": "code",
   "execution_count": 13,
   "metadata": {},
   "outputs": [],
   "source": [
    "skittles_agent1=Agent(skittles_move)\n",
    "skittles_agent1.S=LoadTable(\"TTT Skittles 1.json\")\n",
    "skittles_agent1.post=skittles_after\n",
    "\n",
    "\n",
    "skittles_agent2=Agent(skittles_move)\n",
    "skittles_agent2.S=LoadTable(\"TTT Skittles 2.json\")\n",
    "skittles_agent2.post=skittles_after"
   ]
  },
  {
   "cell_type": "markdown",
   "metadata": {},
   "source": [
    "### Running the Game - Random vs Skittles 2"
   ]
  },
  {
   "cell_type": "code",
   "execution_count": 14,
   "metadata": {},
   "outputs": [
    {
     "name": "stdout",
     "output_type": "stream",
     "text": [
      "56.50  54.00  52.90  50.20  44.20  43.80  43.60  37.40  40.10  33.60  32.40  34.30  31.10  27.70  25.70  22.40  21.50  18.30  17.10  16.00  12.00  10.80  9.00  9.00  7.80  7.30  5.60  5.20  6.60  4.70  4.90  3.90  3.40  4.30  4.90  3.70  3.60  1.90  2.40  2.90  2.50  2.70  3.50  1.90  1.50  1.60  1.70  1.20  1.40  1.30  1.80  1.80  1.60  1.20  0.80  1.50  1.50  1.60  1.00  1.10  1.20  1.00  0.90  1.10  0.70  0.10  0.70  0.60  0.50  0.90  0.60  0.20  0.40  0.60  0.50  0.30  0.30  0.20  0.20  0.30  0.30  0.20  0.30  0.10  0.20  0.20  0.10  0.10  0.30  0.10  0.20  0.00  0.10  0.00  0.30  0.00  0.10  0.10  0.10  0.20  "
     ]
    }
   ],
   "source": [
    "W=[]\n",
    "L=[]\n",
    "T=[]\n",
    "\n",
    "n=[]\n",
    "total_games=0\n",
    "for i in range(100):\n",
    "    g=Game(number_of_games=1000)\n",
    "    g.display=False\n",
    "    result=g.run(random_agent,skittles_agent2)\n",
    "\n",
    "    SaveTable(skittles_agent1.S,\"TTT Skittles 1.json\")\n",
    "    SaveTable(skittles_agent2.S,\"TTT Skittles 2.json\")\n",
    "\n",
    "    percent_wins=sum([_==1 for _ in result])/len(result)*100\n",
    "    percent_losses=sum([_==2 for _ in result])/len(result)*100\n",
    "    percent_ties=sum([_==0 for _ in result])/len(result)*100\n",
    "\n",
    "    total_games+=g.number_of_games\n",
    "    n.append(total_games)\n",
    "    W.append(percent_wins)\n",
    "    L.append(percent_losses)\n",
    "    T.append(percent_ties)\n",
    "    print('%.2f' % percent_wins,\" \",end=\"\")"
   ]
  },
  {
   "cell_type": "code",
   "execution_count": 15,
   "metadata": {},
   "outputs": [
    {
     "data": {
      "text/plain": [
       "<matplotlib.legend.Legend at 0x118287a50>"
      ]
     },
     "execution_count": 15,
     "metadata": {},
     "output_type": "execute_result"
    },
    {
     "data": {
      "image/png": "[encoded data removed]",
      "text/plain": [
       "<Figure size 720x576 with 1 Axes>"
      ]
     },
     "metadata": {
      "needs_background": "light"
     },
     "output_type": "display_data"
    }
   ],
   "source": [
    "figure(figsize=(10,8))\n",
    "plot(n,W,'-o',label='Player 1 Win')\n",
    "plot(n,L,'-o',label='Player 1 Losses')\n",
    "plot(n,T,'-o',label='Ties')\n",
    "legend()"
   ]
  },
  {
   "cell_type": "markdown",
   "metadata": {},
   "source": [
    "### Testing minimax vs trained Skittles 2 - should be all \"tied\""
   ]
  },
  {
   "cell_type": "code",
   "execution_count": 17,
   "metadata": {},
   "outputs": [
    {
     "name": "stdout",
     "output_type": "stream",
     "text": [
      "  Choice Time: 2.796217203140259 seconds \n",
      "  Choice Time: 0.15851593017578125 seconds \n",
      "  Choice Time: 0.008950948715209961 seconds \n",
      "  Choice Time: 0.0009570121765136719 seconds \n",
      "  Choice Time: 9.298324584960938e-05 seconds \n",
      "  Choice Time: 2.8496670722961426 seconds \n",
      "  Choice Time: 0.14975786209106445 seconds \n",
      "  Choice Time: 0.008960962295532227 seconds \n",
      "  Choice Time: 0.0013210773468017578 seconds \n",
      "  Choice Time: 0.00011682510375976562 seconds \n",
      "  Choice Time: 2.799686908721924 seconds \n",
      "  Choice Time: 0.14568614959716797 seconds \n",
      "  Choice Time: 0.00888204574584961 seconds \n",
      "  Choice Time: 0.0009720325469970703 seconds \n",
      "  Choice Time: 9.202957153320312e-05 seconds \n"
     ]
    }
   ],
   "source": [
    "g=Game(number_of_games=3)\n",
    "g.display=False\n",
    "result=g.run(minimax_agent,skittles_agent2)"
   ]
  },
  {
   "cell_type": "code",
   "execution_count": 18,
   "metadata": {},
   "outputs": [
    {
     "data": {
      "text/plain": [
       "[0, 0, 0]"
      ]
     },
     "execution_count": 18,
     "metadata": {},
     "output_type": "execute_result"
    }
   ],
   "source": [
    "result"
   ]
  },
  {
   "cell_type": "markdown",
   "metadata": {},
   "source": [
    "### Running the Game - naive Skittles 1 vs trained Skittles 2"
   ]
  },
  {
   "cell_type": "code",
   "execution_count": 19,
   "metadata": {},
   "outputs": [
    {
     "name": "stdout",
     "output_type": "stream",
     "text": [
      "0.30  0.00  0.10  0.30  0.10  0.10  0.30  0.00  0.30  0.00  0.00  0.20  0.00  0.20  0.00  0.00  0.30  0.10  0.10  0.20  0.00  0.10  0.20  0.00  0.00  0.00  0.00  0.00  0.00  0.00  0.00  0.00  0.00  0.00  0.00  0.00  0.00  0.00  0.00  0.00  0.00  0.00  0.00  0.00  0.00  0.00  0.00  0.00  0.00  0.00  0.00  0.00  0.00  0.00  0.00  0.00  0.00  0.00  0.00  0.00  0.00  0.00  0.00  0.00  0.00  0.00  0.00  0.00  0.00  0.00  0.00  0.00  0.00  0.00  0.00  0.00  0.00  0.00  0.00  0.00  0.00  0.00  0.00  0.00  0.00  0.00  0.00  0.00  0.00  0.00  0.00  0.00  0.00  0.00  0.00  0.00  0.00  0.00  0.00  0.00  "
     ]
    }
   ],
   "source": [
    "W=[]\n",
    "L=[]\n",
    "T=[]\n",
    "\n",
    "n=[]\n",
    "total_games=0\n",
    "for i in range(100):\n",
    "    g=Game(number_of_games=1000)\n",
    "    g.display=False\n",
    "    result=g.run(skittles_agent1,skittles_agent2)\n",
    "\n",
    "    SaveTable(skittles_agent1.S,\"TTT Skittles 1.json\")\n",
    "    SaveTable(skittles_agent2.S,\"TTT Skittles 2.json\")\n",
    "\n",
    "    percent_wins=sum([_==1 for _ in result])/len(result)*100\n",
    "    percent_losses=sum([_==2 for _ in result])/len(result)*100\n",
    "    percent_ties=sum([_==0 for _ in result])/len(result)*100\n",
    "\n",
    "    total_games+=g.number_of_games\n",
    "    n.append(total_games)\n",
    "    W.append(percent_wins)\n",
    "    L.append(percent_losses)\n",
    "    T.append(percent_ties)\n",
    "    print('%.2f' % percent_wins,\" \",end=\"\")"
   ]
  },
  {
   "cell_type": "code",
   "execution_count": 20,
   "metadata": {},
   "outputs": [
    {
     "data": {
      "text/plain": [
       "<matplotlib.legend.Legend at 0x11906cb50>"
      ]
     },
     "execution_count": 20,
     "metadata": {},
     "output_type": "execute_result"
    },
    {
     "data": {
      "image/png": "[encoded data removed]",
      "text/plain": [
       "<Figure size 720x576 with 1 Axes>"
      ]
     },
     "metadata": {
      "needs_background": "light"
     },
     "output_type": "display_data"
    }
   ],
   "source": [
    "figure(figsize=(10,8))\n",
    "plot(n,W,'-o',label='Player 1 Win')\n",
    "plot(n,L,'-o',label='Player 1 Losses')\n",
    "plot(n,T,'-o',label='Ties')\n",
    "legend()"
   ]
  },
  {
   "cell_type": "markdown",
   "metadata": {},
   "source": [
    "### Running the Game - naive Skittles 1 vs naive Skittles 2"
   ]
  },
  {
   "cell_type": "code",
   "execution_count": 21,
   "metadata": {},
   "outputs": [],
   "source": [
    "skittles_agent1=Agent(skittles_move)\n",
    "skittles_agent1.S=Table()            # start with a blank table\n",
    "skittles_agent1.post=skittles_after\n",
    "\n",
    "\n",
    "skittles_agent2=Agent(skittles_move)\n",
    "skittles_agent2.S=Table()            # start with a blank table\n",
    "skittles_agent2.post=skittles_after"
   ]
  },
  {
   "cell_type": "code",
   "execution_count": 22,
   "metadata": {},
   "outputs": [
    {
     "name": "stdout",
     "output_type": "stream",
     "text": [
      "61.30  53.00  53.10  51.10  50.00  49.50  46.00  47.30  46.50  43.00  42.60  39.30  38.90  34.10  29.40  22.60  17.70  15.60  12.70  11.20  8.60  7.20  4.90  4.40  5.20  3.20  3.00  2.30  1.90  1.70  1.30  1.50  1.90  1.30  0.60  0.80  0.30  0.90  0.70  0.70  0.40  0.90  0.50  0.60  0.70  0.10  0.30  0.50  0.20  0.40  0.40  0.10  0.00  0.10  0.00  0.00  0.00  0.20  0.00  0.00  0.00  0.00  0.00  0.00  0.00  0.00  0.00  0.00  0.00  0.00  0.00  0.00  0.00  0.00  0.00  0.00  0.00  0.00  0.00  0.00  0.00  0.00  0.00  0.00  0.00  0.00  0.00  0.00  0.00  0.00  0.00  0.00  0.00  0.00  0.00  0.00  0.00  0.00  0.00  0.00  "
     ]
    }
   ],
   "source": [
    "W=[]\n",
    "L=[]\n",
    "T=[]\n",
    "\n",
    "n=[]\n",
    "total_games=0\n",
    "for i in range(100):\n",
    "    g=Game(number_of_games=1000)\n",
    "    g.display=False\n",
    "    result=g.run(skittles_agent1,skittles_agent2)\n",
    "\n",
    "    SaveTable(skittles_agent1.S,\"TTT Skittles 1.json\")\n",
    "    SaveTable(skittles_agent2.S,\"TTT Skittles 2.json\")\n",
    "\n",
    "    percent_wins=sum([_==1 for _ in result])/len(result)*100\n",
    "    percent_losses=sum([_==2 for _ in result])/len(result)*100\n",
    "    percent_ties=sum([_==0 for _ in result])/len(result)*100\n",
    "\n",
    "    total_games+=g.number_of_games\n",
    "    n.append(total_games)\n",
    "    W.append(percent_wins)\n",
    "    L.append(percent_losses)\n",
    "    T.append(percent_ties)\n",
    "    print('%.2f' % percent_wins,\" \",end=\"\")"
   ]
  },
  {
   "cell_type": "code",
   "execution_count": 23,
   "metadata": {},
   "outputs": [
    {
     "data": {
      "text/plain": [
       "<matplotlib.legend.Legend at 0x11915ead0>"
      ]
     },
     "execution_count": 23,
     "metadata": {},
     "output_type": "execute_result"
    },
    {
     "data": {
      "image/png": "[encoded data removed]",
      "text/plain": [
       "<Figure size 720x576 with 1 Axes>"
      ]
     },
     "metadata": {
      "needs_background": "light"
     },
     "output_type": "display_data"
    }
   ],
   "source": [
    "figure(figsize=(10,8))\n",
    "plot(n,W,'-o',label='Player 1 Win')\n",
    "plot(n,L,'-o',label='Player 1 Losses')\n",
    "plot(n,T,'-o',label='Ties')\n",
    "legend()"
   ]
  },
  {
   "cell_type": "code",
   "execution_count": null,
   "metadata": {},
   "outputs": [],
   "source": []
  }
 ],
 "metadata": {
  "kernelspec": {
   "display_name": "Python 3",
   "language": "python",
   "name": "python3"
  },
  "language_info": {
   "codemirror_mode": {
    "name": "ipython",
    "version": 3
   },
   "file_extension": ".py",
   "mimetype": "text/x-python",
   "name": "python",
   "nbconvert_exporter": "python",
   "pygments_lexer": "ipython3",
   "version": "3.7.4"
  }
 },
 "nbformat": 4,
 "nbformat_minor": 4
}

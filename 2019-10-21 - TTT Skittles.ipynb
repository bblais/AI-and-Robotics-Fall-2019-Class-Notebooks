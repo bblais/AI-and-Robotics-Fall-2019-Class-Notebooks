{
 "cells": [
  {
   "cell_type": "markdown",
   "metadata": {},
   "source": [
    "## TTT (Tic Tac Toe) Skittles"
   ]
  },
  {
   "cell_type": "code",
   "execution_count": 1,
   "metadata": {},
   "outputs": [
    {
     "name": "stdout",
     "output_type": "stream",
     "text": [
      "Populating the interactive namespace from numpy and matplotlib\n",
      "Version:  0.2.15\n"
     ]
    }
   ],
   "source": [
    "%pylab inline\n",
    "from Game import *\n",
    "from Game.minimax import *"
   ]
  },
  {
   "cell_type": "markdown",
   "metadata": {},
   "source": [
    "Functions for the Game"
   ]
  },
  {
   "cell_type": "code",
   "execution_count": 2,
   "metadata": {},
   "outputs": [],
   "source": [
    "def initial_state():\n",
    "    state=Board(3,3)\n",
    "    state.pieces=['.','X','O']\n",
    "    \n",
    "        \n",
    "    return state"
   ]
  },
  {
   "cell_type": "code",
   "execution_count": 3,
   "metadata": {},
   "outputs": [],
   "source": [
    "def update_state(state,player,move):\n",
    "    new_state=state\n",
    "    new_state[move]=player\n",
    "    return new_state"
   ]
  },
  {
   "cell_type": "code",
   "execution_count": 4,
   "metadata": {},
   "outputs": [],
   "source": [
    "def win_status(state,player):\n",
    "    # this will be a bit longer\n",
    "    \n",
    "#     0 | 1 | 2\n",
    "#     ---------\n",
    "#     3 | 4 | 5\n",
    "#     ---------\n",
    "#     6 | 7 | 8\n",
    "    \n",
    "\n",
    "    if state[0]==player and state[4]==player and state[8]==player:\n",
    "        return 'win'\n",
    "    if state[2]==player and state[4]==player and state[6]==player:\n",
    "        return 'win'\n",
    "    if state[0]==player and state[1]==player and state[2]==player:\n",
    "        return 'win'\n",
    "    if state[3]==player and state[4]==player and state[5]==player:\n",
    "        return 'win'\n",
    "    if state[6]==player and state[7]==player and state[8]==player:\n",
    "        return 'win'\n",
    "    if state[0]==player and state[3]==player and state[6]==player:\n",
    "        return 'win'\n",
    "    if state[1]==player and state[4]==player and state[7]==player:\n",
    "        return 'win'\n",
    "    if state[2]==player and state[5]==player and state[8]==player:\n",
    "        return 'win'\n",
    "    \n",
    "    if player==1:\n",
    "        other_player=2\n",
    "    else:\n",
    "        other_player=1\n",
    "    \n",
    "    \n",
    "    if not valid_moves(state,other_player):\n",
    "        return 'stalemate'\n",
    "    \n",
    "    \n",
    "    "
   ]
  },
  {
   "cell_type": "code",
   "execution_count": 5,
   "metadata": {},
   "outputs": [],
   "source": [
    "def valid_moves(state,player):\n",
    "\n",
    "    moves=[]  # no valid moves\n",
    "    for i in range(9):\n",
    "        if state[i]==0:\n",
    "            moves.append(i)\n",
    "    \n",
    "    return moves"
   ]
  },
  {
   "cell_type": "code",
   "execution_count": 6,
   "metadata": {},
   "outputs": [],
   "source": [
    "def show_state(state):\n",
    "    print(state[0],'|',state[1],'|',state[2])\n",
    "    print(\"--+---+---\")\n",
    "    print(state[3],'|',state[4],'|',state[5])\n",
    "    print(\"--+---+---\")\n",
    "    print(state[6],'|',state[7],'|',state[8])\n"
   ]
  },
  {
   "cell_type": "markdown",
   "metadata": {},
   "source": [
    "Move Functions for the Agents"
   ]
  },
  {
   "cell_type": "code",
   "execution_count": 7,
   "metadata": {},
   "outputs": [],
   "source": [
    "def random_move(state,player):\n",
    "    moves=valid_moves(state,player)\n",
    "    return random.choice(moves)"
   ]
  },
  {
   "cell_type": "code",
   "execution_count": 8,
   "metadata": {},
   "outputs": [],
   "source": [
    "def get_human_move(state,player):\n",
    "    print(\"Locations:\")\n",
    "    print(\"    0 | 1 | 2\")\n",
    "    print(\"    ---------\")\n",
    "    print(\"    3 | 4 | 5\")\n",
    "    print(\"    ---------\")\n",
    "    print(\"    6 | 7 | 8\")\n",
    "    \n",
    "    while True:\n",
    "        \n",
    "        move=input('What square do you want to move to?')\n",
    "        move=int(move)\n",
    "\n",
    "        if move in valid_moves(state,player):\n",
    "            break\n",
    "        else:\n",
    "            print(\"You messed up!\")\n",
    "    \n",
    "    return move\n",
    "\n"
   ]
  },
  {
   "cell_type": "code",
   "execution_count": 9,
   "metadata": {},
   "outputs": [],
   "source": [
    "human_agent=Agent(get_human_move)\n",
    "random_agent=Agent(random_move)"
   ]
  },
  {
   "cell_type": "code",
   "execution_count": 10,
   "metadata": {},
   "outputs": [],
   "source": [
    "def minimax_move(state,player):\n",
    "\n",
    "    values,moves=minimax_values(state,player)\n",
    "    return top_choice(moves,values)\n",
    "\n",
    "\n",
    "minimax_agent=Agent(minimax_move)"
   ]
  },
  {
   "cell_type": "code",
   "execution_count": 11,
   "metadata": {},
   "outputs": [],
   "source": [
    "def skittles_move(state,player,info):\n",
    "\n",
    "    S=info.S\n",
    "    last_state=info.last_state\n",
    "    last_action=info.last_action\n",
    "\n",
    "    if not state in S:  # if we haven't seen this state before\n",
    "        S[state]=Table()\n",
    "        for action in valid_moves(state,player):\n",
    "            S[state][action]=2\n",
    "       \n",
    "    move=weighted_choice(S[state])\n",
    "    \n",
    "    # if there are no weights at all for a state, then the move will be None\n",
    "    \n",
    "    if move is None:\n",
    "        \n",
    "        if last_state:\n",
    "            S[last_state][last_action]-=1\n",
    "            if S[last_state][last_action]<0:\n",
    "                S[last_state][last_action]=0\n",
    "            \n",
    "        return random_move(state,player)\n",
    "    \n",
    "    return move"
   ]
  },
  {
   "cell_type": "code",
   "execution_count": 12,
   "metadata": {},
   "outputs": [],
   "source": [
    "def skittles_after(status,player,info):\n",
    "    S=info.S\n",
    "    last_state=info.last_state\n",
    "    last_action=info.last_action\n",
    "    \n",
    "    if status=='lose':\n",
    "        S[last_state][last_action]-=1\n",
    "        if S[last_state][last_action]<0:\n",
    "            S[last_state][last_action]=0\n",
    "            "
   ]
  },
  {
   "cell_type": "code",
   "execution_count": 13,
   "metadata": {},
   "outputs": [],
   "source": [
    "skittles_agent1=Agent(skittles_move)\n",
    "skittles_agent1.S=LoadTable(\"TTT Skittles 1.json\")\n",
    "skittles_agent1.post=skittles_after\n",
    "\n",
    "\n",
    "skittles_agent2=Agent(skittles_move)\n",
    "skittles_agent2.S=LoadTable(\"TTT Skittles 2.json\")\n",
    "skittles_agent2.post=skittles_after"
   ]
  },
  {
   "cell_type": "markdown",
   "metadata": {},
   "source": [
    "### Running the Game - Random vs Skittles 2"
   ]
  },
  {
   "cell_type": "code",
   "execution_count": 14,
   "metadata": {},
   "outputs": [
    {
     "name": "stdout",
     "output_type": "stream",
     "text": [
      "58.00  53.50  50.40  48.30  47.70  44.60  41.60  40.90  40.10  34.90  33.20  32.20  31.50  25.70  22.90  22.60  18.10  17.80  17.00  12.40  11.30  11.70  7.80  8.30  7.80  6.60  7.10  6.60  5.40  6.90  5.70  4.10  4.10  4.80  3.50  2.70  2.50  2.80  2.90  2.60  2.50  3.00  1.80  2.20  1.50  1.60  1.60  0.90  1.10  0.90  1.20  1.30  1.20  2.00  1.10  1.00  1.10  1.30  0.80  0.80  1.20  1.10  0.80  0.50  0.50  0.40  0.40  0.70  0.30  0.30  0.60  0.40  0.70  0.40  0.70  0.60  0.20  0.40  0.30  0.10  0.10  0.10  0.00  0.70  0.30  0.40  0.00  0.00  0.50  0.20  0.20  0.20  0.00  0.20  0.10  0.00  0.20  0.20  0.00  0.10  "
     ]
    }
   ],
   "source": [
    "W=[]\n",
    "L=[]\n",
    "T=[]\n",
    "\n",
    "n=[]\n",
    "total_games=0\n",
    "for i in range(100):\n",
    "    g=Game(number_of_games=1000)\n",
    "    g.display=False\n",
    "    result=g.run(random_agent,skittles_agent2)\n",
    "\n",
    "    SaveTable(skittles_agent1.S,\"TTT Skittles 1.json\")\n",
    "    SaveTable(skittles_agent2.S,\"TTT Skittles 2.json\")\n",
    "\n",
    "    percent_wins=sum([_==1 for _ in result])/len(result)*100\n",
    "    percent_losses=sum([_==2 for _ in result])/len(result)*100\n",
    "    percent_ties=sum([_==0 for _ in result])/len(result)*100\n",
    "\n",
    "    total_games+=g.number_of_games\n",
    "    n.append(total_games)\n",
    "    W.append(percent_wins)\n",
    "    L.append(percent_losses)\n",
    "    T.append(percent_ties)\n",
    "    print('%.2f' % percent_wins,\" \",end=\"\")"
   ]
  },
  {
   "cell_type": "code",
   "execution_count": 15,
   "metadata": {},
   "outputs": [
    {
     "data": {
      "text/plain": [
       "<matplotlib.legend.Legend at 0x11520f590>"
      ]
     },
     "execution_count": 15,
     "metadata": {},
     "output_type": "execute_result"
    },
    {
     "data": {
      "image/png": "[encoded data removed]",
      "text/plain": [
       "<Figure size 720x576 with 1 Axes>"
      ]
     },
     "metadata": {
      "needs_background": "light"
     },
     "output_type": "display_data"
    }
   ],
   "source": [
    "figure(figsize=(10,8))\n",
    "plot(n,W,'-o',label='Player 1 Win')\n",
    "plot(n,L,'-o',label='Player 1 Losses')\n",
    "plot(n,T,'-o',label='Ties')\n",
    "legend()"
   ]
  },
  {
   "cell_type": "markdown",
   "metadata": {},
   "source": [
    "### Testing minimax vs trained Skittles 2 - should be all \"tied\""
   ]
  },
  {
   "cell_type": "code",
   "execution_count": 16,
   "metadata": {},
   "outputs": [
    {
     "name": "stdout",
     "output_type": "stream",
     "text": [
      "  Choice Time: 2.6735527515411377 seconds \n",
      "  Choice Time: 0.1342909336090088 seconds \n",
      "  Choice Time: 0.008620977401733398 seconds \n",
      "  Choice Time: 0.001329183578491211 seconds \n",
      "  Choice Time: 0.00011777877807617188 seconds \n",
      "  Choice Time: 2.934825897216797 seconds \n",
      "  Choice Time: 0.14590907096862793 seconds \n",
      "  Choice Time: 0.008943796157836914 seconds \n",
      "  Choice Time: 0.0012290477752685547 seconds \n",
      "  Choice Time: 9.584426879882812e-05 seconds \n",
      "  Choice Time: 3.0409650802612305 seconds \n",
      "  Choice Time: 0.1980760097503662 seconds \n",
      "  Choice Time: 0.010239839553833008 seconds \n",
      "  Choice Time: 0.000982046127319336 seconds \n",
      "  Choice Time: 8.416175842285156e-05 seconds \n"
     ]
    }
   ],
   "source": [
    "g=Game(number_of_games=3)\n",
    "g.display=False\n",
    "result=g.run(minimax_agent,skittles_agent2)"
   ]
  },
  {
   "cell_type": "code",
   "execution_count": 17,
   "metadata": {},
   "outputs": [
    {
     "data": {
      "text/plain": [
       "[0, 0, 0]"
      ]
     },
     "execution_count": 17,
     "metadata": {},
     "output_type": "execute_result"
    }
   ],
   "source": [
    "result"
   ]
  },
  {
   "cell_type": "markdown",
   "metadata": {},
   "source": [
    "### Running the Game - naive Skittles 1 vs trained Skittles 2"
   ]
  },
  {
   "cell_type": "code",
   "execution_count": 18,
   "metadata": {},
   "outputs": [
    {
     "name": "stdout",
     "output_type": "stream",
     "text": [
      "0.70  0.20  0.20  0.20  0.10  0.30  0.20  0.10  0.10  0.00  0.10  0.20  0.30  0.00  0.10  0.00  0.00  0.00  0.00  0.10  0.00  0.00  0.10  0.00  0.00  0.00  0.00  0.00  0.00  0.00  0.00  0.00  0.00  0.00  0.00  0.00  0.00  0.00  0.00  0.00  0.00  0.00  0.00  0.00  0.00  0.00  0.00  0.00  0.00  0.00  0.00  0.00  0.00  0.00  0.00  0.00  0.00  0.00  0.00  0.00  0.00  0.00  0.00  0.00  0.00  0.00  0.00  0.00  0.00  0.00  0.00  0.00  0.00  0.00  0.00  0.00  0.00  0.00  0.00  0.00  0.00  0.00  0.00  0.00  0.00  0.00  0.00  0.00  0.00  0.00  0.00  0.00  0.00  0.00  0.00  0.00  0.00  0.00  0.00  0.00  "
     ]
    }
   ],
   "source": [
    "W=[]\n",
    "L=[]\n",
    "T=[]\n",
    "\n",
    "n=[]\n",
    "total_games=0\n",
    "for i in range(100):\n",
    "    g=Game(number_of_games=1000)\n",
    "    g.display=False\n",
    "    result=g.run(skittles_agent1,skittles_agent2)\n",
    "\n",
    "    SaveTable(skittles_agent1.S,\"TTT Skittles 1.json\")\n",
    "    SaveTable(skittles_agent2.S,\"TTT Skittles 2.json\")\n",
    "\n",
    "    percent_wins=sum([_==1 for _ in result])/len(result)*100\n",
    "    percent_losses=sum([_==2 for _ in result])/len(result)*100\n",
    "    percent_ties=sum([_==0 for _ in result])/len(result)*100\n",
    "\n",
    "    total_games+=g.number_of_games\n",
    "    n.append(total_games)\n",
    "    W.append(percent_wins)\n",
    "    L.append(percent_losses)\n",
    "    T.append(percent_ties)\n",
    "    print('%.2f' % percent_wins,\" \",end=\"\")"
   ]
  },
  {
   "cell_type": "code",
   "execution_count": 19,
   "metadata": {},
   "outputs": [
    {
     "data": {
      "text/plain": [
       "<matplotlib.legend.Legend at 0x115b88310>"
      ]
     },
     "execution_count": 19,
     "metadata": {},
     "output_type": "execute_result"
    },
    {
     "data": {
      "image/png": "[encoded data removed]",
      "text/plain": [
       "<Figure size 720x576 with 1 Axes>"
      ]
     },
     "metadata": {
      "needs_background": "light"
     },
     "output_type": "display_data"
    }
   ],
   "source": [
    "figure(figsize=(10,8))\n",
    "plot(n,W,'-o',label='Player 1 Win')\n",
    "plot(n,L,'-o',label='Player 1 Losses')\n",
    "plot(n,T,'-o',label='Ties')\n",
    "legend()"
   ]
  },
  {
   "cell_type": "markdown",
   "metadata": {},
   "source": [
    "### Running the Game - naive Skittles 1 vs naive Skittles 2"
   ]
  },
  {
   "cell_type": "code",
   "execution_count": 20,
   "metadata": {},
   "outputs": [],
   "source": [
    "skittles_agent1=Agent(skittles_move)\n",
    "skittles_agent1.S=Table()            # start with a blank table\n",
    "skittles_agent1.post=skittles_after\n",
    "\n",
    "\n",
    "skittles_agent2=Agent(skittles_move)\n",
    "skittles_agent2.S=Table()            # start with a blank table\n",
    "skittles_agent2.post=skittles_after"
   ]
  },
  {
   "cell_type": "code",
   "execution_count": 21,
   "metadata": {},
   "outputs": [
    {
     "name": "stdout",
     "output_type": "stream",
     "text": [
      "55.70  57.30  53.40  53.30  49.80  47.80  48.60  48.70  43.20  43.90  43.50  38.50  38.00  32.40  28.40  23.50  19.00  14.40  11.20  8.20  5.90  6.00  4.80  3.50  3.90  4.30  2.60  2.90  2.00  2.10  1.70  1.40  1.30  0.90  0.60  0.60  0.70  0.80  0.80  1.00  0.40  0.70  0.40  0.20  0.20  0.20  0.20  0.30  0.10  0.10  0.20  0.30  0.00  0.10  0.20  0.00  0.00  0.30  0.00  0.00  0.00  0.00  0.10  0.00  0.00  0.00  0.00  0.00  0.00  0.00  0.00  0.00  0.00  0.00  0.00  0.00  0.00  0.00  0.00  0.00  0.00  0.10  0.00  0.00  0.00  0.00  0.00  0.00  0.00  0.00  0.00  0.00  0.00  0.00  0.00  0.00  0.00  0.00  0.00  0.00  "
     ]
    }
   ],
   "source": [
    "W=[]\n",
    "L=[]\n",
    "T=[]\n",
    "\n",
    "n=[]\n",
    "total_games=0\n",
    "for i in range(100):\n",
    "    g=Game(number_of_games=1000)\n",
    "    g.display=False\n",
    "    result=g.run(skittles_agent1,skittles_agent2)\n",
    "\n",
    "    SaveTable(skittles_agent1.S,\"TTT Skittles 1.json\")\n",
    "    SaveTable(skittles_agent2.S,\"TTT Skittles 2.json\")\n",
    "\n",
    "    percent_wins=sum([_==1 for _ in result])/len(result)*100\n",
    "    percent_losses=sum([_==2 for _ in result])/len(result)*100\n",
    "    percent_ties=sum([_==0 for _ in result])/len(result)*100\n",
    "\n",
    "    total_games+=g.number_of_games\n",
    "    n.append(total_games)\n",
    "    W.append(percent_wins)\n",
    "    L.append(percent_losses)\n",
    "    T.append(percent_ties)\n",
    "    print('%.2f' % percent_wins,\" \",end=\"\")"
   ]
  },
  {
   "cell_type": "code",
   "execution_count": 22,
   "metadata": {},
   "outputs": [
    {
     "data": {
      "text/plain": [
       "<matplotlib.legend.Legend at 0x115c7fb90>"
      ]
     },
     "execution_count": 22,
     "metadata": {},
     "output_type": "execute_result"
    },
    {
     "data": {
      "image/png": "[encoded data removed]",
      "text/plain": [
       "<Figure size 720x576 with 1 Axes>"
      ]
     },
     "metadata": {
      "needs_background": "light"
     },
     "output_type": "display_data"
    }
   ],
   "source": [
    "figure(figsize=(10,8))\n",
    "plot(n,W,'-o',label='Player 1 Win')\n",
    "plot(n,L,'-o',label='Player 1 Losses')\n",
    "plot(n,T,'-o',label='Ties')\n",
    "legend()"
   ]
  },
  {
   "cell_type": "code",
   "execution_count": 23,
   "metadata": {},
   "outputs": [
    {
     "name": "stdout",
     "output_type": "stream",
     "text": [
      "120802\n"
     ]
    }
   ],
   "source": [
    "import pickle\n",
    "s=pickle.dumps(skittles_agent1.S)\n",
    "print(len(s))"
   ]
  },
  {
   "cell_type": "code",
   "execution_count": null,
   "metadata": {},
   "outputs": [],
   "source": []
  }
 ],
 "metadata": {
  "kernelspec": {
   "display_name": "Python 3",
   "language": "python",
   "name": "python3"
  },
  "language_info": {
   "codemirror_mode": {
    "name": "ipython",
    "version": 3
   },
   "file_extension": ".py",
   "mimetype": "text/x-python",
   "name": "python",
   "nbconvert_exporter": "python",
   "pygments_lexer": "ipython3",
   "version": "3.7.4"
  }
 },
 "nbformat": 4,
 "nbformat_minor": 4
}

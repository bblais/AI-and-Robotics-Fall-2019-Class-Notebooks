{
 "cells": [
  {
   "cell_type": "markdown",
   "metadata": {},
   "source": [
    "## Nim Skittles Agent"
   ]
  },
  {
   "cell_type": "code",
   "execution_count": 3,
   "metadata": {},
   "outputs": [
    {
     "name": "stdout",
     "output_type": "stream",
     "text": [
      "Version:  0.2.14\n"
     ]
    }
   ],
   "source": [
    "from Game import *\n",
    "from Game.minimax import *"
   ]
  },
  {
   "cell_type": "code",
   "execution_count": 4,
   "metadata": {},
   "outputs": [],
   "source": [
    "def initial_state(size=21):\n",
    "    state=size\n",
    "    return state"
   ]
  },
  {
   "cell_type": "code",
   "execution_count": 5,
   "metadata": {},
   "outputs": [],
   "source": [
    "def update_state(state,player,move):\n",
    "    new_state=state-move\n",
    "    return new_state"
   ]
  },
  {
   "cell_type": "code",
   "execution_count": 6,
   "metadata": {},
   "outputs": [],
   "source": [
    "def win_status(state,player):\n",
    "    # this is called after the state is updated\n",
    "    if state==1:\n",
    "        return 'win'\n",
    "    \n",
    "    if state==0:\n",
    "        return 'lose'\n",
    "    "
   ]
  },
  {
   "cell_type": "code",
   "execution_count": 7,
   "metadata": {},
   "outputs": [],
   "source": [
    "def valid_moves(state,player):\n",
    "    \n",
    "    if state==1:\n",
    "        moves=[ 1 ]\n",
    "    elif state==2:\n",
    "        moves=[1,2]\n",
    "    else:\n",
    "        moves=[1,2,3]\n",
    "    \n",
    "    \n",
    "    return moves"
   ]
  },
  {
   "cell_type": "code",
   "execution_count": 8,
   "metadata": {},
   "outputs": [],
   "source": [
    "def show_state(state):\n",
    "    print(\"There are \",state,\"number of sticks\")"
   ]
  },
  {
   "cell_type": "markdown",
   "metadata": {},
   "source": [
    "## Agents"
   ]
  },
  {
   "cell_type": "code",
   "execution_count": 9,
   "metadata": {},
   "outputs": [],
   "source": [
    "def human_move(state,player):\n",
    "    move=input('How many sticks do you take?')\n",
    "    move=int(move)\n",
    "    return move\n",
    "\n",
    "\n",
    "human_agent=Agent(human_move)"
   ]
  },
  {
   "cell_type": "code",
   "execution_count": 10,
   "metadata": {},
   "outputs": [],
   "source": [
    "def random_move(state,player):\n",
    "    moves=valid_moves(state,player)\n",
    "    return random.choice(moves)\n",
    "\n",
    "random_agent=Agent(random_move)"
   ]
  },
  {
   "cell_type": "code",
   "execution_count": 11,
   "metadata": {},
   "outputs": [],
   "source": [
    "def minimax_move(state,player):\n",
    "\n",
    "    values,moves=minimax_values(state,player,display=False)\n",
    "    return top_choice(moves,values)\n",
    "\n",
    "\n",
    "minimax_agent=Agent(minimax_move)"
   ]
  },
  {
   "cell_type": "code",
   "execution_count": null,
   "metadata": {},
   "outputs": [],
   "source": []
  },
  {
   "cell_type": "code",
   "execution_count": 12,
   "metadata": {},
   "outputs": [],
   "source": [
    "def skittles_move(state,player,info):\n",
    "\n",
    "    S=info.S\n",
    "    last_state=info.last_state\n",
    "    last_action=info.last_action\n",
    "\n",
    "    \n",
    "    if not state in S:  # if we haven't seen this state before\n",
    "        S[state]=Table()\n",
    "        for action in valid_moves(state,player):\n",
    "            S[state][action]=2\n",
    "       \n",
    "    move=weighted_choice(S[state])\n",
    "    \n",
    "    # if there are no weights at all for a state, then the move will be None\n",
    "    \n",
    "    if move is None:\n",
    "        \n",
    "        if last_state:\n",
    "            S[last_state][last_action]-=1\n",
    "            if S[last_state][last_action]<0:\n",
    "                S[last_state][last_action]=0\n",
    "            \n",
    "        \n",
    "        return random_move(state,player)\n",
    "    \n",
    "    \n",
    "    return move\n",
    "\n",
    "\n",
    "skittles_agent=Agent(skittles_move)\n"
   ]
  },
  {
   "cell_type": "code",
   "execution_count": 13,
   "metadata": {},
   "outputs": [],
   "source": [
    "def skittles_after(status,player,info):\n",
    "    S=info.S\n",
    "    last_state=info.last_state\n",
    "    last_action=info.last_action\n",
    "    \n",
    "    if status=='lose':\n",
    "        S[last_state][last_action]-=1\n",
    "        if S[last_state][last_action]<0:\n",
    "            S[last_state][last_action]=0\n",
    "            \n",
    "    \n",
    "\n",
    "    \n",
    "    "
   ]
  },
  {
   "cell_type": "code",
   "execution_count": 28,
   "metadata": {},
   "outputs": [],
   "source": [
    "skittles_agent.S=Table()\n",
    "skittles_agent.post=skittles_after\n",
    "SaveTable(skittles_agent.S,'skittles_start_table.json')"
   ]
  },
  {
   "cell_type": "markdown",
   "metadata": {},
   "source": [
    "## Running the Game"
   ]
  },
  {
   "cell_type": "code",
   "execution_count": 29,
   "metadata": {},
   "outputs": [
    {
     "name": "stdout",
     "output_type": "stream",
     "text": [
      "====\n",
      "Game  1\n",
      "There are  6 number of sticks\n",
      "Player 1 moves 2\n",
      "There are  4 number of sticks\n",
      "Player 2 moves 3\n",
      "There are  1 number of sticks\n",
      "Player  2 won.\n"
     ]
    },
    {
     "data": {
      "text/plain": [
       "[2]"
      ]
     },
     "execution_count": 29,
     "metadata": {},
     "output_type": "execute_result"
    }
   ],
   "source": [
    "g=Game(size=6)\n",
    "g.run(random_agent,skittles_agent)"
   ]
  },
  {
   "cell_type": "code",
   "execution_count": 30,
   "metadata": {},
   "outputs": [
    {
     "name": "stdout",
     "output_type": "stream",
     "text": [
      "[2, 1, 2, 1, 2, 2, 2, 1, 1, 2]\n"
     ]
    }
   ],
   "source": [
    "g=Game(number_of_games=10)\n",
    "g.display=False\n",
    "result=g.run(random_agent,skittles_agent)\n",
    "print(result)\n",
    "SaveTable(skittles_agent.S,'skittles_after_table.json')"
   ]
  },
  {
   "cell_type": "code",
   "execution_count": 27,
   "metadata": {},
   "outputs": [
    {
     "data": {
      "text/plain": [
       "{4: {1: 0, 2: 1, 3: 2},\n",
       " 2: {1: 2, 2: 0},\n",
       " 20: {1: 2, 2: 2, 3: 2},\n",
       " 17: {1: 2, 2: 2, 3: 2},\n",
       " 14: {1: 2, 2: 2, 3: 2},\n",
       " 11: {1: 2, 2: 2, 3: 2},\n",
       " 8: {1: 2, 2: 2, 3: 2},\n",
       " 15: {1: 2, 2: 2, 3: 2},\n",
       " 10: {1: 2, 2: 2, 3: 2},\n",
       " 19: {1: 2, 2: 2, 3: 2},\n",
       " 13: {1: 2, 2: 2, 3: 2},\n",
       " 7: {1: 2, 2: 2, 3: 2},\n",
       " 3: {1: 1, 2: 2, 3: 1},\n",
       " 18: {1: 2, 2: 2, 3: 2},\n",
       " 16: {1: 2, 2: 2, 3: 2},\n",
       " 12: {1: 2, 2: 2, 3: 2},\n",
       " 6: {1: 2, 2: 2, 3: 1},\n",
       " 9: {1: 2, 2: 2, 3: 2},\n",
       " 5: {1: 1, 2: 2, 3: 2}}"
      ]
     },
     "execution_count": 27,
     "metadata": {},
     "output_type": "execute_result"
    }
   ],
   "source": [
    "skittles_agent.S"
   ]
  },
  {
   "cell_type": "code",
   "execution_count": null,
   "metadata": {},
   "outputs": [],
   "source": []
  }
 ],
 "metadata": {
  "kernelspec": {
   "display_name": "Python 3",
   "language": "python",
   "name": "python3"
  },
  "language_info": {
   "codemirror_mode": {
    "name": "ipython",
    "version": 3
   },
   "file_extension": ".py",
   "mimetype": "text/x-python",
   "name": "python",
   "nbconvert_exporter": "python",
   "pygments_lexer": "ipython3",
   "version": "3.7.4"
  }
 },
 "nbformat": 4,
 "nbformat_minor": 4
}

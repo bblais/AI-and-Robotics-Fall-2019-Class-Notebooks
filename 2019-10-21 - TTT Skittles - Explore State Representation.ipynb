{
 "cells": [
  {
   "cell_type": "markdown",
   "metadata": {},
   "source": [
    "## TTT (Tic Tac Toe) Skittles"
   ]
  },
  {
   "cell_type": "code",
   "execution_count": 1,
   "metadata": {},
   "outputs": [
    {
     "name": "stdout",
     "output_type": "stream",
     "text": [
      "Populating the interactive namespace from numpy and matplotlib\n",
      "Version:  0.2.15\n"
     ]
    }
   ],
   "source": [
    "%pylab inline\n",
    "from Game import *\n",
    "from Game.minimax import *"
   ]
  },
  {
   "cell_type": "markdown",
   "metadata": {},
   "source": [
    "Functions for the Game"
   ]
  },
  {
   "cell_type": "code",
   "execution_count": 2,
   "metadata": {},
   "outputs": [],
   "source": [
    "def initial_state():\n",
    "    state=Board(3,3)\n",
    "    state.pieces=['.','X','O']\n",
    "    \n",
    "        \n",
    "    return state"
   ]
  },
  {
   "cell_type": "code",
   "execution_count": 3,
   "metadata": {},
   "outputs": [],
   "source": [
    "def update_state(state,player,move):\n",
    "    new_state=state\n",
    "    new_state[move]=player\n",
    "    return new_state"
   ]
  },
  {
   "cell_type": "code",
   "execution_count": 4,
   "metadata": {},
   "outputs": [],
   "source": [
    "def win_status(state,player):\n",
    "    # this will be a bit longer\n",
    "    \n",
    "#     0 | 1 | 2\n",
    "#     ---------\n",
    "#     3 | 4 | 5\n",
    "#     ---------\n",
    "#     6 | 7 | 8\n",
    "    \n",
    "\n",
    "    if state[0]==player and state[4]==player and state[8]==player:\n",
    "        return 'win'\n",
    "    if state[2]==player and state[4]==player and state[6]==player:\n",
    "        return 'win'\n",
    "    if state[0]==player and state[1]==player and state[2]==player:\n",
    "        return 'win'\n",
    "    if state[3]==player and state[4]==player and state[5]==player:\n",
    "        return 'win'\n",
    "    if state[6]==player and state[7]==player and state[8]==player:\n",
    "        return 'win'\n",
    "    if state[0]==player and state[3]==player and state[6]==player:\n",
    "        return 'win'\n",
    "    if state[1]==player and state[4]==player and state[7]==player:\n",
    "        return 'win'\n",
    "    if state[2]==player and state[5]==player and state[8]==player:\n",
    "        return 'win'\n",
    "    \n",
    "    if player==1:\n",
    "        other_player=2\n",
    "    else:\n",
    "        other_player=1\n",
    "    \n",
    "    \n",
    "    if not valid_moves(state,other_player):\n",
    "        return 'stalemate'\n",
    "    \n",
    "    \n",
    "    "
   ]
  },
  {
   "cell_type": "code",
   "execution_count": 5,
   "metadata": {},
   "outputs": [],
   "source": [
    "def valid_moves(state,player):\n",
    "\n",
    "    moves=[]  # no valid moves\n",
    "    for i in range(9):\n",
    "        if state[i]==0:\n",
    "            moves.append(i)\n",
    "    \n",
    "    return moves"
   ]
  },
  {
   "cell_type": "code",
   "execution_count": 6,
   "metadata": {},
   "outputs": [],
   "source": [
    "def show_state(state):\n",
    "    print(state[0],'|',state[1],'|',state[2])\n",
    "    print(\"--+---+---\")\n",
    "    print(state[3],'|',state[4],'|',state[5])\n",
    "    print(\"--+---+---\")\n",
    "    print(state[6],'|',state[7],'|',state[8])\n"
   ]
  },
  {
   "cell_type": "markdown",
   "metadata": {},
   "source": [
    "Move Functions for the Agents"
   ]
  },
  {
   "cell_type": "code",
   "execution_count": 7,
   "metadata": {},
   "outputs": [],
   "source": [
    "def random_move(state,player):\n",
    "    moves=valid_moves(state,player)\n",
    "    return random.choice(moves)"
   ]
  },
  {
   "cell_type": "code",
   "execution_count": 8,
   "metadata": {},
   "outputs": [],
   "source": [
    "def get_human_move(state,player):\n",
    "    print(\"Locations:\")\n",
    "    print(\"    0 | 1 | 2\")\n",
    "    print(\"    ---------\")\n",
    "    print(\"    3 | 4 | 5\")\n",
    "    print(\"    ---------\")\n",
    "    print(\"    6 | 7 | 8\")\n",
    "    \n",
    "    while True:\n",
    "        \n",
    "        move=input('What square do you want to move to?')\n",
    "        move=int(move)\n",
    "\n",
    "        if move in valid_moves(state,player):\n",
    "            break\n",
    "        else:\n",
    "            print(\"You messed up!\")\n",
    "    \n",
    "    return move\n",
    "\n"
   ]
  },
  {
   "cell_type": "code",
   "execution_count": 9,
   "metadata": {},
   "outputs": [],
   "source": [
    "human_agent=Agent(get_human_move)\n",
    "random_agent=Agent(random_move)"
   ]
  },
  {
   "cell_type": "code",
   "execution_count": 10,
   "metadata": {},
   "outputs": [],
   "source": [
    "def minimax_move(state,player):\n",
    "\n",
    "    values,moves=minimax_values(state,player)\n",
    "    return top_choice(moves,values)\n",
    "\n",
    "\n",
    "minimax_agent=Agent(minimax_move)"
   ]
  },
  {
   "cell_type": "code",
   "execution_count": 11,
   "metadata": {},
   "outputs": [],
   "source": [
    "def skittles_move(state,player,info):\n",
    "\n",
    "    S=info.S\n",
    "    last_state=info.last_state\n",
    "    last_action=info.last_action\n",
    "\n",
    "    stateint=int(state) # use only when accessing table\n",
    "    if not stateint in S:  # if we haven't seen this state before\n",
    "        S[stateint]=Table()\n",
    "        for action in valid_moves(state,player):\n",
    "            S[stateint][action]=2\n",
    "       \n",
    "    move=weighted_choice(S[stateint])\n",
    "    \n",
    "    # if there are no weights at all for a state, then the move will be None\n",
    "    \n",
    "    if move is None:\n",
    "        \n",
    "        if last_state:\n",
    "            last_stateint=int(last_state)\n",
    "            S[last_stateint][last_action]-=1\n",
    "            if S[last_stateint][last_action]<0:\n",
    "                S[last_stateint][last_action]=0\n",
    "            \n",
    "        return random_move(state,player)\n",
    "    \n",
    "    return move"
   ]
  },
  {
   "cell_type": "code",
   "execution_count": 12,
   "metadata": {},
   "outputs": [],
   "source": [
    "def skittles_after(status,player,info):\n",
    "    S=info.S\n",
    "    last_state=info.last_state\n",
    "    last_action=info.last_action\n",
    "    \n",
    "    if status=='lose':\n",
    "        last_stateint=int(last_state)\n",
    "        S[last_stateint][last_action]-=1\n",
    "        if S[last_stateint][last_action]<0:\n",
    "            S[last_stateint][last_action]=0\n",
    "            "
   ]
  },
  {
   "cell_type": "code",
   "execution_count": 13,
   "metadata": {},
   "outputs": [],
   "source": [
    "skittles_agent1=Agent(skittles_move)\n",
    "skittles_agent1.S=LoadTable(\"TTT Skittles 1 Int.json\")\n",
    "skittles_agent1.post=skittles_after\n",
    "\n",
    "\n",
    "skittles_agent2=Agent(skittles_move)\n",
    "skittles_agent2.S=LoadTable(\"TTT Skittles 2 Int.json\")\n",
    "skittles_agent2.post=skittles_after"
   ]
  },
  {
   "cell_type": "markdown",
   "metadata": {},
   "source": [
    "### Running the Game - Random vs Skittles 2"
   ]
  },
  {
   "cell_type": "code",
   "execution_count": 14,
   "metadata": {},
   "outputs": [
    {
     "name": "stdout",
     "output_type": "stream",
     "text": [
      "57.80  51.50  50.80  49.40  47.30  43.30  42.20  42.10  39.20  37.30  32.80  33.30  30.20  30.00  26.20  23.00  21.40  20.30  16.80  16.20  11.20  10.40  10.80  8.20  7.90  7.60  8.00  5.90  5.80  4.20  5.10  5.00  3.00  2.20  2.60  2.90  2.40  3.20  3.20  2.00  2.60  1.90  1.90  1.60  1.90  2.00  2.20  1.70  1.20  0.90  1.30  1.40  1.10  1.50  1.10  1.30  0.60  1.00  1.40  0.90  0.30  0.50  0.90  1.20  0.40  0.50  0.10  0.50  0.90  0.30  0.90  0.40  0.20  0.50  0.50  0.40  0.20  0.60  0.40  0.10  0.10  0.40  0.60  0.10  0.20  0.10  0.00  0.00  0.10  0.30  0.10  0.00  0.10  0.10  0.30  0.10  0.00  0.10  0.10  0.00  "
     ]
    }
   ],
   "source": [
    "W=[]\n",
    "L=[]\n",
    "T=[]\n",
    "\n",
    "n=[]\n",
    "total_games=0\n",
    "for i in range(100):\n",
    "    g=Game(number_of_games=1000)\n",
    "    g.display=False\n",
    "    result=g.run(random_agent,skittles_agent2)\n",
    "\n",
    "    SaveTable(skittles_agent1.S,\"TTT Skittles 1 Int.json\")\n",
    "    SaveTable(skittles_agent2.S,\"TTT Skittles 2 Int.json\")\n",
    "\n",
    "    percent_wins=sum([_==1 for _ in result])/len(result)*100\n",
    "    percent_losses=sum([_==2 for _ in result])/len(result)*100\n",
    "    percent_ties=sum([_==0 for _ in result])/len(result)*100\n",
    "\n",
    "    total_games+=g.number_of_games\n",
    "    n.append(total_games)\n",
    "    W.append(percent_wins)\n",
    "    L.append(percent_losses)\n",
    "    T.append(percent_ties)\n",
    "    print('%.2f' % percent_wins,\" \",end=\"\")"
   ]
  },
  {
   "cell_type": "code",
   "execution_count": 15,
   "metadata": {},
   "outputs": [
    {
     "data": {
      "text/plain": [
       "<matplotlib.legend.Legend at 0x116d69090>"
      ]
     },
     "execution_count": 15,
     "metadata": {},
     "output_type": "execute_result"
    },
    {
     "data": {
      "image/png": "[encoded data removed]",
      "text/plain": [
       "<Figure size 720x576 with 1 Axes>"
      ]
     },
     "metadata": {
      "needs_background": "light"
     },
     "output_type": "display_data"
    }
   ],
   "source": [
    "figure(figsize=(10,8))\n",
    "plot(n,W,'-o',label='Player 1 Win')\n",
    "plot(n,L,'-o',label='Player 1 Losses')\n",
    "plot(n,T,'-o',label='Ties')\n",
    "legend()"
   ]
  },
  {
   "cell_type": "markdown",
   "metadata": {},
   "source": [
    "### Testing minimax vs trained Skittles 2 - should be all \"tied\""
   ]
  },
  {
   "cell_type": "code",
   "execution_count": 16,
   "metadata": {},
   "outputs": [
    {
     "name": "stdout",
     "output_type": "stream",
     "text": [
      "  Choice Time: 2.6614861488342285 seconds \n",
      "  Choice Time: 0.13306212425231934 seconds \n",
      "  Choice Time: 0.008337974548339844 seconds \n",
      "  Choice Time: 0.0008950233459472656 seconds \n",
      "  Choice Time: 7.987022399902344e-05 seconds \n",
      "  Choice Time: 2.653259038925171 seconds \n",
      "  Choice Time: 0.1351909637451172 seconds \n",
      "  Choice Time: 0.008598804473876953 seconds \n",
      "  Choice Time: 0.0015208721160888672 seconds \n",
      "  Choice Time: 0.00011587142944335938 seconds \n",
      "  Choice Time: 2.6725170612335205 seconds \n",
      "  Choice Time: 0.13663816452026367 seconds \n",
      "  Choice Time: 0.010488033294677734 seconds \n",
      "  Choice Time: 0.0013158321380615234 seconds \n",
      "  Choice Time: 0.00011610984802246094 seconds \n"
     ]
    }
   ],
   "source": [
    "g=Game(number_of_games=3)\n",
    "g.display=False\n",
    "result=g.run(minimax_agent,skittles_agent2)"
   ]
  },
  {
   "cell_type": "code",
   "execution_count": 17,
   "metadata": {},
   "outputs": [
    {
     "data": {
      "text/plain": [
       "[0, 0, 0]"
      ]
     },
     "execution_count": 17,
     "metadata": {},
     "output_type": "execute_result"
    }
   ],
   "source": [
    "result"
   ]
  },
  {
   "cell_type": "markdown",
   "metadata": {},
   "source": [
    "### Running the Game - naive Skittles 1 vs trained Skittles 2"
   ]
  },
  {
   "cell_type": "code",
   "execution_count": 18,
   "metadata": {},
   "outputs": [
    {
     "name": "stdout",
     "output_type": "stream",
     "text": [
      "0.20  0.10  0.20  0.10  0.00  0.00  0.00  0.10  0.00  0.00  0.00  0.00  0.20  0.10  0.00  0.30  0.10  0.00  0.10  0.00  0.00  0.00  0.00  0.20  0.00  0.00  0.10  0.00  0.00  0.00  0.00  0.00  0.00  0.00  0.00  0.00  0.00  0.00  0.00  0.00  0.00  0.00  0.00  0.00  0.00  0.00  0.00  0.00  0.00  0.00  0.00  0.00  0.00  0.00  0.00  0.00  0.00  0.00  0.00  0.00  0.00  0.00  0.00  0.00  0.00  0.00  0.00  0.00  0.00  0.00  0.00  0.00  0.00  0.00  0.00  0.00  0.00  0.00  0.00  0.00  0.00  0.00  0.00  0.00  0.00  0.00  0.00  0.00  0.00  0.00  0.00  0.00  0.00  0.00  0.00  0.00  0.00  0.00  0.00  0.00  "
     ]
    }
   ],
   "source": [
    "W=[]\n",
    "L=[]\n",
    "T=[]\n",
    "\n",
    "n=[]\n",
    "total_games=0\n",
    "for i in range(100):\n",
    "    g=Game(number_of_games=1000)\n",
    "    g.display=False\n",
    "    result=g.run(skittles_agent1,skittles_agent2)\n",
    "\n",
    "    SaveTable(skittles_agent1.S,\"TTT Skittles 1 Int.json\")\n",
    "    SaveTable(skittles_agent2.S,\"TTT Skittles 2 Int.json\")\n",
    "\n",
    "    percent_wins=sum([_==1 for _ in result])/len(result)*100\n",
    "    percent_losses=sum([_==2 for _ in result])/len(result)*100\n",
    "    percent_ties=sum([_==0 for _ in result])/len(result)*100\n",
    "\n",
    "    total_games+=g.number_of_games\n",
    "    n.append(total_games)\n",
    "    W.append(percent_wins)\n",
    "    L.append(percent_losses)\n",
    "    T.append(percent_ties)\n",
    "    print('%.2f' % percent_wins,\" \",end=\"\")"
   ]
  },
  {
   "cell_type": "code",
   "execution_count": 19,
   "metadata": {},
   "outputs": [
    {
     "data": {
      "text/plain": [
       "<matplotlib.legend.Legend at 0x1178ace50>"
      ]
     },
     "execution_count": 19,
     "metadata": {},
     "output_type": "execute_result"
    },
    {
     "data": {
      "image/png": "[encoded data removed]",
      "text/plain": [
       "<Figure size 720x576 with 1 Axes>"
      ]
     },
     "metadata": {
      "needs_background": "light"
     },
     "output_type": "display_data"
    }
   ],
   "source": [
    "figure(figsize=(10,8))\n",
    "plot(n,W,'-o',label='Player 1 Win')\n",
    "plot(n,L,'-o',label='Player 1 Losses')\n",
    "plot(n,T,'-o',label='Ties')\n",
    "legend()"
   ]
  },
  {
   "cell_type": "markdown",
   "metadata": {},
   "source": [
    "### Running the Game - naive Skittles 1 vs naive Skittles 2"
   ]
  },
  {
   "cell_type": "code",
   "execution_count": 20,
   "metadata": {},
   "outputs": [],
   "source": [
    "skittles_agent1=Agent(skittles_move)\n",
    "skittles_agent1.S=Table()            # start with a blank table\n",
    "skittles_agent1.post=skittles_after\n",
    "\n",
    "\n",
    "skittles_agent2=Agent(skittles_move)\n",
    "skittles_agent2.S=Table()            # start with a blank table\n",
    "skittles_agent2.post=skittles_after"
   ]
  },
  {
   "cell_type": "code",
   "execution_count": 21,
   "metadata": {},
   "outputs": [
    {
     "name": "stdout",
     "output_type": "stream",
     "text": [
      "57.90  58.60  52.00  51.70  51.20  47.30  46.70  45.60  43.20  43.80  39.80  42.90  38.10  33.30  33.80  24.80  19.60  14.30  12.90  9.80  8.10  6.20  6.40  4.30  4.10  3.50  3.30  3.40  2.30  1.50  1.50  1.80  1.70  1.40  1.10  0.80  0.70  0.60  0.60  0.50  0.40  0.40  0.20  0.10  0.40  0.10  0.10  0.10  0.10  0.10  0.00  0.10  0.00  0.20  0.00  0.10  0.10  0.00  0.10  0.10  0.00  0.10  0.00  0.00  0.00  0.00  0.00  0.00  0.10  0.00  0.00  0.00  0.00  0.00  0.00  0.00  0.00  0.00  0.00  0.00  0.00  0.00  0.00  0.00  0.00  0.00  0.00  0.00  0.00  0.00  0.00  0.00  0.00  0.00  0.00  0.00  0.00  0.00  0.00  0.00  "
     ]
    }
   ],
   "source": [
    "W=[]\n",
    "L=[]\n",
    "T=[]\n",
    "\n",
    "n=[]\n",
    "total_games=0\n",
    "for i in range(100):\n",
    "    g=Game(number_of_games=1000)\n",
    "    g.display=False\n",
    "    result=g.run(skittles_agent1,skittles_agent2)\n",
    "\n",
    "    SaveTable(skittles_agent1.S,\"TTT Skittles 1 Int.json\")\n",
    "    SaveTable(skittles_agent2.S,\"TTT Skittles 2 Int.json\")\n",
    "\n",
    "    percent_wins=sum([_==1 for _ in result])/len(result)*100\n",
    "    percent_losses=sum([_==2 for _ in result])/len(result)*100\n",
    "    percent_ties=sum([_==0 for _ in result])/len(result)*100\n",
    "\n",
    "    total_games+=g.number_of_games\n",
    "    n.append(total_games)\n",
    "    W.append(percent_wins)\n",
    "    L.append(percent_losses)\n",
    "    T.append(percent_ties)\n",
    "    print('%.2f' % percent_wins,\" \",end=\"\")"
   ]
  },
  {
   "cell_type": "code",
   "execution_count": 22,
   "metadata": {},
   "outputs": [
    {
     "data": {
      "text/plain": [
       "<matplotlib.legend.Legend at 0x11794ae10>"
      ]
     },
     "execution_count": 22,
     "metadata": {},
     "output_type": "execute_result"
    },
    {
     "data": {
      "image/png": "[encoded data removed]",
      "text/plain": [
       "<Figure size 720x576 with 1 Axes>"
      ]
     },
     "metadata": {
      "needs_background": "light"
     },
     "output_type": "display_data"
    }
   ],
   "source": [
    "figure(figsize=(10,8))\n",
    "plot(n,W,'-o',label='Player 1 Win')\n",
    "plot(n,L,'-o',label='Player 1 Losses')\n",
    "plot(n,T,'-o',label='Ties')\n",
    "legend()"
   ]
  },
  {
   "cell_type": "code",
   "execution_count": null,
   "metadata": {},
   "outputs": [],
   "source": []
  },
  {
   "cell_type": "code",
   "execution_count": 25,
   "metadata": {},
   "outputs": [
    {
     "name": "stdout",
     "output_type": "stream",
     "text": [
      "77188\n"
     ]
    }
   ],
   "source": [
    "import pickle\n",
    "s=pickle.dumps(skittles_agent1.S)\n",
    "print(len(s))"
   ]
  },
  {
   "cell_type": "code",
   "execution_count": null,
   "metadata": {},
   "outputs": [],
   "source": []
  }
 ],
 "metadata": {
  "kernelspec": {
   "display_name": "Python 3",
   "language": "python",
   "name": "python3"
  },
  "language_info": {
   "codemirror_mode": {
    "name": "ipython",
    "version": 3
   },
   "file_extension": ".py",
   "mimetype": "text/x-python",
   "name": "python",
   "nbconvert_exporter": "python",
   "pygments_lexer": "ipython3",
   "version": "3.7.4"
  }
 },
 "nbformat": 4,
 "nbformat_minor": 4
}

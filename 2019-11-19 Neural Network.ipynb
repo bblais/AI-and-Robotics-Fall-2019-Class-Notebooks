{
 "cells": [
  {
   "cell_type": "code",
   "execution_count": 1,
   "metadata": {},
   "outputs": [
    {
     "name": "stdout",
     "output_type": "stream",
     "text": [
      "Populating the interactive namespace from numpy and matplotlib\n"
     ]
    }
   ],
   "source": [
    "%pylab inline"
   ]
  },
  {
   "cell_type": "markdown",
   "metadata": {},
   "source": [
    "    pip install \"git+git://github.com/bblais/classy\" --upgrade"
   ]
  },
  {
   "cell_type": "code",
   "execution_count": 2,
   "metadata": {},
   "outputs": [
    {
     "name": "stdout",
     "output_type": "stream",
     "text": [
      "Version:  0.0.25\n"
     ]
    }
   ],
   "source": [
    "from classy import *"
   ]
  },
  {
   "cell_type": "markdown",
   "metadata": {},
   "source": [
    "#### Please *please* **please** keep your data somewhere outside of our shared google drive.  I don't want 30 copies of big image data sets."
   ]
  },
  {
   "cell_type": "code",
   "execution_count": 3,
   "metadata": {},
   "outputs": [
    {
     "name": "stdout",
     "output_type": "stream",
     "text": [
      "iris.data 151 5\n",
      "150 vectors of length 4\n",
      "Feature names: 'petal length in cm', 'petal width in cm', 'sepal length in cm', 'sepal width in cm'\n",
      "Target values given.\n",
      "Target names: 'Iris-setosa', 'Iris-versicolor', 'Iris-virginica'\n",
      "Mean:  [3.75866667 1.19866667 5.84333333 3.054     ]\n",
      "Median:  [4.35 1.3  5.8  3.  ]\n",
      "Stddev:  [1.75852918 0.76061262 0.82530129 0.43214658]\n"
     ]
    }
   ],
   "source": [
    "data=load_excel('/Users/bblais/Desktop/ai373/data/iris.xls',verbose=True)"
   ]
  },
  {
   "cell_type": "code",
   "execution_count": 5,
   "metadata": {},
   "outputs": [
    {
     "data": {
      "text/plain": [
       "{'vectors': array([[1.4, 0.2, 5.1, 3.5],\n",
       "        [1.4, 0.2, 4.9, 3. ],\n",
       "        [1.3, 0.2, 4.7, 3.2],\n",
       "        [1.5, 0.2, 4.6, 3.1],\n",
       "        [1.4, 0.2, 5. , 3.6],\n",
       "        [1.7, 0.4, 5.4, 3.9],\n",
       "        [1.4, 0.3, 4.6, 3.4],\n",
       "        [1.5, 0.2, 5. , 3.4],\n",
       "        [1.4, 0.2, 4.4, 2.9],\n",
       "        [1.5, 0.1, 4.9, 3.1],\n",
       "        [1.5, 0.2, 5.4, 3.7],\n",
       "        [1.6, 0.2, 4.8, 3.4],\n",
       "        [1.4, 0.1, 4.8, 3. ],\n",
       "        [1.1, 0.1, 4.3, 3. ],\n",
       "        [1.2, 0.2, 5.8, 4. ],\n",
       "        [1.5, 0.4, 5.7, 4.4],\n",
       "        [1.3, 0.4, 5.4, 3.9],\n",
       "        [1.4, 0.3, 5.1, 3.5],\n",
       "        [1.7, 0.3, 5.7, 3.8],\n",
       "        [1.5, 0.3, 5.1, 3.8],\n",
       "        [1.7, 0.2, 5.4, 3.4],\n",
       "        [1.5, 0.4, 5.1, 3.7],\n",
       "        [1. , 0.2, 4.6, 3.6],\n",
       "        [1.7, 0.5, 5.1, 3.3],\n",
       "        [1.9, 0.2, 4.8, 3.4],\n",
       "        [1.6, 0.2, 5. , 3. ],\n",
       "        [1.6, 0.4, 5. , 3.4],\n",
       "        [1.5, 0.2, 5.2, 3.5],\n",
       "        [1.4, 0.2, 5.2, 3.4],\n",
       "        [1.6, 0.2, 4.7, 3.2],\n",
       "        [1.6, 0.2, 4.8, 3.1],\n",
       "        [1.5, 0.4, 5.4, 3.4],\n",
       "        [1.5, 0.1, 5.2, 4.1],\n",
       "        [1.4, 0.2, 5.5, 4.2],\n",
       "        [1.5, 0.1, 4.9, 3.1],\n",
       "        [1.2, 0.2, 5. , 3.2],\n",
       "        [1.3, 0.2, 5.5, 3.5],\n",
       "        [1.5, 0.1, 4.9, 3.1],\n",
       "        [1.3, 0.2, 4.4, 3. ],\n",
       "        [1.5, 0.2, 5.1, 3.4],\n",
       "        [1.3, 0.3, 5. , 3.5],\n",
       "        [1.3, 0.3, 4.5, 2.3],\n",
       "        [1.3, 0.2, 4.4, 3.2],\n",
       "        [1.6, 0.6, 5. , 3.5],\n",
       "        [1.9, 0.4, 5.1, 3.8],\n",
       "        [1.4, 0.3, 4.8, 3. ],\n",
       "        [1.6, 0.2, 5.1, 3.8],\n",
       "        [1.4, 0.2, 4.6, 3.2],\n",
       "        [1.5, 0.2, 5.3, 3.7],\n",
       "        [1.4, 0.2, 5. , 3.3],\n",
       "        [4.7, 1.4, 7. , 3.2],\n",
       "        [4.5, 1.5, 6.4, 3.2],\n",
       "        [4.9, 1.5, 6.9, 3.1],\n",
       "        [4. , 1.3, 5.5, 2.3],\n",
       "        [4.6, 1.5, 6.5, 2.8],\n",
       "        [4.5, 1.3, 5.7, 2.8],\n",
       "        [4.7, 1.6, 6.3, 3.3],\n",
       "        [3.3, 1. , 4.9, 2.4],\n",
       "        [4.6, 1.3, 6.6, 2.9],\n",
       "        [3.9, 1.4, 5.2, 2.7],\n",
       "        [3.5, 1. , 5. , 2. ],\n",
       "        [4.2, 1.5, 5.9, 3. ],\n",
       "        [4. , 1. , 6. , 2.2],\n",
       "        [4.7, 1.4, 6.1, 2.9],\n",
       "        [3.6, 1.3, 5.6, 2.9],\n",
       "        [4.4, 1.4, 6.7, 3.1],\n",
       "        [4.5, 1.5, 5.6, 3. ],\n",
       "        [4.1, 1. , 5.8, 2.7],\n",
       "        [4.5, 1.5, 6.2, 2.2],\n",
       "        [3.9, 1.1, 5.6, 2.5],\n",
       "        [4.8, 1.8, 5.9, 3.2],\n",
       "        [4. , 1.3, 6.1, 2.8],\n",
       "        [4.9, 1.5, 6.3, 2.5],\n",
       "        [4.7, 1.2, 6.1, 2.8],\n",
       "        [4.3, 1.3, 6.4, 2.9],\n",
       "        [4.4, 1.4, 6.6, 3. ],\n",
       "        [4.8, 1.4, 6.8, 2.8],\n",
       "        [5. , 1.7, 6.7, 3. ],\n",
       "        [4.5, 1.5, 6. , 2.9],\n",
       "        [3.5, 1. , 5.7, 2.6],\n",
       "        [3.8, 1.1, 5.5, 2.4],\n",
       "        [3.7, 1. , 5.5, 2.4],\n",
       "        [3.9, 1.2, 5.8, 2.7],\n",
       "        [5.1, 1.6, 6. , 2.7],\n",
       "        [4.5, 1.5, 5.4, 3. ],\n",
       "        [4.5, 1.6, 6. , 3.4],\n",
       "        [4.7, 1.5, 6.7, 3.1],\n",
       "        [4.4, 1.3, 6.3, 2.3],\n",
       "        [4.1, 1.3, 5.6, 3. ],\n",
       "        [4. , 1.3, 5.5, 2.5],\n",
       "        [4.4, 1.2, 5.5, 2.6],\n",
       "        [4.6, 1.4, 6.1, 3. ],\n",
       "        [4. , 1.2, 5.8, 2.6],\n",
       "        [3.3, 1. , 5. , 2.3],\n",
       "        [4.2, 1.3, 5.6, 2.7],\n",
       "        [4.2, 1.2, 5.7, 3. ],\n",
       "        [4.2, 1.3, 5.7, 2.9],\n",
       "        [4.3, 1.3, 6.2, 2.9],\n",
       "        [3. , 1.1, 5.1, 2.5],\n",
       "        [4.1, 1.3, 5.7, 2.8],\n",
       "        [6. , 2.5, 6.3, 3.3],\n",
       "        [5.1, 1.9, 5.8, 2.7],\n",
       "        [5.9, 2.1, 7.1, 3. ],\n",
       "        [5.6, 1.8, 6.3, 2.9],\n",
       "        [5.8, 2.2, 6.5, 3. ],\n",
       "        [6.6, 2.1, 7.6, 3. ],\n",
       "        [4.5, 1.7, 4.9, 2.5],\n",
       "        [6.3, 1.8, 7.3, 2.9],\n",
       "        [5.8, 1.8, 6.7, 2.5],\n",
       "        [6.1, 2.5, 7.2, 3.6],\n",
       "        [5.1, 2. , 6.5, 3.2],\n",
       "        [5.3, 1.9, 6.4, 2.7],\n",
       "        [5.5, 2.1, 6.8, 3. ],\n",
       "        [5. , 2. , 5.7, 2.5],\n",
       "        [5.1, 2.4, 5.8, 2.8],\n",
       "        [5.3, 2.3, 6.4, 3.2],\n",
       "        [5.5, 1.8, 6.5, 3. ],\n",
       "        [6.7, 2.2, 7.7, 3.8],\n",
       "        [6.9, 2.3, 7.7, 2.6],\n",
       "        [5. , 1.5, 6. , 2.2],\n",
       "        [5.7, 2.3, 6.9, 3.2],\n",
       "        [4.9, 2. , 5.6, 2.8],\n",
       "        [6.7, 2. , 7.7, 2.8],\n",
       "        [4.9, 1.8, 6.3, 2.7],\n",
       "        [5.7, 2.1, 6.7, 3.3],\n",
       "        [6. , 1.8, 7.2, 3.2],\n",
       "        [4.8, 1.8, 6.2, 2.8],\n",
       "        [4.9, 1.8, 6.1, 3. ],\n",
       "        [5.6, 2.1, 6.4, 2.8],\n",
       "        [5.8, 1.6, 7.2, 3. ],\n",
       "        [6.1, 1.9, 7.4, 2.8],\n",
       "        [6.4, 2. , 7.9, 3.8],\n",
       "        [5.6, 2.2, 6.4, 2.8],\n",
       "        [5.1, 1.5, 6.3, 2.8],\n",
       "        [5.6, 1.4, 6.1, 2.6],\n",
       "        [6.1, 2.3, 7.7, 3. ],\n",
       "        [5.6, 2.4, 6.3, 3.4],\n",
       "        [5.5, 1.8, 6.4, 3.1],\n",
       "        [4.8, 1.8, 6. , 3. ],\n",
       "        [5.4, 2.1, 6.9, 3.1],\n",
       "        [5.6, 2.4, 6.7, 3.1],\n",
       "        [5.1, 2.3, 6.9, 3.1],\n",
       "        [5.1, 1.9, 5.8, 2.7],\n",
       "        [5.9, 2.3, 6.8, 3.2],\n",
       "        [5.7, 2.5, 6.7, 3.3],\n",
       "        [5.2, 2.3, 6.7, 3. ],\n",
       "        [5. , 1.9, 6.3, 2.5],\n",
       "        [5.2, 2. , 6.5, 3. ],\n",
       "        [5.4, 2.3, 6.2, 3.4],\n",
       "        [5.1, 1.8, 5.9, 3. ]]),\n",
       " 'targets': array([0, 0, 0, 0, 0, 0, 0, 0, 0, 0, 0, 0, 0, 0, 0, 0, 0, 0, 0, 0, 0, 0,\n",
       "        0, 0, 0, 0, 0, 0, 0, 0, 0, 0, 0, 0, 0, 0, 0, 0, 0, 0, 0, 0, 0, 0,\n",
       "        0, 0, 0, 0, 0, 0, 1, 1, 1, 1, 1, 1, 1, 1, 1, 1, 1, 1, 1, 1, 1, 1,\n",
       "        1, 1, 1, 1, 1, 1, 1, 1, 1, 1, 1, 1, 1, 1, 1, 1, 1, 1, 1, 1, 1, 1,\n",
       "        1, 1, 1, 1, 1, 1, 1, 1, 1, 1, 1, 1, 2, 2, 2, 2, 2, 2, 2, 2, 2, 2,\n",
       "        2, 2, 2, 2, 2, 2, 2, 2, 2, 2, 2, 2, 2, 2, 2, 2, 2, 2, 2, 2, 2, 2,\n",
       "        2, 2, 2, 2, 2, 2, 2, 2, 2, 2, 2, 2, 2, 2, 2, 2, 2, 2]),\n",
       " 'target_names': ['Iris-setosa', 'Iris-versicolor', 'Iris-virginica'],\n",
       " 'feature_names': ['petal length in cm',\n",
       "  'petal width in cm',\n",
       "  'sepal length in cm',\n",
       "  'sepal width in cm'],\n",
       " 'vectorizer': DictVectorizer(dtype=<class 'numpy.float64'>, separator='=', sort=True,\n",
       "                sparse=False)}"
      ]
     },
     "execution_count": 5,
     "metadata": {},
     "output_type": "execute_result"
    }
   ],
   "source": [
    "data"
   ]
  },
  {
   "cell_type": "code",
   "execution_count": 5,
   "metadata": {},
   "outputs": [
    {
     "data": {
      "text/plain": [
       "(150, 4)"
      ]
     },
     "execution_count": 5,
     "metadata": {},
     "output_type": "execute_result"
    }
   ],
   "source": [
    "data.vectors.shape"
   ]
  },
  {
   "cell_type": "code",
   "execution_count": 7,
   "metadata": {},
   "outputs": [],
   "source": [
    "subset=extract_features(data,[0,2])"
   ]
  },
  {
   "cell_type": "code",
   "execution_count": 8,
   "metadata": {},
   "outputs": [
    {
     "data": {
      "image/png": "[encoded data removed]",
      "text/plain": [
       "<Figure size 720x576 with 1 Axes>"
      ]
     },
     "metadata": {
      "needs_background": "light"
     },
     "output_type": "display_data"
    }
   ],
   "source": [
    "plot2D(subset,legend_location='upper left')"
   ]
  },
  {
   "cell_type": "code",
   "execution_count": null,
   "metadata": {},
   "outputs": [],
   "source": []
  },
  {
   "cell_type": "markdown",
   "metadata": {},
   "source": [
    "## Classification"
   ]
  },
  {
   "cell_type": "code",
   "execution_count": 8,
   "metadata": {},
   "outputs": [],
   "source": [
    "C=Perceptron()"
   ]
  },
  {
   "cell_type": "code",
   "execution_count": 9,
   "metadata": {},
   "outputs": [
    {
     "name": "stdout",
     "output_type": "stream",
     "text": [
      "Original vector shape:  (150, 4)\n",
      "Train vector shape:  (120, 4)\n",
      "Test vector shape:  (30, 4)\n"
     ]
    }
   ],
   "source": [
    "data_train,data_test=split(data,test_size=0.2)"
   ]
  },
  {
   "cell_type": "code",
   "execution_count": 10,
   "metadata": {},
   "outputs": [
    {
     "name": "stdout",
     "output_type": "stream",
     "text": [
      "Time Reset\n",
      "Training time:  0.008910894393920898 seconds \n"
     ]
    }
   ],
   "source": [
    "timeit(reset=True)\n",
    "C.fit(data_train.vectors,data_train.targets)\n",
    "print(\"Training time: \",timeit())"
   ]
  },
  {
   "cell_type": "code",
   "execution_count": 11,
   "metadata": {},
   "outputs": [
    {
     "name": "stdout",
     "output_type": "stream",
     "text": [
      "On Training Set: 70.83333333333334\n",
      "On Test Set: 56.666666666666664\n"
     ]
    }
   ],
   "source": [
    "print(\"On Training Set:\",C.percent_correct(data_train.vectors,data_train.targets))\n",
    "print(\"On Test Set:\",C.percent_correct(data_test.vectors,data_test.targets))"
   ]
  },
  {
   "cell_type": "code",
   "execution_count": 12,
   "metadata": {},
   "outputs": [
    {
     "data": {
      "text/plain": [
       "array([[-12.4,  -6.5,   3.5,   8.6],\n",
       "       [ 12.5, -26.1,  11.4, -30.7],\n",
       "       [ 46.6,  53.9, -43.1, -33. ]])"
      ]
     },
     "execution_count": 12,
     "metadata": {},
     "output_type": "execute_result"
    }
   ],
   "source": [
    "C.weights"
   ]
  },
  {
   "cell_type": "code",
   "execution_count": 53,
   "metadata": {},
   "outputs": [
    {
     "data": {
      "text/plain": [
       "array([0])"
      ]
     },
     "execution_count": 53,
     "metadata": {},
     "output_type": "execute_result"
    }
   ],
   "source": [
    "C.predict(array([1.5,5]).reshape(1, -1))"
   ]
  },
  {
   "cell_type": "code",
   "execution_count": 54,
   "metadata": {},
   "outputs": [
    {
     "data": {
      "text/plain": [
       "array([[   6.15,   -1.5 , -189.6 ]])"
      ]
     },
     "execution_count": 54,
     "metadata": {},
     "output_type": "execute_result"
    }
   ],
   "source": [
    "C.output(array([1.5,5]).reshape(1, -1))"
   ]
  },
  {
   "cell_type": "code",
   "execution_count": 55,
   "metadata": {},
   "outputs": [],
   "source": [
    "X=array([1.5,5]).reshape(1, -1)"
   ]
  },
  {
   "cell_type": "code",
   "execution_count": 56,
   "metadata": {},
   "outputs": [
    {
     "data": {
      "text/plain": [
       "array([[1.5, 5. ]])"
      ]
     },
     "execution_count": 56,
     "metadata": {},
     "output_type": "execute_result"
    }
   ],
   "source": [
    "X"
   ]
  },
  {
   "cell_type": "code",
   "execution_count": 57,
   "metadata": {},
   "outputs": [
    {
     "data": {
      "text/plain": [
       "array([[   6.15,   -1.5 , -189.6 ]])"
      ]
     },
     "execution_count": 57,
     "metadata": {},
     "output_type": "execute_result"
    }
   ],
   "source": [
    "dot(X,C.weights.T)+C.biases"
   ]
  },
  {
   "cell_type": "code",
   "execution_count": 58,
   "metadata": {},
   "outputs": [
    {
     "data": {
      "image/png": "[encoded data removed]",
      "text/plain": [
       "<Figure size 720x576 with 1 Axes>"
      ]
     },
     "metadata": {
      "needs_background": "light"
     },
     "output_type": "display_data"
    }
   ],
   "source": [
    "plot2D(data_train,C)"
   ]
  },
  {
   "cell_type": "code",
   "execution_count": 13,
   "metadata": {},
   "outputs": [],
   "source": [
    "C=BackProp(max_iter=6000)"
   ]
  },
  {
   "cell_type": "code",
   "execution_count": 14,
   "metadata": {},
   "outputs": [
    {
     "name": "stdout",
     "output_type": "stream",
     "text": [
      "Time Reset\n",
      "Training time:  3.7324271202087402 seconds \n"
     ]
    },
    {
     "name": "stderr",
     "output_type": "stream",
     "text": [
      "/Users/bblais/anaconda3/lib/python3.7/site-packages/sklearn/neural_network/multilayer_perceptron.py:566: ConvergenceWarning: Stochastic Optimizer: Maximum iterations (6000) reached and the optimization hasn't converged yet.\n",
      "  % self.max_iter, ConvergenceWarning)\n"
     ]
    }
   ],
   "source": [
    "timeit(reset=True)\n",
    "C.fit(data_train.vectors,data_train.targets)\n",
    "print(\"Training time: \",timeit())"
   ]
  },
  {
   "cell_type": "code",
   "execution_count": 15,
   "metadata": {},
   "outputs": [
    {
     "name": "stdout",
     "output_type": "stream",
     "text": [
      "On Training Set: 100.0\n",
      "On Test Set: 86.66666666666667\n"
     ]
    }
   ],
   "source": [
    "print(\"On Training Set:\",C.percent_correct(data_train.vectors,data_train.targets))\n",
    "print(\"On Test Set:\",C.percent_correct(data_test.vectors,data_test.targets))"
   ]
  },
  {
   "cell_type": "code",
   "execution_count": 16,
   "metadata": {},
   "outputs": [
    {
     "ename": "AssertionError",
     "evalue": "Function only works for 2D data.",
     "output_type": "error",
     "traceback": [
      "\u001b[0;31m---------------------------------------------------------------------------\u001b[0m",
      "\u001b[0;31mAssertionError\u001b[0m                            Traceback (most recent call last)",
      "\u001b[0;32m<ipython-input-16-584d4ed4bcaa>\u001b[0m in \u001b[0;36m<module>\u001b[0;34m\u001b[0m\n\u001b[0;32m----> 1\u001b[0;31m \u001b[0mplot2D\u001b[0m\u001b[0;34m(\u001b[0m\u001b[0mdata_train\u001b[0m\u001b[0;34m,\u001b[0m\u001b[0mC\u001b[0m\u001b[0;34m,\u001b[0m\u001b[0mnumber_of_grid_points\u001b[0m\u001b[0;34m=\u001b[0m\u001b[0;36m300\u001b[0m\u001b[0;34m)\u001b[0m\u001b[0;34m\u001b[0m\u001b[0;34m\u001b[0m\u001b[0m\n\u001b[0m",
      "\u001b[0;32m~/anaconda3/lib/python3.7/site-packages/classy/utils.py\u001b[0m in \u001b[0;36mplot2D\u001b[0;34m(data, classifier, axis_range, number_of_grid_points, legend_location)\u001b[0m\n\u001b[1;32m    179\u001b[0m \u001b[0;34m\u001b[0m\u001b[0m\n\u001b[1;32m    180\u001b[0m \u001b[0;34m\u001b[0m\u001b[0m\n\u001b[0;32m--> 181\u001b[0;31m     \u001b[0;32massert\u001b[0m \u001b[0mlen\u001b[0m\u001b[0;34m(\u001b[0m\u001b[0mdata\u001b[0m\u001b[0;34m.\u001b[0m\u001b[0mfeature_names\u001b[0m\u001b[0;34m)\u001b[0m\u001b[0;34m==\u001b[0m\u001b[0;36m2\u001b[0m\u001b[0;34m,\u001b[0m\u001b[0;34m\"Function only works for 2D data.\"\u001b[0m\u001b[0;34m\u001b[0m\u001b[0;34m\u001b[0m\u001b[0m\n\u001b[0m\u001b[1;32m    182\u001b[0m     \u001b[0;32massert\u001b[0m \u001b[0mlen\u001b[0m\u001b[0;34m(\u001b[0m\u001b[0mdata\u001b[0m\u001b[0;34m.\u001b[0m\u001b[0mtarget_names\u001b[0m\u001b[0;34m)\u001b[0m\u001b[0;34m<=\u001b[0m\u001b[0mlen\u001b[0m\u001b[0;34m(\u001b[0m\u001b[0mbold_colors\u001b[0m\u001b[0;34m)\u001b[0m\u001b[0;34m,\u001b[0m\u001b[0;34m\"Only %d target colors implemented.\"\u001b[0m \u001b[0;34m%\u001b[0m \u001b[0;34m(\u001b[0m\u001b[0mlen\u001b[0m\u001b[0;34m(\u001b[0m\u001b[0mcmap_bold\u001b[0m\u001b[0;34m.\u001b[0m\u001b[0mcolors\u001b[0m\u001b[0;34m)\u001b[0m\u001b[0;34m)\u001b[0m\u001b[0;34m\u001b[0m\u001b[0;34m\u001b[0m\u001b[0m\n\u001b[1;32m    183\u001b[0m \u001b[0;34m\u001b[0m\u001b[0m\n",
      "\u001b[0;31mAssertionError\u001b[0m: Function only works for 2D data."
     ]
    }
   ],
   "source": [
    "plot2D(data_train,C,number_of_grid_points=300)"
   ]
  },
  {
   "cell_type": "code",
   "execution_count": 82,
   "metadata": {},
   "outputs": [
    {
     "data": {
      "text/plain": [
       "[(2, 100), (100, 3)]"
      ]
     },
     "execution_count": 82,
     "metadata": {},
     "output_type": "execute_result"
    }
   ],
   "source": [
    "[w.shape for w in C.weights]"
   ]
  },
  {
   "cell_type": "code",
   "execution_count": null,
   "metadata": {},
   "outputs": [],
   "source": []
  }
 ],
 "metadata": {
  "kernelspec": {
   "display_name": "Python 3",
   "language": "python",
   "name": "python3"
  },
  "language_info": {
   "codemirror_mode": {
    "name": "ipython",
    "version": 3
   },
   "file_extension": ".py",
   "mimetype": "text/x-python",
   "name": "python",
   "nbconvert_exporter": "python",
   "pygments_lexer": "ipython3",
   "version": "3.7.4"
  }
 },
 "nbformat": 4,
 "nbformat_minor": 4
}
